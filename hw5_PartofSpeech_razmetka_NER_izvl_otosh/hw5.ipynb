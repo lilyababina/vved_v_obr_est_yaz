{
  "nbformat": 4,
  "nbformat_minor": 0,
  "metadata": {
    "colab": {
      "name": "HW5_colab.ipynb",
      "provenance": [],
      "collapsed_sections": []
    },
    "kernelspec": {
      "name": "python3",
      "display_name": "Python 3"
    },
    "language_info": {
      "name": "python"
    }
  },
  "cells": [
    {
      "cell_type": "markdown",
      "metadata": {
        "id": "IkpcHsV8RWHA"
      },
      "source": [
        "## Задание 1"
      ]
    },
    {
      "cell_type": "markdown",
      "metadata": {
        "id": "aAQBOJRARev7"
      },
      "source": [
        "**Написать теггер на данных с руским языком**\n",
        "1. проверить UnigramTagger, BigramTagger, TrigramTagger и их комбмнации\n",
        "2. написать свой теггер как на занятии, попробовать разные векторайзеры, добавить знание не только букв но и слов\n",
        "3. сравнить все реализованные методы сделать выводы\n"
      ]
    },
    {
      "cell_type": "markdown",
      "metadata": {
        "id": "_16J0ER8WOJx"
      },
      "source": [
        "## загрузка данных"
      ]
    },
    {
      "cell_type": "code",
      "metadata": {
        "colab": {
          "base_uri": "https://localhost:8080/"
        },
        "id": "yPRx8Cu_RDY1",
        "outputId": "0253ba6b-b6b1-422c-c9f8-40585a381bad"
      },
      "source": [
        "!pip install pyconll"
      ],
      "execution_count": 1,
      "outputs": [
        {
          "output_type": "stream",
          "text": [
            "Collecting pyconll\n",
            "  Downloading pyconll-3.1.0-py3-none-any.whl (26 kB)\n",
            "Installing collected packages: pyconll\n",
            "Successfully installed pyconll-3.1.0\n"
          ],
          "name": "stdout"
        }
      ]
    },
    {
      "cell_type": "code",
      "metadata": {
        "id": "9wgL-33mWUyZ"
      },
      "source": [
        "import pyconll"
      ],
      "execution_count": 2,
      "outputs": []
    },
    {
      "cell_type": "code",
      "metadata": {
        "id": "vXxwW9NzW570"
      },
      "source": [
        "!mkdir datasets"
      ],
      "execution_count": 3,
      "outputs": []
    },
    {
      "cell_type": "code",
      "metadata": {
        "colab": {
          "base_uri": "https://localhost:8080/"
        },
        "id": "tpwgA3svWiRw",
        "outputId": "402cbcde-c4ae-4642-b3b2-2d2c181e61b1"
      },
      "source": [
        "!wget -O ./datasets/ru_syntagrus-ud-train.conllu https://raw.githubusercontent.com/UniversalDependencies/UD_Russian-SynTagRus/master/ru_syntagrus-ud-train.conllu\n",
        "!wget -O ./datasets/ru_syntagrus-ud-dev.conllu https://raw.githubusercontent.com/UniversalDependencies/UD_Russian-SynTagRus/master/ru_syntagrus-ud-dev.conllu"
      ],
      "execution_count": 4,
      "outputs": [
        {
          "output_type": "stream",
          "text": [
            "--2021-07-29 06:08:35--  https://raw.githubusercontent.com/UniversalDependencies/UD_Russian-SynTagRus/master/ru_syntagrus-ud-train.conllu\n",
            "Resolving raw.githubusercontent.com (raw.githubusercontent.com)... 185.199.108.133, 185.199.109.133, 185.199.110.133, ...\n",
            "Connecting to raw.githubusercontent.com (raw.githubusercontent.com)|185.199.108.133|:443... connected.\n",
            "HTTP request sent, awaiting response... 200 OK\n",
            "Length: 81039282 (77M) [text/plain]\n",
            "Saving to: ‘./datasets/ru_syntagrus-ud-train.conllu’\n",
            "\n",
            "./datasets/ru_synta 100%[===================>]  77.28M   136MB/s    in 0.6s    \n",
            "\n",
            "2021-07-29 06:08:37 (136 MB/s) - ‘./datasets/ru_syntagrus-ud-train.conllu’ saved [81039282/81039282]\n",
            "\n",
            "--2021-07-29 06:08:37--  https://raw.githubusercontent.com/UniversalDependencies/UD_Russian-SynTagRus/master/ru_syntagrus-ud-dev.conllu\n",
            "Resolving raw.githubusercontent.com (raw.githubusercontent.com)... 185.199.108.133, 185.199.109.133, 185.199.110.133, ...\n",
            "Connecting to raw.githubusercontent.com (raw.githubusercontent.com)|185.199.108.133|:443... connected.\n",
            "HTTP request sent, awaiting response... 200 OK\n",
            "Length: 10902738 (10M) [text/plain]\n",
            "Saving to: ‘./datasets/ru_syntagrus-ud-dev.conllu’\n",
            "\n",
            "./datasets/ru_synta 100%[===================>]  10.40M  55.0MB/s    in 0.2s    \n",
            "\n",
            "2021-07-29 06:08:38 (55.0 MB/s) - ‘./datasets/ru_syntagrus-ud-dev.conllu’ saved [10902738/10902738]\n",
            "\n"
          ],
          "name": "stdout"
        }
      ]
    },
    {
      "cell_type": "code",
      "metadata": {
        "id": "yHOvwDUz6CSI"
      },
      "source": [
        "import pyconll\n",
        "\n",
        "import warnings\n",
        "warnings.filterwarnings(\"ignore\")\n",
        "\n",
        "import nltk\n",
        "from nltk.corpus import brown\n",
        "from nltk.tag import DefaultTagger\n",
        "from nltk.tag import UnigramTagger\n",
        "from nltk.tag import BigramTagger, TrigramTagger\n",
        "\n",
        "from sklearn.feature_extraction.text import CountVectorizer, HashingVectorizer, TfidfVectorizer\n",
        "from sklearn.preprocessing import StandardScaler\n",
        "from sklearn.linear_model import LogisticRegression\n",
        "from sklearn.metrics import accuracy_score\n",
        "\n",
        "from sklearn.preprocessing import LabelEncoder"
      ],
      "execution_count": 5,
      "outputs": []
    },
    {
      "cell_type": "code",
      "metadata": {
        "id": "Oymo30RBWjjl"
      },
      "source": [
        "full_train = pyconll.load_from_file('datasets/ru_syntagrus-ud-train.conllu')\n",
        "full_test = pyconll.load_from_file('datasets/ru_syntagrus-ud-dev.conllu')"
      ],
      "execution_count": 6,
      "outputs": []
    },
    {
      "cell_type": "code",
      "metadata": {
        "colab": {
          "base_uri": "https://localhost:8080/"
        },
        "id": "XBzFe82cXGNK",
        "outputId": "83631e27-ae84-49ec-b964-a17b6e0607d5"
      },
      "source": [
        "for sent in full_train[:2]:\n",
        "    for token in sent:\n",
        "        print(token.form, token.upos)\n",
        "    print()"
      ],
      "execution_count": 10,
      "outputs": [
        {
          "output_type": "stream",
          "text": [
            "Анкета NOUN\n",
            ". PUNCT\n",
            "\n",
            "Начальник NOUN\n",
            "областного ADJ\n",
            "управления NOUN\n",
            "связи NOUN\n",
            "Семен PROPN\n",
            "Еремеевич PROPN\n",
            "был AUX\n",
            "человек NOUN\n",
            "простой ADJ\n",
            ", PUNCT\n",
            "приходил VERB\n",
            "на ADP\n",
            "работу NOUN\n",
            "всегда ADV\n",
            "вовремя ADV\n",
            ", PUNCT\n",
            "здоровался VERB\n",
            "с ADP\n",
            "секретаршей NOUN\n",
            "за ADP\n",
            "руку NOUN\n",
            "и CCONJ\n",
            "иногда ADV\n",
            "даже PART\n",
            "писал VERB\n",
            "в ADP\n",
            "стенгазету NOUN\n",
            "заметки NOUN\n",
            "под ADP\n",
            "псевдонимом NOUN\n",
            "\" PUNCT\n",
            "Муха NOUN\n",
            "\" PUNCT\n",
            ". PUNCT\n",
            "\n"
          ],
          "name": "stdout"
        }
      ]
    },
    {
      "cell_type": "code",
      "metadata": {
        "id": "OshO48XLXQar",
        "colab": {
          "base_uri": "https://localhost:8080/"
        },
        "outputId": "4d1a8bea-c05c-4cfe-d53c-c73138f50c3c"
      },
      "source": [
        "fdata_train = []\n",
        "for sent in full_train[:]:\n",
        "    fdata_train.append([(token.form, token.upos) for token in sent])\n",
        "    \n",
        "fdata_test = []\n",
        "for sent in full_test[:]:\n",
        "    fdata_test.append([(token.form, token.upos) for token in sent])\n",
        "    \n",
        "fdata_sent_test = []\n",
        "for sent in full_test[:]:\n",
        "    fdata_sent_test.append([token.form for token in sent])\n",
        "    \n",
        "MAX_SENT_LEN = max(len(sent) for sent in full_train)\n",
        "MAX_ORIG_TOKEN_LEN = max(len(token.form) for sent in full_train for token in sent)\n",
        "print('Наибольшая длина предложения', MAX_SENT_LEN)\n",
        "print('Наибольшая длина токена', MAX_ORIG_TOKEN_LEN)"
      ],
      "execution_count": 11,
      "outputs": [
        {
          "output_type": "stream",
          "text": [
            "Наибольшая длина предложения 205\n",
            "Наибольшая длина токена 47\n"
          ],
          "name": "stdout"
        }
      ]
    },
    {
      "cell_type": "code",
      "metadata": {
        "id": "dj4tV8ytXTry",
        "colab": {
          "base_uri": "https://localhost:8080/"
        },
        "outputId": "b6f2d6a3-dcd0-4385-9658-5af44dad33ee"
      },
      "source": [
        "all_train_texts = [' '.join(token.form for token in sent) for sent in full_train]\n",
        "all_test_texts = [' '.join(token.form for token in sent) for sent in full_test]\n",
        "\n",
        "all_train_labels = [' '.join(token.form for token in sent) for sent in full_train]\n",
        "all_test_labels = [' '.join(token.form for token in sent) for sent in full_test]\n",
        "print('\\n'.join(all_train_texts[:10]))"
      ],
      "execution_count": 12,
      "outputs": [
        {
          "output_type": "stream",
          "text": [
            "Анкета .\n",
            "Начальник областного управления связи Семен Еремеевич был человек простой , приходил на работу всегда вовремя , здоровался с секретаршей за руку и иногда даже писал в стенгазету заметки под псевдонимом \" Муха \" .\n",
            "В приемной его с утра ожидали посетители , - кое-кто с важными делами , а кое-кто и с такими , которые легко можно было решить в нижестоящих инстанциях , не затрудняя Семена Еремеевича .\n",
            "Однако стиль работы Семена Еремеевича заключался в том , чтобы принимать всех желающих и лично вникать в дело .\n",
            "Приемная была обставлена просто , но по-деловому .\n",
            "У двери стоял стол секретарши , на столе - пишущая машинка с широкой кареткой .\n",
            "В углу висел репродуктор и играло радио для развлечения ожидающих и еще для того , чтобы заглушать голос начальника , доносившийся из кабинета , так как , бесспорно , среди посетителей могли находиться и случайные люди .\n",
            "Кабинет отличался скромностью , присущей Семену Еремеевичу .\n",
            "В глубине стоял широкий письменный стол с бронзовыми чернильницами и перед ним два кожаных кресла .\n",
            "Справа был стол для заседаний - длинный , накрытый зеленым сукном и с обеих сторон аккуратно заставленный стульями .\n"
          ],
          "name": "stdout"
        }
      ]
    },
    {
      "cell_type": "markdown",
      "metadata": {
        "id": "dtBpvrBy7H2p"
      },
      "source": [
        "DefaultTagger\n"
      ]
    },
    {
      "cell_type": "code",
      "metadata": {
        "colab": {
          "base_uri": "https://localhost:8080/"
        },
        "id": "H_7ZGTGs7E51",
        "outputId": "4d62fc34-c3d7-4258-cbe0-c9dcc2cab2ec"
      },
      "source": [
        "default_tagger = nltk.DefaultTagger('NOUN')\n",
        "\n",
        "default_tagger.evaluate(fdata_test)"
      ],
      "execution_count": 13,
      "outputs": [
        {
          "output_type": "execute_result",
          "data": {
            "text/plain": [
              "0.23568564014423887"
            ]
          },
          "metadata": {
            "tags": []
          },
          "execution_count": 13
        }
      ]
    },
    {
      "cell_type": "markdown",
      "metadata": {
        "id": "5-fVIGCg7QQR"
      },
      "source": [
        "\n",
        "UnigramTagger"
      ]
    },
    {
      "cell_type": "code",
      "metadata": {
        "colab": {
          "base_uri": "https://localhost:8080/"
        },
        "id": "IEV_RwHe7FGG",
        "outputId": "65fe6303-b861-4171-cd69-37e039d51527"
      },
      "source": [
        "unigram_tagger = UnigramTagger(fdata_train)\n",
        "unigram_tagger.evaluate(fdata_test)"
      ],
      "execution_count": 14,
      "outputs": [
        {
          "output_type": "execute_result",
          "data": {
            "text/plain": [
              "0.8772537323492737"
            ]
          },
          "metadata": {
            "tags": []
          },
          "execution_count": 14
        }
      ]
    },
    {
      "cell_type": "markdown",
      "metadata": {
        "id": "kJoqk96d8CRX"
      },
      "source": [
        "BigramTagger"
      ]
    },
    {
      "cell_type": "code",
      "metadata": {
        "colab": {
          "base_uri": "https://localhost:8080/"
        },
        "id": "2l4NUYZR7FSe",
        "outputId": "f40ffc0e-81a4-42ea-c94f-acee871673c1"
      },
      "source": [
        "bigram_tagger = BigramTagger(fdata_train, backoff=unigram_tagger)\n",
        "bigram_tagger.evaluate(fdata_test)"
      ],
      "execution_count": 15,
      "outputs": [
        {
          "output_type": "execute_result",
          "data": {
            "text/plain": [
              "0.8829828463586425"
            ]
          },
          "metadata": {
            "tags": []
          },
          "execution_count": 15
        }
      ]
    },
    {
      "cell_type": "markdown",
      "metadata": {
        "id": "sS7Vd-OG8OkQ"
      },
      "source": [
        "\n",
        "TrigramTagger"
      ]
    },
    {
      "cell_type": "code",
      "metadata": {
        "colab": {
          "base_uri": "https://localhost:8080/"
        },
        "id": "B-Emctc38RQO",
        "outputId": "1aa0c8d1-23a0-4d16-b861-5b0fd7651f3f"
      },
      "source": [
        "trigram_tagger = TrigramTagger(fdata_train, backoff=bigram_tagger)\n",
        "trigram_tagger.evaluate(fdata_test)"
      ],
      "execution_count": 16,
      "outputs": [
        {
          "output_type": "execute_result",
          "data": {
            "text/plain": [
              "0.882081353418933"
            ]
          },
          "metadata": {
            "tags": []
          },
          "execution_count": 16
        }
      ]
    },
    {
      "cell_type": "code",
      "metadata": {
        "colab": {
          "base_uri": "https://localhost:8080/"
        },
        "id": "YqfgPXuu9FTj",
        "outputId": "8b0e550a-5676-41a8-f3b0-49406d7e0e23"
      },
      "source": [
        "trigram_tagger.tag(fdata_sent_test[1])"
      ],
      "execution_count": 17,
      "outputs": [
        {
          "output_type": "execute_result",
          "data": {
            "text/plain": [
              "[('В', 'ADP'),\n",
              " ('старой', 'ADJ'),\n",
              " ('трактовке', 'NOUN'),\n",
              " ('вместо', 'ADP'),\n",
              " ('слова', 'NOUN'),\n",
              " ('\"', 'PUNCT'),\n",
              " ('порядок', 'NOUN'),\n",
              " ('\"', 'PUNCT'),\n",
              " ('использовалось', 'VERB'),\n",
              " ('слово', 'NOUN'),\n",
              " ('\"', 'PUNCT'),\n",
              " ('последовательность', 'NOUN'),\n",
              " ('\"', 'PUNCT'),\n",
              " (',', 'PUNCT'),\n",
              " ('но', 'CCONJ'),\n",
              " ('по', 'ADP'),\n",
              " ('мере', 'NOUN'),\n",
              " ('развития', 'NOUN'),\n",
              " ('параллельности', None),\n",
              " ('в', 'ADP'),\n",
              " ('работе', 'NOUN'),\n",
              " ('компьютеров', 'NOUN'),\n",
              " ('слово', 'NOUN'),\n",
              " ('\"', 'PUNCT'),\n",
              " ('последовательность', 'NOUN'),\n",
              " ('\"', 'PUNCT'),\n",
              " ('стали', 'VERB'),\n",
              " ('заменять', 'VERB'),\n",
              " ('более', 'ADV'),\n",
              " ('общим', 'ADJ'),\n",
              " ('словом', 'NOUN'),\n",
              " ('\"', 'PUNCT'),\n",
              " ('порядок', 'NOUN'),\n",
              " ('\"', 'PUNCT'),\n",
              " ('.', 'PUNCT')]"
            ]
          },
          "metadata": {
            "tags": []
          },
          "execution_count": 17
        }
      ]
    },
    {
      "cell_type": "markdown",
      "metadata": {
        "id": "XjlrB_gg9N6e"
      },
      "source": [
        "Комбинация тэггеров"
      ]
    },
    {
      "cell_type": "code",
      "metadata": {
        "colab": {
          "base_uri": "https://localhost:8080/"
        },
        "id": "wqLeU2pV9O3b",
        "outputId": "9a2c731d-48fa-40c5-836b-aeade4fa8b57"
      },
      "source": [
        "def backoff_tagger(train_sents, tagger_classes, backoff=None):\n",
        "    for cls in tagger_classes:\n",
        "        backoff = cls(train_sents, backoff=backoff)\n",
        "    return backoff\n",
        "\n",
        "\n",
        "backoff = DefaultTagger('NOUN') \n",
        "tag = backoff_tagger(fdata_train,  \n",
        "                     [UnigramTagger, BigramTagger, TrigramTagger],  \n",
        "                     backoff = backoff) \n",
        "  \n",
        "tag.evaluate(fdata_test)"
      ],
      "execution_count": 18,
      "outputs": [
        {
          "output_type": "execute_result",
          "data": {
            "text/plain": [
              "0.9119991237825633"
            ]
          },
          "metadata": {
            "tags": []
          },
          "execution_count": 18
        }
      ]
    },
    {
      "cell_type": "markdown",
      "metadata": {
        "id": "eD6mJFCn9c13"
      },
      "source": [
        "Векторайзеры"
      ]
    },
    {
      "cell_type": "code",
      "metadata": {
        "id": "WO1cSrnX9dl1"
      },
      "source": [
        "train_tok = []\n",
        "train_label = []\n",
        "for sent in fdata_train[:]:\n",
        "    for tok in sent:\n",
        "        train_tok.append(tok[0])\n",
        "        train_label.append('NO_TAG' if tok[1] is None else tok[1])\n",
        "        \n",
        "test_tok = []\n",
        "test_label = []\n",
        "for sent in fdata_test[:]:\n",
        "    for tok in sent:\n",
        "        test_tok.append(tok[0])\n",
        "        test_label.append('NO_TAG' if tok[1] is None else tok[1])"
      ],
      "execution_count": 19,
      "outputs": []
    },
    {
      "cell_type": "code",
      "metadata": {
        "colab": {
          "base_uri": "https://localhost:8080/"
        },
        "id": "7dl0dBWn-g94",
        "outputId": "d338d2dd-2b25-4683-ba52-1e5b2e0611ea"
      },
      "source": [
        "le = LabelEncoder()\n",
        "\n",
        "train_enc_labels = le.fit_transform(train_label)\n",
        "test_enc_labels = le.transform(test_label)\n",
        "\n",
        "print(f'Classes: {le.classes_} \\nNumber of classes: {len(le.classes_)}')"
      ],
      "execution_count": 20,
      "outputs": [
        {
          "output_type": "stream",
          "text": [
            "Classes: ['ADJ' 'ADP' 'ADV' 'AUX' 'CCONJ' 'DET' 'INTJ' 'NOUN' 'NO_TAG' 'NUM' 'PART'\n",
            " 'PRON' 'PROPN' 'PUNCT' 'SCONJ' 'SYM' 'VERB' 'X'] \n",
            "Number of classes: 18\n"
          ],
          "name": "stdout"
        }
      ]
    },
    {
      "cell_type": "code",
      "metadata": {
        "colab": {
          "base_uri": "https://localhost:8080/"
        },
        "id": "nNRHuM8E_Os1",
        "outputId": "fd7a2e7a-d9c4-452b-940b-09ba2f8c5a88"
      },
      "source": [
        "for vectorizer in [CountVectorizer, HashingVectorizer, TfidfVectorizer]:\n",
        "\n",
        "    scaler = StandardScaler(with_mean=False)\n",
        "    coder = vectorizer(ngram_range=(1, 5), analyzer='char')\n",
        "    \n",
        "\n",
        "    X_train = coder.fit_transform(train_tok)\n",
        "    X_test = coder.transform(test_tok)\n",
        "    \n",
        "    X_train = scaler.fit_transform(X_train)\n",
        "    X_test = scaler.fit_transform(X_test)    \n",
        "    \n",
        "    lr = LogisticRegression(random_state=0, max_iter = 100, n_jobs=7)\n",
        "    lr.fit(X_train, train_enc_labels)\n",
        "\n",
        "    pred = lr.predict(X_test)\n",
        "\n",
        "    print(vectorizer, accuracy_score(test_enc_labels, pred))"
      ],
      "execution_count": 21,
      "outputs": [
        {
          "output_type": "stream",
          "text": [
            "<class 'sklearn.feature_extraction.text.CountVectorizer'> 0.943644053516665\n",
            "<class 'sklearn.feature_extraction.text.HashingVectorizer'> 0.9471826239342163\n",
            "<class 'sklearn.feature_extraction.text.TfidfVectorizer'> 0.9487749806221144\n"
          ],
          "name": "stdout"
        }
      ]
    },
    {
      "cell_type": "code",
      "metadata": {
        "colab": {
          "base_uri": "https://localhost:8080/"
        },
        "id": "xKw54XM9BiMl",
        "outputId": "decc1aed-8f89-4586-ea73-856b0a7b7b26"
      },
      "source": [
        "nltk.download('stopwords')\n",
        "from nltk.corpus import stopwords\n",
        "stop_words = stopwords.words('russian')"
      ],
      "execution_count": 22,
      "outputs": [
        {
          "output_type": "stream",
          "text": [
            "[nltk_data] Downloading package stopwords to /root/nltk_data...\n",
            "[nltk_data]   Unzipping corpora/stopwords.zip.\n"
          ],
          "name": "stdout"
        }
      ]
    },
    {
      "cell_type": "code",
      "metadata": {
        "colab": {
          "base_uri": "https://localhost:8080/"
        },
        "id": "19cfnsXABofY",
        "outputId": "938c8ced-d49a-42aa-ac6e-bb9a919533d5"
      },
      "source": [
        "for vectorizer in [CountVectorizer, HashingVectorizer, TfidfVectorizer]:\n",
        "\n",
        "    scaler = StandardScaler(with_mean=False)\n",
        "    coder = vectorizer(ngram_range=(1, 5), analyzer='word', stop_words=stop_words)\n",
        "    \n",
        "\n",
        "    X_train = coder.fit_transform(train_tok)\n",
        "    X_test = coder.transform(test_tok)\n",
        "    \n",
        "    X_train = scaler.fit_transform(X_train)\n",
        "    X_test = scaler.fit_transform(X_test)    \n",
        "    \n",
        "    lr = LogisticRegression(random_state=0, max_iter = 100, n_jobs=7)\n",
        "    lr.fit(X_train, train_enc_labels)\n",
        "\n",
        "    pred = lr.predict(X_test)\n",
        "\n",
        "    print(vectorizer, accuracy_score(test_enc_labels, pred))"
      ],
      "execution_count": 23,
      "outputs": [
        {
          "output_type": "stream",
          "text": [
            "<class 'sklearn.feature_extraction.text.CountVectorizer'> 0.622190206585111\n",
            "<class 'sklearn.feature_extraction.text.HashingVectorizer'> 0.6241448454824251\n",
            "<class 'sklearn.feature_extraction.text.TfidfVectorizer'> 0.6216762713578\n"
          ],
          "name": "stdout"
        }
      ]
    },
    {
      "cell_type": "markdown",
      "metadata": {
        "id": "lXDoh61BB5-R"
      },
      "source": [
        "\n",
        "Из одиночных теггеров лучший результат показали BigramTagger (0.88298) и TrigramTagger (0.88208) теггеры.\n",
        "Комбинация теггеров [UnigramTagger, BigramTagger, TrigramTagger] дает лучший результат, чем использовать теггеры  по отдельности 0.911\n",
        "Векторайзеры с символьными н-граммами работают лучше теггеров. Лучший скор показывает TfidfVectorizer (0.9489)."
      ]
    },
    {
      "cell_type": "markdown",
      "metadata": {
        "id": "cINqgGpKXURp"
      },
      "source": [
        "# Задание 2"
      ]
    },
    {
      "cell_type": "markdown",
      "metadata": {
        "id": "VCM0drjKXYet"
      },
      "source": [
        "много дополнительных датасетов на русском языке\n",
        "\n",
        "https://natasha.github.io/corus/  \n",
        "https://github.com/natasha/corus"
      ]
    },
    {
      "cell_type": "markdown",
      "metadata": {
        "id": "sUOg4C8sZNpw"
      },
      "source": [
        "мы будем использовать данные http://www.labinform.ru/pub/named_entities/"
      ]
    },
    {
      "cell_type": "markdown",
      "metadata": {
        "id": "qzi6ApNLZg6X"
      },
      "source": [
        "**Проверить насколько хорошо работает NER**\n",
        "\n",
        "1. взять нер из nltk\n",
        "2. проверить deeppavlov\n",
        "3. написать свой нер попробовать разные подходы:\n",
        "* передаём в сетку токен и его соседей\n",
        "* передаём в сетку только токен\n",
        "\n",
        "4. сделать выводы по вашим экспериментам какой из подходов успешнее справляется\n"
      ]
    },
    {
      "cell_type": "markdown",
      "metadata": {
        "id": "aP1LgaNUtaOz"
      },
      "source": [
        "при обучении своего нера незабудьте разделить выборку"
      ]
    },
    {
      "cell_type": "code",
      "metadata": {
        "colab": {
          "base_uri": "https://localhost:8080/"
        },
        "id": "Qg6tcss2Zhp9",
        "outputId": "c3f2827d-4e5b-4726-b1e8-3ebf13dfd956"
      },
      "source": [
        "!pip install corus"
      ],
      "execution_count": 24,
      "outputs": [
        {
          "output_type": "stream",
          "text": [
            "Collecting corus\n",
            "  Downloading corus-0.9.0-py3-none-any.whl (83 kB)\n",
            "\u001b[?25l\r\u001b[K     |████                            | 10 kB 19.1 MB/s eta 0:00:01\r\u001b[K     |███████▉                        | 20 kB 22.7 MB/s eta 0:00:01\r\u001b[K     |███████████▊                    | 30 kB 14.1 MB/s eta 0:00:01\r\u001b[K     |███████████████▊                | 40 kB 10.6 MB/s eta 0:00:01\r\u001b[K     |███████████████████▋            | 51 kB 10.0 MB/s eta 0:00:01\r\u001b[K     |███████████████████████▌        | 61 kB 8.3 MB/s eta 0:00:01\r\u001b[K     |███████████████████████████▌    | 71 kB 7.9 MB/s eta 0:00:01\r\u001b[K     |███████████████████████████████▍| 81 kB 8.7 MB/s eta 0:00:01\r\u001b[K     |████████████████████████████████| 83 kB 998 kB/s \n",
            "\u001b[?25hInstalling collected packages: corus\n",
            "Successfully installed corus-0.9.0\n"
          ],
          "name": "stdout"
        }
      ]
    },
    {
      "cell_type": "code",
      "metadata": {
        "id": "hrc5ocDkaS1e"
      },
      "source": [
        "import corus"
      ],
      "execution_count": 25,
      "outputs": []
    },
    {
      "cell_type": "code",
      "metadata": {
        "colab": {
          "base_uri": "https://localhost:8080/"
        },
        "id": "vPVv6lhT3ftA",
        "outputId": "35cb16a9-838e-47f9-e8d5-1dfa92b990d2"
      },
      "source": [
        "!wget http://www.labinform.ru/pub/named_entities/collection5.zip"
      ],
      "execution_count": 26,
      "outputs": [
        {
          "output_type": "stream",
          "text": [
            "--2021-07-29 06:48:30--  http://www.labinform.ru/pub/named_entities/collection5.zip\n",
            "Resolving www.labinform.ru (www.labinform.ru)... 80.240.100.4\n",
            "Connecting to www.labinform.ru (www.labinform.ru)|80.240.100.4|:80... connected.\n",
            "HTTP request sent, awaiting response... 200 OK\n",
            "Length: 1899530 (1.8M) [application/zip]\n",
            "Saving to: ‘collection5.zip’\n",
            "\n",
            "collection5.zip     100%[===================>]   1.81M   371KB/s    in 5.7s    \n",
            "\n",
            "2021-07-29 06:48:37 (323 KB/s) - ‘collection5.zip’ saved [1899530/1899530]\n",
            "\n"
          ],
          "name": "stdout"
        }
      ]
    },
    {
      "cell_type": "code",
      "metadata": {
        "id": "Cqf9NYy3Itrh"
      },
      "source": [
        "!unzip collection5.zip"
      ],
      "execution_count": null,
      "outputs": []
    },
    {
      "cell_type": "code",
      "metadata": {
        "id": "JPxCa2LyH8gW"
      },
      "source": [
        "!rm collection5.zip"
      ],
      "execution_count": 28,
      "outputs": []
    },
    {
      "cell_type": "code",
      "metadata": {
        "colab": {
          "base_uri": "https://localhost:8080/"
        },
        "id": "7burz-bD3t4l",
        "outputId": "15db585f-3e14-430b-a177-f0cfc0b01d3d"
      },
      "source": [
        "!ls"
      ],
      "execution_count": 29,
      "outputs": [
        {
          "output_type": "stream",
          "text": [
            "Collection5  datasets  sample_data\n"
          ],
          "name": "stdout"
        }
      ]
    },
    {
      "cell_type": "code",
      "metadata": {
        "colab": {
          "base_uri": "https://localhost:8080/"
        },
        "id": "UEdS2pAS3fod",
        "outputId": "cbe1787b-be1b-4691-9b8e-b1a9957a5d57"
      },
      "source": [
        "from corus import load_ne5\n",
        "\n",
        "dir = 'Collection5/'\n",
        "records = load_ne5(dir)\n",
        "next(records)\n"
      ],
      "execution_count": 30,
      "outputs": [
        {
          "output_type": "execute_result",
          "data": {
            "text/plain": [
              "Ne5Markup(\n",
              "    id='288',\n",
              "    text='Д.Медведев уволил пять генералов МВД.\\r\\n\\r\\nПрезидент России Дмитрий Медведев своим указом освободил от должности ряд высокопоставленных сотрудников органов внутренних дел Российской Федерации. Как сообщили в пресс-службе Кремля, своим решением глава государства снял с должности начальника управления внутренних дел по Калининградской области генерал-майора милиции Сергея Кириченко.\\r\\n\\r\\nТакже своих должностей лишились: заместитель начальника Главного управления МВД РФ по Северо-Западному федеральному округу генерал-майор юстиции Сергей Панфилов; заместитель начальника Главного управления внутренних дел по Алтайскому краю генерал-майор юстиции Виктор Баранов; заместитель начальника Главного управления внутренних дел по Пермскому краю по экономической безопасности генерал-майор милиции Юрий Савченко и заместитель начальника Главного управления МВД РФ по Южному федеральному округу генерал-майор юстиции Александр Шашин.',\n",
              "    spans=[Ne5Span(\n",
              "         index='T1',\n",
              "         type='PER',\n",
              "         start=0,\n",
              "         stop=10,\n",
              "         text='Д.Медведев'\n",
              "     ), Ne5Span(\n",
              "         index='T2',\n",
              "         type='ORG',\n",
              "         start=33,\n",
              "         stop=36,\n",
              "         text='МВД'\n",
              "     ), Ne5Span(\n",
              "         index='T3',\n",
              "         type='GEOPOLIT',\n",
              "         start=51,\n",
              "         stop=57,\n",
              "         text='России'\n",
              "     ), Ne5Span(\n",
              "         index='T4',\n",
              "         type='PER',\n",
              "         start=58,\n",
              "         stop=74,\n",
              "         text='Дмитрий Медведев'\n",
              "     ), Ne5Span(\n",
              "         index='T5',\n",
              "         type='GEOPOLIT',\n",
              "         start=169,\n",
              "         stop=189,\n",
              "         text='Российской Федерации'\n",
              "     ), Ne5Span(\n",
              "         index='T6',\n",
              "         type='GEOPOLIT',\n",
              "         start=219,\n",
              "         stop=225,\n",
              "         text='Кремля'\n",
              "     ), Ne5Span(\n",
              "         index='T7',\n",
              "         type='LOC',\n",
              "         start=317,\n",
              "         stop=340,\n",
              "         text='Калининградской области'\n",
              "     ), Ne5Span(\n",
              "         index='T8',\n",
              "         type='PER',\n",
              "         start=364,\n",
              "         stop=380,\n",
              "         text='Сергея Кириченко'\n",
              "     ), Ne5Span(\n",
              "         index='T9',\n",
              "         type='ORG',\n",
              "         start=441,\n",
              "         stop=460,\n",
              "         text='Главного управления'\n",
              "     ), Ne5Span(\n",
              "         index='T10',\n",
              "         type='ORG',\n",
              "         start=461,\n",
              "         stop=464,\n",
              "         text='МВД'\n",
              "     ), Ne5Span(\n",
              "         index='T11',\n",
              "         type='GEOPOLIT',\n",
              "         start=465,\n",
              "         stop=467,\n",
              "         text='РФ'\n",
              "     ), Ne5Span(\n",
              "         index='T12',\n",
              "         type='LOC',\n",
              "         start=471,\n",
              "         stop=507,\n",
              "         text='Северо-Западному федеральному округу'\n",
              "     ), Ne5Span(\n",
              "         index='T13',\n",
              "         type='PER',\n",
              "         start=530,\n",
              "         stop=545,\n",
              "         text='Сергей Панфилов'\n",
              "     ), Ne5Span(\n",
              "         index='T14',\n",
              "         type='ORG',\n",
              "         start=570,\n",
              "         stop=589,\n",
              "         text='Главного управления'\n",
              "     ), Ne5Span(\n",
              "         index='T15',\n",
              "         type='LOC',\n",
              "         start=608,\n",
              "         stop=623,\n",
              "         text='Алтайскому краю'\n",
              "     ), Ne5Span(\n",
              "         index='T16',\n",
              "         type='PER',\n",
              "         start=646,\n",
              "         stop=660,\n",
              "         text='Виктор Баранов'\n",
              "     ), Ne5Span(\n",
              "         index='T17',\n",
              "         type='ORG',\n",
              "         start=685,\n",
              "         stop=704,\n",
              "         text='Главного управления'\n",
              "     ), Ne5Span(\n",
              "         index='T18',\n",
              "         type='LOC',\n",
              "         start=723,\n",
              "         stop=737,\n",
              "         text='Пермскому краю'\n",
              "     ), Ne5Span(\n",
              "         index='T19',\n",
              "         type='PER',\n",
              "         start=790,\n",
              "         stop=803,\n",
              "         text='Юрий Савченко'\n",
              "     ), Ne5Span(\n",
              "         index='T20',\n",
              "         type='ORG',\n",
              "         start=829,\n",
              "         stop=848,\n",
              "         text='Главного управления'\n",
              "     ), Ne5Span(\n",
              "         index='T21',\n",
              "         type='ORG',\n",
              "         start=849,\n",
              "         stop=852,\n",
              "         text='МВД'\n",
              "     ), Ne5Span(\n",
              "         index='T22',\n",
              "         type='GEOPOLIT',\n",
              "         start=853,\n",
              "         stop=855,\n",
              "         text='РФ'\n",
              "     ), Ne5Span(\n",
              "         index='T23',\n",
              "         type='LOC',\n",
              "         start=859,\n",
              "         stop=885,\n",
              "         text='Южному федеральному округу'\n",
              "     ), Ne5Span(\n",
              "         index='T24',\n",
              "         type='PER',\n",
              "         start=908,\n",
              "         stop=923,\n",
              "         text='Александр Шашин'\n",
              "     )]\n",
              ")"
            ]
          },
          "metadata": {
            "tags": []
          },
          "execution_count": 30
        }
      ]
    },
    {
      "cell_type": "markdown",
      "metadata": {
        "id": "GrhLNgNwQP2P"
      },
      "source": [
        "процедуры обработки взять из вебинарного ноутбука"
      ]
    },
    {
      "cell_type": "code",
      "metadata": {
        "colab": {
          "base_uri": "https://localhost:8080/"
        },
        "id": "39v2--d7JLCY",
        "outputId": "14b21287-c61a-43da-d04a-cc2922e033f8"
      },
      "source": [
        "nltk.download('punkt')\n",
        "nltk.download('averaged_perceptron_tagger')"
      ],
      "execution_count": 31,
      "outputs": [
        {
          "output_type": "stream",
          "text": [
            "[nltk_data] Downloading package punkt to /root/nltk_data...\n",
            "[nltk_data]   Unzipping tokenizers/punkt.zip.\n",
            "[nltk_data] Downloading package averaged_perceptron_tagger to\n",
            "[nltk_data]     /root/nltk_data...\n",
            "[nltk_data]   Unzipping taggers/averaged_perceptron_tagger.zip.\n"
          ],
          "name": "stdout"
        },
        {
          "output_type": "execute_result",
          "data": {
            "text/plain": [
              "True"
            ]
          },
          "metadata": {
            "tags": []
          },
          "execution_count": 31
        }
      ]
    },
    {
      "cell_type": "code",
      "metadata": {
        "id": "uRuODJpkIqlv",
        "colab": {
          "base_uri": "https://localhost:8080/"
        },
        "outputId": "fc7cc47c-ce9f-4fa5-f553-12d0aaeb2241"
      },
      "source": [
        "document = next(records).text\n",
        "\n",
        "nltk.pos_tag(nltk.word_tokenize(document))"
      ],
      "execution_count": 32,
      "outputs": [
        {
          "output_type": "execute_result",
          "data": {
            "text/plain": [
              "[('Акционеры', 'NN'),\n",
              " ('``', '``'),\n",
              " ('Нутритека', 'JJ'),\n",
              " (\"''\", \"''\"),\n",
              " ('на', 'NN'),\n",
              " ('внеочередном', 'NNP'),\n",
              " ('собрании', 'NNP'),\n",
              " ('изберут', 'NNP'),\n",
              " ('новый', 'NNP'),\n",
              " ('совет', 'NNP'),\n",
              " ('директоров', 'NNP'),\n",
              " ('.', '.'),\n",
              " ('Совет', 'VB'),\n",
              " ('директоров', 'JJ'),\n",
              " ('ОАО', 'NNP'),\n",
              " ('``', '``'),\n",
              " ('Нутринвестхолдинг', 'NN'),\n",
              " (\"''\", \"''\"),\n",
              " ('(', '('),\n",
              " ('группа', 'FW'),\n",
              " ('``', '``'),\n",
              " ('Нутритек', 'FW'),\n",
              " (\"''\", \"''\"),\n",
              " (')', ')'),\n",
              " ('созывает', 'FW'),\n",
              " ('сегодня', 'FW'),\n",
              " ('внеочередное', 'FW'),\n",
              " ('общее', 'FW'),\n",
              " ('собрание', 'FW'),\n",
              " ('акционеров', 'FW'),\n",
              " ('.', '.'),\n",
              " ('Список', 'FW'),\n",
              " ('лиц', 'NN'),\n",
              " (',', ','),\n",
              " ('имеющих', 'NNP'),\n",
              " ('право', 'NNP'),\n",
              " ('на', 'NNP'),\n",
              " ('участие', 'NNP'),\n",
              " ('во', 'NNP'),\n",
              " ('внеочередном', 'NNP'),\n",
              " ('общем', 'NNP'),\n",
              " ('собрании', 'NNP'),\n",
              " ('акционеров', 'NNP'),\n",
              " (',', ','),\n",
              " ('утвержден', 'NNP'),\n",
              " ('по', 'NNP'),\n",
              " ('состоянию', 'NNP'),\n",
              " ('на', 'VBD'),\n",
              " ('21', 'CD'),\n",
              " ('апреля', 'JJ'),\n",
              " ('2011г', 'CD'),\n",
              " ('.', '.'),\n",
              " ('Акционерам', 'VB'),\n",
              " ('предстоит', 'JJ'),\n",
              " ('досрочно', 'NNP'),\n",
              " ('прекратить', 'NNP'),\n",
              " ('полномочия', 'NNP'),\n",
              " ('действующих', 'NNP'),\n",
              " ('членов', 'NNP'),\n",
              " ('совета', 'NNP'),\n",
              " ('директоров', 'NNP'),\n",
              " ('``', '``'),\n",
              " ('Нутритека', 'NN'),\n",
              " (\"''\", \"''\"),\n",
              " ('и', 'CC'),\n",
              " ('избрать', 'NNP'),\n",
              " ('новых', 'NNP'),\n",
              " ('.', '.'),\n",
              " ('Напомним', 'NN'),\n",
              " (',', ','),\n",
              " ('нынешний', 'NNP'),\n",
              " ('совет', 'NNP'),\n",
              " ('директоров', 'NNP'),\n",
              " ('компании', 'NNP'),\n",
              " ('был', 'NNP'),\n",
              " ('избран', 'NNP'),\n",
              " ('в', 'NNP'),\n",
              " ('феврале', 'VBD'),\n",
              " ('2011г', 'CD'),\n",
              " ('.', '.'),\n",
              " ('Тогда', 'VB'),\n",
              " ('акционеры', 'JJ'),\n",
              " ('в', 'NNP'),\n",
              " ('его', 'NNP'),\n",
              " ('состав', 'NNP'),\n",
              " ('ввели', 'NNP'),\n",
              " ('семь', 'NNP'),\n",
              " ('новых', 'NNP'),\n",
              " ('членов', 'NNP'),\n",
              " ('.', '.'),\n",
              " ('Из', 'VB'),\n",
              " ('прежнего', 'JJ'),\n",
              " ('состава', 'NNP'),\n",
              " ('в', 'NNP'),\n",
              " ('совет', 'NNP'),\n",
              " ('вошли', 'NNP'),\n",
              " ('Ольга', 'NNP'),\n",
              " ('Логвина', 'NNP'),\n",
              " ('(', '('),\n",
              " ('представляет', 'NNP'),\n",
              " ('интересы', 'NNP'),\n",
              " ('держателей', 'NNP'),\n",
              " ('рублевых', 'NNP'),\n",
              " ('облигаций', 'NNP'),\n",
              " (')', ')'),\n",
              " ('и', 'VBP'),\n",
              " ('учредитель', 'JJ'),\n",
              " ('фонда', 'NNP'),\n",
              " ('Concise', 'NNP'),\n",
              " ('Capital', 'NNP'),\n",
              " ('Management', 'NNP'),\n",
              " ('Томас', 'NNP'),\n",
              " ('Краснер', 'NNP'),\n",
              " ('(', '('),\n",
              " ('представляет', 'NNP'),\n",
              " ('интересы', 'NNP'),\n",
              " ('держателей', 'NNP'),\n",
              " ('LPN', 'NNP'),\n",
              " (')', ')'),\n",
              " ('.', '.'),\n",
              " ('Помимо', 'JJ'),\n",
              " ('этого', 'JJ'),\n",
              " ('в', 'NN'),\n",
              " ('совет', 'NNP'),\n",
              " ('были', 'NNP'),\n",
              " ('избраны', 'NNP'),\n",
              " ('семеро', 'NNP'),\n",
              " ('новых', 'NNP'),\n",
              " ('членов', 'NN'),\n",
              " (':', ':'),\n",
              " ('Бруно', 'NN'),\n",
              " ('Гианкотти', 'NN'),\n",
              " ('(', '('),\n",
              " ('независимый', 'NNP'),\n",
              " ('директор', 'NNP'),\n",
              " (')', ')'),\n",
              " (',', ','),\n",
              " ('Константин', 'JJ'),\n",
              " ('Джимбинов', 'NNP'),\n",
              " ('(', '('),\n",
              " ('от', 'NNP'),\n",
              " ('банков-кредиторов', 'NNP'),\n",
              " (')', ')'),\n",
              " ('и', 'VBZ'),\n",
              " ('представители', 'JJ'),\n",
              " ('``', '``'),\n",
              " ('Нутритека', 'NN'),\n",
              " (\"''\", \"''\"),\n",
              " ('-', ':'),\n",
              " ('генеральный', 'NN'),\n",
              " ('директор', 'JJ'),\n",
              " ('компании', 'NNP'),\n",
              " ('Илья', 'NNP'),\n",
              " ('Тощенко', 'NNP'),\n",
              " (',', ','),\n",
              " ('а', 'NNP'),\n",
              " ('также', 'NNP'),\n",
              " ('Владимир', 'NNP'),\n",
              " ('Круглик', 'NNP'),\n",
              " (',', ','),\n",
              " ('Артур', 'NNP'),\n",
              " ('Микаелян', 'NNP'),\n",
              " (',', ','),\n",
              " ('Александр', 'NNP'),\n",
              " ('Рогачев', 'NNP'),\n",
              " (',', ','),\n",
              " ('Геннадий', 'NNP'),\n",
              " ('Шамраев', 'NNP'),\n",
              " ('.', '.'),\n",
              " ('Прежде', 'VB'),\n",
              " ('в', 'JJ'),\n",
              " ('совет', 'NNP'),\n",
              " ('директоров', 'NNP'),\n",
              " ('``', '``'),\n",
              " ('Нутритека', 'NN'),\n",
              " (\"''\", \"''\"),\n",
              " ('входили', 'CC'),\n",
              " ('представители', 'NNP'),\n",
              " ('Marshall', 'NNP'),\n",
              " ('Capital', 'NNP'),\n",
              " ('Partners', 'NNP'),\n",
              " ('Сергей', 'NNP'),\n",
              " ('Азатян', 'NNP'),\n",
              " (',', ','),\n",
              " ('Константин', 'NNP'),\n",
              " ('Малофеев', 'NNP'),\n",
              " ('и', 'NNP'),\n",
              " ('Дмитрий', 'NNP'),\n",
              " ('Скуратов', 'NNP'),\n",
              " (',', ','),\n",
              " ('управляющий', 'NNP'),\n",
              " ('директор', 'NNP'),\n",
              " ('ВТБ', 'NNP'),\n",
              " ('Алексей', 'NNP'),\n",
              " ('Махнев', 'NNP'),\n",
              " ('.', '.'),\n",
              " ('Кроме', 'NN'),\n",
              " ('того', 'NN'),\n",
              " (',', ','),\n",
              " ('членами', 'NNP'),\n",
              " ('совета', 'NNP'),\n",
              " ('являлись', 'NNP'),\n",
              " ('Юрий', 'NNP'),\n",
              " ('Булатов', 'NNP'),\n",
              " (',', ','),\n",
              " ('Олег', 'NNP'),\n",
              " ('Хуажев', 'NNP'),\n",
              " ('и', 'NNP'),\n",
              " ('независимый', 'NNP'),\n",
              " ('член', 'NNP'),\n",
              " ('совета', 'NNP'),\n",
              " ('Максим', 'NNP'),\n",
              " ('Волков', 'NNP'),\n",
              " ('.', '.'),\n",
              " ('Ранее', 'NN'),\n",
              " ('сообщалось', 'NN'),\n",
              " (',', ','),\n",
              " ('что', 'NNP'),\n",
              " ('основатель', 'NNP'),\n",
              " ('компании', 'NNP'),\n",
              " ('``', '``'),\n",
              " ('Нутритек', 'NN'),\n",
              " (\"''\", \"''\"),\n",
              " ('Георгий', 'CC'),\n",
              " ('Сажинов', 'NNP'),\n",
              " ('получил', 'NNP'),\n",
              " ('около', 'VBD'),\n",
              " ('40', 'CD'),\n",
              " ('%', 'NN'),\n",
              " ('акций', 'JJ'),\n",
              " ('компании', 'NNP'),\n",
              " ('из', 'NNP'),\n",
              " ('75', 'CD'),\n",
              " ('%', 'NN'),\n",
              " (',', ','),\n",
              " ('которые', 'NNP'),\n",
              " ('контролировали', 'NNP'),\n",
              " ('фонды', 'NNP'),\n",
              " ('под', 'NNP'),\n",
              " ('управлением', 'NNP'),\n",
              " ('Marshall', 'NNP'),\n",
              " ('Capital', 'NNP'),\n",
              " ('и', 'NNP'),\n",
              " ('структуры', 'NNP'),\n",
              " ('К.Малофеева', 'NNP'),\n",
              " ('.', '.'),\n",
              " ('Г.Сажинов', 'VB'),\n",
              " ('обменял', 'JJ'),\n",
              " ('свою', 'NNP'),\n",
              " ('долю', 'NNP'),\n",
              " ('в', 'NNP'),\n",
              " ('девелоперской', 'NNP'),\n",
              " ('компании', 'NNP'),\n",
              " ('Marshall', 'NNP'),\n",
              " ('Estate', 'NNP'),\n",
              " ('(', '('),\n",
              " ('контролируется', 'NNP'),\n",
              " ('Marshall', 'NNP'),\n",
              " ('Capital', 'NNP'),\n",
              " (')', ')'),\n",
              " ('на', 'VBD'),\n",
              " ('акции', 'JJ'),\n",
              " ('``', '``'),\n",
              " ('Нутритека', 'NN'),\n",
              " (\"''\", \"''\"),\n",
              " ('.', '.'),\n",
              " ('30', 'CD'),\n",
              " ('июня', 'JJ'),\n",
              " ('2010г', 'CD'),\n",
              " ('.', '.'),\n",
              " ('``', '``'),\n",
              " ('Нутритек', 'JJ'),\n",
              " (\"''\", \"''\"),\n",
              " ('объявил', 'NN'),\n",
              " ('о', 'NNP'),\n",
              " ('неспособности', 'NNP'),\n",
              " ('исполнить', 'NNP'),\n",
              " ('реструктурированные', 'NNP'),\n",
              " ('обязательства', 'NNP'),\n",
              " ('перед', 'NNP'),\n",
              " ('всеми', 'NNP'),\n",
              " ('кредиторами', 'NNP'),\n",
              " ('(', '('),\n",
              " ('банками-кредиторами', 'JJ'),\n",
              " (',', ','),\n",
              " ('держателями', 'JJ'),\n",
              " ('рублевых', 'NNP'),\n",
              " ('облигаций', 'NNP'),\n",
              " ('и', 'NNP'),\n",
              " ('держателями', 'NNP'),\n",
              " ('кредитных', 'NNP'),\n",
              " ('нот', 'NNP'),\n",
              " (')', ')'),\n",
              " ('из-за', 'NN'),\n",
              " ('недостатка', 'NNP'),\n",
              " ('денежных', 'NNP'),\n",
              " ('средств', 'NNP'),\n",
              " ('.', '.'),\n",
              " ('В', 'VB'),\n",
              " ('настоящее', 'JJ'),\n",
              " ('время', 'NNP'),\n",
              " ('компания', 'NNP'),\n",
              " ('находится', 'NNP'),\n",
              " ('в', 'NNP'),\n",
              " ('техническом', 'NNP'),\n",
              " ('дефолте', 'NNP'),\n",
              " ('по', 'NNP'),\n",
              " ('существующим', 'NNP'),\n",
              " ('кредитным', 'NNP'),\n",
              " ('обязательствам', 'NNP'),\n",
              " ('.', '.'),\n",
              " ('Кроме', 'NN'),\n",
              " ('того', 'NN'),\n",
              " (',', ','),\n",
              " ('``', '``'),\n",
              " ('Нутритеку', 'NN'),\n",
              " (\"''\", \"''\"),\n",
              " ('предъявлен', 'CC'),\n",
              " ('исполнительный', 'NNP'),\n",
              " ('лист', 'NNP'),\n",
              " ('о', 'NNP'),\n",
              " ('взыскании', 'NNP'),\n",
              " ('задолженности', 'NNP'),\n",
              " ('в', 'NNP'),\n",
              " ('размере', 'VBD'),\n",
              " ('10,84', 'CD'),\n",
              " ('млн', 'JJ'),\n",
              " ('руб', 'NN'),\n",
              " ('.', '.'),\n",
              " ('по', 'CC'),\n",
              " ('просроченным', 'JJ'),\n",
              " ('российским', 'NNP'),\n",
              " ('долговым', 'NNP'),\n",
              " ('обязательствам', 'NNP'),\n",
              " ('перед', 'NNP'),\n",
              " ('кредиторами', 'NNP'),\n",
              " (',', ','),\n",
              " ('не', 'NNP'),\n",
              " ('принявшими', 'NNP'),\n",
              " ('участие', 'NNP'),\n",
              " ('в', 'NNP'),\n",
              " ('реструктуризации', 'NNP'),\n",
              " ('.', '.'),\n",
              " ('Группа', 'VB'),\n",
              " ('``', '``'),\n",
              " ('Нутритек', 'JJ'),\n",
              " (\"''\", \"''\"),\n",
              " ('является', 'NN'),\n",
              " ('крупнейшим', 'NNP'),\n",
              " ('производителем', 'NNP'),\n",
              " ('детского', 'NNP'),\n",
              " ('и', 'NNP'),\n",
              " ('специального', 'NNP'),\n",
              " ('питания', 'NNP'),\n",
              " ('и', 'NNP'),\n",
              " ('одним', 'NNP'),\n",
              " ('из', 'NNP'),\n",
              " ('ведущих', 'NNP'),\n",
              " ('производителей', 'NNP'),\n",
              " ('молочной', 'NNP'),\n",
              " ('продукции', 'NNP'),\n",
              " ('в', 'NNP'),\n",
              " ('России', 'NNP'),\n",
              " ('.', '.'),\n",
              " ('Холдинг', 'VB'),\n",
              " ('был', 'JJ'),\n",
              " ('основан', 'NNP'),\n",
              " ('в', 'NNP'),\n",
              " ('1990г.', 'CD'),\n",
              " (',', ','),\n",
              " ('на', 'NNP'),\n",
              " ('сегодняшний', 'NNP'),\n",
              " ('день', 'NNP'),\n",
              " ('он', 'NNP'),\n",
              " ('объединяет', 'VBD'),\n",
              " ('14', 'CD'),\n",
              " ('предприятий', 'NN'),\n",
              " (',', ','),\n",
              " ('выпускающих', 'NNP'),\n",
              " ('детское', 'NNP'),\n",
              " ('и', 'NNP'),\n",
              " ('специальное', 'NNP'),\n",
              " ('питание', 'NNP'),\n",
              " ('в', 'NNP'),\n",
              " ('России', 'NNP'),\n",
              " (',', ','),\n",
              " ('на', 'NNP'),\n",
              " ('Украине', 'NNP'),\n",
              " (',', ','),\n",
              " ('в', 'NNP'),\n",
              " ('Эстонии', 'NNP'),\n",
              " ('и', 'NNP'),\n",
              " ('Новой', 'NNP'),\n",
              " ('Зеландии', 'NNP'),\n",
              " ('.', '.')]"
            ]
          },
          "metadata": {
            "tags": []
          },
          "execution_count": 32
        }
      ]
    },
    {
      "cell_type": "code",
      "metadata": {
        "colab": {
          "base_uri": "https://localhost:8080/"
        },
        "id": "SkLlT9o7JW85",
        "outputId": "d6fa2085-93d9-47d9-d0b4-34967471daf0"
      },
      "source": [
        "nltk.download('maxent_ne_chunker')\n",
        "nltk.download('words')"
      ],
      "execution_count": 33,
      "outputs": [
        {
          "output_type": "stream",
          "text": [
            "[nltk_data] Downloading package maxent_ne_chunker to\n",
            "[nltk_data]     /root/nltk_data...\n",
            "[nltk_data]   Unzipping chunkers/maxent_ne_chunker.zip.\n",
            "[nltk_data] Downloading package words to /root/nltk_data...\n",
            "[nltk_data]   Unzipping corpora/words.zip.\n"
          ],
          "name": "stdout"
        },
        {
          "output_type": "execute_result",
          "data": {
            "text/plain": [
              "True"
            ]
          },
          "metadata": {
            "tags": []
          },
          "execution_count": 33
        }
      ]
    },
    {
      "cell_type": "code",
      "metadata": {
        "id": "XDdnL6EXJRt9",
        "colab": {
          "base_uri": "https://localhost:8080/"
        },
        "outputId": "e54f9203-bccf-4170-b35e-df907b86c97d"
      },
      "source": [
        "{(' '.join(c[0] for c in chunk), chunk.label() ) for chunk in nltk.ne_chunk(nltk.pos_tag(nltk.word_tokenize(document))) if hasattr(chunk, 'label') }"
      ],
      "execution_count": 34,
      "outputs": [
        {
          "output_type": "execute_result",
          "data": {
            "text/plain": [
              "{('Partners Сергей Азатян', 'ORGANIZATION'),\n",
              " ('Акционеры', 'GPE'),\n",
              " ('Александр Рогачев', 'PERSON'),\n",
              " ('Алексей Махнев', 'PERSON'),\n",
              " ('Артур Микаелян', 'PERSON'),\n",
              " ('Геннадий Шамраев', 'PERSON'),\n",
              " ('Дмитрий Скуратов', 'PERSON'),\n",
              " ('Константин Джимбинов', 'ORGANIZATION'),\n",
              " ('Константин Малофеев', 'PERSON'),\n",
              " ('Кроме', 'PERSON'),\n",
              " ('Максим Волков', 'PERSON'),\n",
              " ('Напомним', 'PERSON'),\n",
              " ('ОАО', 'ORGANIZATION'),\n",
              " ('Олег Хуажев', 'PERSON'),\n",
              " ('Помимо', 'PERSON'),\n",
              " ('Ранее', 'PERSON'),\n",
              " ('Сажинов', 'PERSON'),\n",
              " ('Эстонии', 'PERSON')}"
            ]
          },
          "metadata": {
            "tags": []
          },
          "execution_count": 34
        }
      ]
    },
    {
      "cell_type": "markdown",
      "metadata": {
        "id": "uZ87C7TUCpUZ"
      },
      "source": [
        "Spacy"
      ]
    },
    {
      "cell_type": "code",
      "metadata": {
        "id": "_YCiBUtLCyiL"
      },
      "source": [
        "import spacy\n",
        "from spacy import displacy\n",
        "!pip install https://github.com/explosion/spacy-models/releases/download/en_core_web_md-2.2.0/en_core_web_md-2.2.0.tar.gz\n",
        "import en_core_web_md"
      ],
      "execution_count": null,
      "outputs": []
    },
    {
      "cell_type": "code",
      "metadata": {
        "colab": {
          "base_uri": "https://localhost:8080/",
          "height": 157
        },
        "id": "oJxmnhdJCnxc",
        "outputId": "a7d2ee2f-a02b-4d56-f563-5c17369da96f"
      },
      "source": [
        "nlp = en_core_web_md.load()\n",
        "doc = nlp(document)\n",
        "\n",
        "displacy.render(doc, style=\"dep\") # (1)\n",
        "displacy.render(doc, style=\"ent\") # (2)"
      ],
      "execution_count": 52,
      "outputs": [
        {
          "output_type": "execute_result",
          "data": {
            "application/vnd.google.colaboratory.intrinsic+json": {
              "type": "string"
            },
            "text/plain": [
              "'<div class=\"entities\" style=\"line-height: 2.5; direction: ltr\">\\n<mark class=\"entity\" style=\"background: #7aecec; padding: 0.45em 0.6em; margin: 0 0.25em; line-height: 1; border-radius: 0.35em;\">\\n    Акционеры\\n    <span style=\"font-size: 0.8em; font-weight: bold; line-height: 1; border-radius: 0.35em; text-transform: uppercase; vertical-align: middle; margin-left: 0.5rem\">ORG</span>\\n</mark>\\n &quot;Нутритека&quot; на внеочередном собрании изберут новый \\n<mark class=\"entity\" style=\"background: #aa9cfc; padding: 0.45em 0.6em; margin: 0 0.25em; line-height: 1; border-radius: 0.35em;\">\\n    совет директоров\\n    <span style=\"font-size: 0.8em; font-weight: bold; line-height: 1; border-radius: 0.35em; text-transform: uppercase; vertical-align: middle; margin-left: 0.5rem\">PERSON</span>\\n</mark>\\n.\\r</br>\\r</br>\\n<mark class=\"entity\" style=\"background: #aa9cfc; padding: 0.45em 0.6em; margin: 0 0.25em; line-height: 1; border-radius: 0.35em;\">\\n    Совет директоров ОАО\\n    <span style=\"font-size: 0.8em; font-weight: bold; line-height: 1; border-radius: 0.35em; text-transform: uppercase; vertical-align: middle; margin-left: 0.5rem\">PERSON</span>\\n</mark>\\n &quot;\\n<mark class=\"entity\" style=\"background: #f0d0ff; padding: 0.45em 0.6em; margin: 0 0.25em; line-height: 1; border-radius: 0.35em;\">\\n    Нутринвестхолдинг\\n    <span style=\"font-size: 0.8em; font-weight: bold; line-height: 1; border-radius: 0.35em; text-transform: uppercase; vertical-align: middle; margin-left: 0.5rem\">WORK_OF_ART</span>\\n</mark>\\n&quot; (\\n<mark class=\"entity\" style=\"background: #aa9cfc; padding: 0.45em 0.6em; margin: 0 0.25em; line-height: 1; border-radius: 0.35em;\">\\n    группа &quot;Нутритек\\n    <span style=\"font-size: 0.8em; font-weight: bold; line-height: 1; border-radius: 0.35em; text-transform: uppercase; vertical-align: middle; margin-left: 0.5rem\">PERSON</span>\\n</mark>\\n&quot;) \\n<mark class=\"entity\" style=\"background: #aa9cfc; padding: 0.45em 0.6em; margin: 0 0.25em; line-height: 1; border-radius: 0.35em;\">\\n    созывает сегодня внеочередное общее собрание акционеров\\n    <span style=\"font-size: 0.8em; font-weight: bold; line-height: 1; border-radius: 0.35em; text-transform: uppercase; vertical-align: middle; margin-left: 0.5rem\">PERSON</span>\\n</mark>\\n. \\n<mark class=\"entity\" style=\"background: #aa9cfc; padding: 0.45em 0.6em; margin: 0 0.25em; line-height: 1; border-radius: 0.35em;\">\\n    Список лиц\\n    <span style=\"font-size: 0.8em; font-weight: bold; line-height: 1; border-radius: 0.35em; text-transform: uppercase; vertical-align: middle; margin-left: 0.5rem\">PERSON</span>\\n</mark>\\n, имеющих \\n<mark class=\"entity\" style=\"background: #aa9cfc; padding: 0.45em 0.6em; margin: 0 0.25em; line-height: 1; border-radius: 0.35em;\">\\n    право на\\n    <span style=\"font-size: 0.8em; font-weight: bold; line-height: 1; border-radius: 0.35em; text-transform: uppercase; vertical-align: middle; margin-left: 0.5rem\">PERSON</span>\\n</mark>\\n \\n<mark class=\"entity\" style=\"background: #aa9cfc; padding: 0.45em 0.6em; margin: 0 0.25em; line-height: 1; border-radius: 0.35em;\">\\n    участие\\n    <span style=\"font-size: 0.8em; font-weight: bold; line-height: 1; border-radius: 0.35em; text-transform: uppercase; vertical-align: middle; margin-left: 0.5rem\">PERSON</span>\\n</mark>\\n во внеочередном общем собрании акционеров, \\n<mark class=\"entity\" style=\"background: #7aecec; padding: 0.45em 0.6em; margin: 0 0.25em; line-height: 1; border-radius: 0.35em;\">\\n    утвержден\\n    <span style=\"font-size: 0.8em; font-weight: bold; line-height: 1; border-radius: 0.35em; text-transform: uppercase; vertical-align: middle; margin-left: 0.5rem\">ORG</span>\\n</mark>\\n по \\n<mark class=\"entity\" style=\"background: #7aecec; padding: 0.45em 0.6em; margin: 0 0.25em; line-height: 1; border-radius: 0.35em;\">\\n    состоянию на\\n    <span style=\"font-size: 0.8em; font-weight: bold; line-height: 1; border-radius: 0.35em; text-transform: uppercase; vertical-align: middle; margin-left: 0.5rem\">ORG</span>\\n</mark>\\n 21 апреля 2011г.\\r</br>\\r</br>Акционерам предстоит досрочно прекратить полномочия действующих членов \\n<mark class=\"entity\" style=\"background: #aa9cfc; padding: 0.45em 0.6em; margin: 0 0.25em; line-height: 1; border-radius: 0.35em;\">\\n    совета директоров\\n    <span style=\"font-size: 0.8em; font-weight: bold; line-height: 1; border-radius: 0.35em; text-transform: uppercase; vertical-align: middle; margin-left: 0.5rem\">PERSON</span>\\n</mark>\\n &quot;Нутритека&quot; и избрать новых.\\r</br>\\r</br>Напомним, \\n<mark class=\"entity\" style=\"background: #aa9cfc; padding: 0.45em 0.6em; margin: 0 0.25em; line-height: 1; border-radius: 0.35em;\">\\n    нынешний совет\\n    <span style=\"font-size: 0.8em; font-weight: bold; line-height: 1; border-radius: 0.35em; text-transform: uppercase; vertical-align: middle; margin-left: 0.5rem\">PERSON</span>\\n</mark>\\n \\n<mark class=\"entity\" style=\"background: #aa9cfc; padding: 0.45em 0.6em; margin: 0 0.25em; line-height: 1; border-radius: 0.35em;\">\\n    директоров компании был\\n    <span style=\"font-size: 0.8em; font-weight: bold; line-height: 1; border-radius: 0.35em; text-transform: uppercase; vertical-align: middle; margin-left: 0.5rem\">PERSON</span>\\n</mark>\\n \\n<mark class=\"entity\" style=\"background: #aa9cfc; padding: 0.45em 0.6em; margin: 0 0.25em; line-height: 1; border-radius: 0.35em;\">\\n    избран в\\n    <span style=\"font-size: 0.8em; font-weight: bold; line-height: 1; border-radius: 0.35em; text-transform: uppercase; vertical-align: middle; margin-left: 0.5rem\">PERSON</span>\\n</mark>\\n \\n<mark class=\"entity\" style=\"background: #bfe1d9; padding: 0.45em 0.6em; margin: 0 0.25em; line-height: 1; border-radius: 0.35em;\">\\n    феврале 2011\\n    <span style=\"font-size: 0.8em; font-weight: bold; line-height: 1; border-radius: 0.35em; text-transform: uppercase; vertical-align: middle; margin-left: 0.5rem\">DATE</span>\\n</mark>\\nг. \\n<mark class=\"entity\" style=\"background: #aa9cfc; padding: 0.45em 0.6em; margin: 0 0.25em; line-height: 1; border-radius: 0.35em;\">\\n    Тогда акционеры\\n    <span style=\"font-size: 0.8em; font-weight: bold; line-height: 1; border-radius: 0.35em; text-transform: uppercase; vertical-align: middle; margin-left: 0.5rem\">PERSON</span>\\n</mark>\\n в его состав ввели семь новых членов. Из \\n<mark class=\"entity\" style=\"background: #aa9cfc; padding: 0.45em 0.6em; margin: 0 0.25em; line-height: 1; border-radius: 0.35em;\">\\n    прежнего состава\\n    <span style=\"font-size: 0.8em; font-weight: bold; line-height: 1; border-radius: 0.35em; text-transform: uppercase; vertical-align: middle; margin-left: 0.5rem\">PERSON</span>\\n</mark>\\n в \\n<mark class=\"entity\" style=\"background: #aa9cfc; padding: 0.45em 0.6em; margin: 0 0.25em; line-height: 1; border-radius: 0.35em;\">\\n    совет вошли\\n    <span style=\"font-size: 0.8em; font-weight: bold; line-height: 1; border-radius: 0.35em; text-transform: uppercase; vertical-align: middle; margin-left: 0.5rem\">PERSON</span>\\n</mark>\\n Ольга Логвина (представляет интересы \\n<mark class=\"entity\" style=\"background: #aa9cfc; padding: 0.45em 0.6em; margin: 0 0.25em; line-height: 1; border-radius: 0.35em;\">\\n    держателей рублевых облигаций\\n    <span style=\"font-size: 0.8em; font-weight: bold; line-height: 1; border-radius: 0.35em; text-transform: uppercase; vertical-align: middle; margin-left: 0.5rem\">PERSON</span>\\n</mark>\\n) и \\n<mark class=\"entity\" style=\"background: #f0d0ff; padding: 0.45em 0.6em; margin: 0 0.25em; line-height: 1; border-radius: 0.35em;\">\\n    учредитель фонда Concise Capital Management\\n    <span style=\"font-size: 0.8em; font-weight: bold; line-height: 1; border-radius: 0.35em; text-transform: uppercase; vertical-align: middle; margin-left: 0.5rem\">WORK_OF_ART</span>\\n</mark>\\n \\n<mark class=\"entity\" style=\"background: #aa9cfc; padding: 0.45em 0.6em; margin: 0 0.25em; line-height: 1; border-radius: 0.35em;\">\\n    Томас Краснер\\n    <span style=\"font-size: 0.8em; font-weight: bold; line-height: 1; border-radius: 0.35em; text-transform: uppercase; vertical-align: middle; margin-left: 0.5rem\">PERSON</span>\\n</mark>\\n (\\n<mark class=\"entity\" style=\"background: #aa9cfc; padding: 0.45em 0.6em; margin: 0 0.25em; line-height: 1; border-radius: 0.35em;\">\\n    представляет интересы держателей LPN\\n    <span style=\"font-size: 0.8em; font-weight: bold; line-height: 1; border-radius: 0.35em; text-transform: uppercase; vertical-align: middle; margin-left: 0.5rem\">PERSON</span>\\n</mark>\\n). \\n<mark class=\"entity\" style=\"background: #aa9cfc; padding: 0.45em 0.6em; margin: 0 0.25em; line-height: 1; border-radius: 0.35em;\">\\n    Помимо этого\\n    <span style=\"font-size: 0.8em; font-weight: bold; line-height: 1; border-radius: 0.35em; text-transform: uppercase; vertical-align: middle; margin-left: 0.5rem\">PERSON</span>\\n</mark>\\n в \\n<mark class=\"entity\" style=\"background: #aa9cfc; padding: 0.45em 0.6em; margin: 0 0.25em; line-height: 1; border-radius: 0.35em;\">\\n    совет были избраны семеро новых\\n    <span style=\"font-size: 0.8em; font-weight: bold; line-height: 1; border-radius: 0.35em; text-transform: uppercase; vertical-align: middle; margin-left: 0.5rem\">PERSON</span>\\n</mark>\\n членов: \\n<mark class=\"entity\" style=\"background: #7aecec; padding: 0.45em 0.6em; margin: 0 0.25em; line-height: 1; border-radius: 0.35em;\">\\n    Бруно Гианкотти\\n    <span style=\"font-size: 0.8em; font-weight: bold; line-height: 1; border-radius: 0.35em; text-transform: uppercase; vertical-align: middle; margin-left: 0.5rem\">ORG</span>\\n</mark>\\n (независимый директор), \\n<mark class=\"entity\" style=\"background: #aa9cfc; padding: 0.45em 0.6em; margin: 0 0.25em; line-height: 1; border-radius: 0.35em;\">\\n    Константин Джимбинов\\n    <span style=\"font-size: 0.8em; font-weight: bold; line-height: 1; border-radius: 0.35em; text-transform: uppercase; vertical-align: middle; margin-left: 0.5rem\">PERSON</span>\\n</mark>\\n (от банков-кредиторов) и представители &quot;Нутритека&quot; - генеральный директор \\n<mark class=\"entity\" style=\"background: #aa9cfc; padding: 0.45em 0.6em; margin: 0 0.25em; line-height: 1; border-radius: 0.35em;\">\\n    компании Илья Тощенко\\n    <span style=\"font-size: 0.8em; font-weight: bold; line-height: 1; border-radius: 0.35em; text-transform: uppercase; vertical-align: middle; margin-left: 0.5rem\">PERSON</span>\\n</mark>\\n, а также \\n<mark class=\"entity\" style=\"background: #aa9cfc; padding: 0.45em 0.6em; margin: 0 0.25em; line-height: 1; border-radius: 0.35em;\">\\n    Владимир Круглик\\n    <span style=\"font-size: 0.8em; font-weight: bold; line-height: 1; border-radius: 0.35em; text-transform: uppercase; vertical-align: middle; margin-left: 0.5rem\">PERSON</span>\\n</mark>\\n, \\n<mark class=\"entity\" style=\"background: #aa9cfc; padding: 0.45em 0.6em; margin: 0 0.25em; line-height: 1; border-radius: 0.35em;\">\\n    Артур Микаелян\\n    <span style=\"font-size: 0.8em; font-weight: bold; line-height: 1; border-radius: 0.35em; text-transform: uppercase; vertical-align: middle; margin-left: 0.5rem\">PERSON</span>\\n</mark>\\n, \\n<mark class=\"entity\" style=\"background: #aa9cfc; padding: 0.45em 0.6em; margin: 0 0.25em; line-height: 1; border-radius: 0.35em;\">\\n    Александр Рогачев\\n    <span style=\"font-size: 0.8em; font-weight: bold; line-height: 1; border-radius: 0.35em; text-transform: uppercase; vertical-align: middle; margin-left: 0.5rem\">PERSON</span>\\n</mark>\\n, \\n<mark class=\"entity\" style=\"background: #aa9cfc; padding: 0.45em 0.6em; margin: 0 0.25em; line-height: 1; border-radius: 0.35em;\">\\n    Геннадий Шамраев\\n    <span style=\"font-size: 0.8em; font-weight: bold; line-height: 1; border-radius: 0.35em; text-transform: uppercase; vertical-align: middle; margin-left: 0.5rem\">PERSON</span>\\n</mark>\\n.\\r</br>\\r</br>Прежде в \\n<mark class=\"entity\" style=\"background: #aa9cfc; padding: 0.45em 0.6em; margin: 0 0.25em; line-height: 1; border-radius: 0.35em;\">\\n    совет директоров\\n    <span style=\"font-size: 0.8em; font-weight: bold; line-height: 1; border-radius: 0.35em; text-transform: uppercase; vertical-align: middle; margin-left: 0.5rem\">PERSON</span>\\n</mark>\\n &quot;Нутритека&quot; входили представители Marshall Capital Partners \\n<mark class=\"entity\" style=\"background: #aa9cfc; padding: 0.45em 0.6em; margin: 0 0.25em; line-height: 1; border-radius: 0.35em;\">\\n    Сергей Азатян\\n    <span style=\"font-size: 0.8em; font-weight: bold; line-height: 1; border-radius: 0.35em; text-transform: uppercase; vertical-align: middle; margin-left: 0.5rem\">PERSON</span>\\n</mark>\\n, \\n<mark class=\"entity\" style=\"background: #aa9cfc; padding: 0.45em 0.6em; margin: 0 0.25em; line-height: 1; border-radius: 0.35em;\">\\n    Константин Малофеев\\n    <span style=\"font-size: 0.8em; font-weight: bold; line-height: 1; border-radius: 0.35em; text-transform: uppercase; vertical-align: middle; margin-left: 0.5rem\">PERSON</span>\\n</mark>\\n и \\n<mark class=\"entity\" style=\"background: #aa9cfc; padding: 0.45em 0.6em; margin: 0 0.25em; line-height: 1; border-radius: 0.35em;\">\\n    Дмитрий Скуратов\\n    <span style=\"font-size: 0.8em; font-weight: bold; line-height: 1; border-radius: 0.35em; text-transform: uppercase; vertical-align: middle; margin-left: 0.5rem\">PERSON</span>\\n</mark>\\n, \\n<mark class=\"entity\" style=\"background: #aa9cfc; padding: 0.45em 0.6em; margin: 0 0.25em; line-height: 1; border-radius: 0.35em;\">\\n    управляющий директор ВТБ Алексей Махнев\\n    <span style=\"font-size: 0.8em; font-weight: bold; line-height: 1; border-radius: 0.35em; text-transform: uppercase; vertical-align: middle; margin-left: 0.5rem\">PERSON</span>\\n</mark>\\n. \\n<mark class=\"entity\" style=\"background: #aa9cfc; padding: 0.45em 0.6em; margin: 0 0.25em; line-height: 1; border-radius: 0.35em;\">\\n    Кроме того\\n    <span style=\"font-size: 0.8em; font-weight: bold; line-height: 1; border-radius: 0.35em; text-transform: uppercase; vertical-align: middle; margin-left: 0.5rem\">PERSON</span>\\n</mark>\\n, членами совета являлись \\n<mark class=\"entity\" style=\"background: #aa9cfc; padding: 0.45em 0.6em; margin: 0 0.25em; line-height: 1; border-radius: 0.35em;\">\\n    Юрий Булатов\\n    <span style=\"font-size: 0.8em; font-weight: bold; line-height: 1; border-radius: 0.35em; text-transform: uppercase; vertical-align: middle; margin-left: 0.5rem\">PERSON</span>\\n</mark>\\n, \\n<mark class=\"entity\" style=\"background: #aa9cfc; padding: 0.45em 0.6em; margin: 0 0.25em; line-height: 1; border-radius: 0.35em;\">\\n    Олег Хуажев\\n    <span style=\"font-size: 0.8em; font-weight: bold; line-height: 1; border-radius: 0.35em; text-transform: uppercase; vertical-align: middle; margin-left: 0.5rem\">PERSON</span>\\n</mark>\\n и независимый член совета \\n<mark class=\"entity\" style=\"background: #aa9cfc; padding: 0.45em 0.6em; margin: 0 0.25em; line-height: 1; border-radius: 0.35em;\">\\n    Максим Волков\\n    <span style=\"font-size: 0.8em; font-weight: bold; line-height: 1; border-radius: 0.35em; text-transform: uppercase; vertical-align: middle; margin-left: 0.5rem\">PERSON</span>\\n</mark>\\n.\\r</br>\\r</br>Ранее сообщалось, что основатель компании &quot;\\n<mark class=\"entity\" style=\"background: #aa9cfc; padding: 0.45em 0.6em; margin: 0 0.25em; line-height: 1; border-radius: 0.35em;\">\\n    Нутритек\\n    <span style=\"font-size: 0.8em; font-weight: bold; line-height: 1; border-radius: 0.35em; text-transform: uppercase; vertical-align: middle; margin-left: 0.5rem\">PERSON</span>\\n</mark>\\n&quot; \\n<mark class=\"entity\" style=\"background: #7aecec; padding: 0.45em 0.6em; margin: 0 0.25em; line-height: 1; border-radius: 0.35em;\">\\n    Георгий Сажинов\\n    <span style=\"font-size: 0.8em; font-weight: bold; line-height: 1; border-radius: 0.35em; text-transform: uppercase; vertical-align: middle; margin-left: 0.5rem\">ORG</span>\\n</mark>\\n получил около \\n<mark class=\"entity\" style=\"background: #e4e7d2; padding: 0.45em 0.6em; margin: 0 0.25em; line-height: 1; border-radius: 0.35em;\">\\n    40%\\n    <span style=\"font-size: 0.8em; font-weight: bold; line-height: 1; border-radius: 0.35em; text-transform: uppercase; vertical-align: middle; margin-left: 0.5rem\">PERCENT</span>\\n</mark>\\n \\n<mark class=\"entity\" style=\"background: #aa9cfc; padding: 0.45em 0.6em; margin: 0 0.25em; line-height: 1; border-radius: 0.35em;\">\\n    акций компании\\n    <span style=\"font-size: 0.8em; font-weight: bold; line-height: 1; border-radius: 0.35em; text-transform: uppercase; vertical-align: middle; margin-left: 0.5rem\">PERSON</span>\\n</mark>\\n из \\n<mark class=\"entity\" style=\"background: #e4e7d2; padding: 0.45em 0.6em; margin: 0 0.25em; line-height: 1; border-radius: 0.35em;\">\\n    75%\\n    <span style=\"font-size: 0.8em; font-weight: bold; line-height: 1; border-radius: 0.35em; text-transform: uppercase; vertical-align: middle; margin-left: 0.5rem\">PERCENT</span>\\n</mark>\\n, \\n<mark class=\"entity\" style=\"background: #aa9cfc; padding: 0.45em 0.6em; margin: 0 0.25em; line-height: 1; border-radius: 0.35em;\">\\n    которые контролировали фонды под управлением\\n    <span style=\"font-size: 0.8em; font-weight: bold; line-height: 1; border-radius: 0.35em; text-transform: uppercase; vertical-align: middle; margin-left: 0.5rem\">PERSON</span>\\n</mark>\\n Marshall Capital и \\n<mark class=\"entity\" style=\"background: #aa9cfc; padding: 0.45em 0.6em; margin: 0 0.25em; line-height: 1; border-radius: 0.35em;\">\\n    структуры К.Малофеева\\n    <span style=\"font-size: 0.8em; font-weight: bold; line-height: 1; border-radius: 0.35em; text-transform: uppercase; vertical-align: middle; margin-left: 0.5rem\">PERSON</span>\\n</mark>\\n. Г.Сажинов обменял свою \\n<mark class=\"entity\" style=\"background: #aa9cfc; padding: 0.45em 0.6em; margin: 0 0.25em; line-height: 1; border-radius: 0.35em;\">\\n    долю в\\n    <span style=\"font-size: 0.8em; font-weight: bold; line-height: 1; border-radius: 0.35em; text-transform: uppercase; vertical-align: middle; margin-left: 0.5rem\">PERSON</span>\\n</mark>\\n девелоперской компании \\n<mark class=\"entity\" style=\"background: #aa9cfc; padding: 0.45em 0.6em; margin: 0 0.25em; line-height: 1; border-radius: 0.35em;\">\\n    Marshall\\n    <span style=\"font-size: 0.8em; font-weight: bold; line-height: 1; border-radius: 0.35em; text-transform: uppercase; vertical-align: middle; margin-left: 0.5rem\">PERSON</span>\\n</mark>\\n Estate (\\n<mark class=\"entity\" style=\"background: #aa9cfc; padding: 0.45em 0.6em; margin: 0 0.25em; line-height: 1; border-radius: 0.35em;\">\\n    контролируется Marshall Capital\\n    <span style=\"font-size: 0.8em; font-weight: bold; line-height: 1; border-radius: 0.35em; text-transform: uppercase; vertical-align: middle; margin-left: 0.5rem\">PERSON</span>\\n</mark>\\n) на \\n<mark class=\"entity\" style=\"background: #aa9cfc; padding: 0.45em 0.6em; margin: 0 0.25em; line-height: 1; border-radius: 0.35em;\">\\n    акции &quot;Нутритека&quot;\\n    <span style=\"font-size: 0.8em; font-weight: bold; line-height: 1; border-radius: 0.35em; text-transform: uppercase; vertical-align: middle; margin-left: 0.5rem\">PERSON</span>\\n</mark>\\n.\\r</br>\\r</br>30 \\n<mark class=\"entity\" style=\"background: #aa9cfc; padding: 0.45em 0.6em; margin: 0 0.25em; line-height: 1; border-radius: 0.35em;\">\\n    июня\\n    <span style=\"font-size: 0.8em; font-weight: bold; line-height: 1; border-radius: 0.35em; text-transform: uppercase; vertical-align: middle; margin-left: 0.5rem\">PERSON</span>\\n</mark>\\n \\n<mark class=\"entity\" style=\"background: #bfe1d9; padding: 0.45em 0.6em; margin: 0 0.25em; line-height: 1; border-radius: 0.35em;\">\\n    2010\\n    <span style=\"font-size: 0.8em; font-weight: bold; line-height: 1; border-radius: 0.35em; text-transform: uppercase; vertical-align: middle; margin-left: 0.5rem\">DATE</span>\\n</mark>\\nг. &quot;Нутритек&quot; объявил о неспособности исполнить реструктурированные обязательства перед всеми кредиторами (банками-кредиторами, \\n<mark class=\"entity\" style=\"background: #aa9cfc; padding: 0.45em 0.6em; margin: 0 0.25em; line-height: 1; border-radius: 0.35em;\">\\n    держателями рублевых\\n    <span style=\"font-size: 0.8em; font-weight: bold; line-height: 1; border-radius: 0.35em; text-transform: uppercase; vertical-align: middle; margin-left: 0.5rem\">PERSON</span>\\n</mark>\\n облигаций и держателями кредитных нот) из-за недостатка \\n<mark class=\"entity\" style=\"background: #7aecec; padding: 0.45em 0.6em; margin: 0 0.25em; line-height: 1; border-radius: 0.35em;\">\\n    денежных\\n    <span style=\"font-size: 0.8em; font-weight: bold; line-height: 1; border-radius: 0.35em; text-transform: uppercase; vertical-align: middle; margin-left: 0.5rem\">ORG</span>\\n</mark>\\n средств. \\n<mark class=\"entity\" style=\"background: #7aecec; padding: 0.45em 0.6em; margin: 0 0.25em; line-height: 1; border-radius: 0.35em;\">\\n    В\\n    <span style=\"font-size: 0.8em; font-weight: bold; line-height: 1; border-radius: 0.35em; text-transform: uppercase; vertical-align: middle; margin-left: 0.5rem\">ORG</span>\\n</mark>\\n настоящее время компания находится в техническом \\n<mark class=\"entity\" style=\"background: #aa9cfc; padding: 0.45em 0.6em; margin: 0 0.25em; line-height: 1; border-radius: 0.35em;\">\\n    дефолте\\n    <span style=\"font-size: 0.8em; font-weight: bold; line-height: 1; border-radius: 0.35em; text-transform: uppercase; vertical-align: middle; margin-left: 0.5rem\">PERSON</span>\\n</mark>\\n по \\n<mark class=\"entity\" style=\"background: #aa9cfc; padding: 0.45em 0.6em; margin: 0 0.25em; line-height: 1; border-radius: 0.35em;\">\\n    существующим кредитным обязательствам\\n    <span style=\"font-size: 0.8em; font-weight: bold; line-height: 1; border-radius: 0.35em; text-transform: uppercase; vertical-align: middle; margin-left: 0.5rem\">PERSON</span>\\n</mark>\\n. \\n<mark class=\"entity\" style=\"background: #aa9cfc; padding: 0.45em 0.6em; margin: 0 0.25em; line-height: 1; border-radius: 0.35em;\">\\n    Кроме того\\n    <span style=\"font-size: 0.8em; font-weight: bold; line-height: 1; border-radius: 0.35em; text-transform: uppercase; vertical-align: middle; margin-left: 0.5rem\">PERSON</span>\\n</mark>\\n, &quot;\\n<mark class=\"entity\" style=\"background: #f0d0ff; padding: 0.45em 0.6em; margin: 0 0.25em; line-height: 1; border-radius: 0.35em;\">\\n    Нутритеку\\n    <span style=\"font-size: 0.8em; font-weight: bold; line-height: 1; border-radius: 0.35em; text-transform: uppercase; vertical-align: middle; margin-left: 0.5rem\">WORK_OF_ART</span>\\n</mark>\\n&quot; предъявлен \\n<mark class=\"entity\" style=\"background: #aa9cfc; padding: 0.45em 0.6em; margin: 0 0.25em; line-height: 1; border-radius: 0.35em;\">\\n    исполнительный лист\\n    <span style=\"font-size: 0.8em; font-weight: bold; line-height: 1; border-radius: 0.35em; text-transform: uppercase; vertical-align: middle; margin-left: 0.5rem\">PERSON</span>\\n</mark>\\n о \\n<mark class=\"entity\" style=\"background: #aa9cfc; padding: 0.45em 0.6em; margin: 0 0.25em; line-height: 1; border-radius: 0.35em;\">\\n    взыскании задолженности\\n    <span style=\"font-size: 0.8em; font-weight: bold; line-height: 1; border-radius: 0.35em; text-transform: uppercase; vertical-align: middle; margin-left: 0.5rem\">PERSON</span>\\n</mark>\\n в \\n<mark class=\"entity\" style=\"background: #feca74; padding: 0.45em 0.6em; margin: 0 0.25em; line-height: 1; border-radius: 0.35em;\">\\n    размере\\n    <span style=\"font-size: 0.8em; font-weight: bold; line-height: 1; border-radius: 0.35em; text-transform: uppercase; vertical-align: middle; margin-left: 0.5rem\">GPE</span>\\n</mark>\\n 10,84 \\n<mark class=\"entity\" style=\"background: #ddd; padding: 0.45em 0.6em; margin: 0 0.25em; line-height: 1; border-radius: 0.35em;\">\\n    млн руб\\n    <span style=\"font-size: 0.8em; font-weight: bold; line-height: 1; border-radius: 0.35em; text-transform: uppercase; vertical-align: middle; margin-left: 0.5rem\">FAC</span>\\n</mark>\\n. по просроченным российским \\n<mark class=\"entity\" style=\"background: #aa9cfc; padding: 0.45em 0.6em; margin: 0 0.25em; line-height: 1; border-radius: 0.35em;\">\\n    долговым обязательствам\\n    <span style=\"font-size: 0.8em; font-weight: bold; line-height: 1; border-radius: 0.35em; text-transform: uppercase; vertical-align: middle; margin-left: 0.5rem\">PERSON</span>\\n</mark>\\n \\n<mark class=\"entity\" style=\"background: #aa9cfc; padding: 0.45em 0.6em; margin: 0 0.25em; line-height: 1; border-radius: 0.35em;\">\\n    перед кредиторами\\n    <span style=\"font-size: 0.8em; font-weight: bold; line-height: 1; border-radius: 0.35em; text-transform: uppercase; vertical-align: middle; margin-left: 0.5rem\">PERSON</span>\\n</mark>\\n, не принявшими участие в \\n<mark class=\"entity\" style=\"background: #aa9cfc; padding: 0.45em 0.6em; margin: 0 0.25em; line-height: 1; border-radius: 0.35em;\">\\n    реструктуризации\\n    <span style=\"font-size: 0.8em; font-weight: bold; line-height: 1; border-radius: 0.35em; text-transform: uppercase; vertical-align: middle; margin-left: 0.5rem\">PERSON</span>\\n</mark>\\n.\\r</br>\\r</br>Группа &quot;Нутритек&quot; \\n<mark class=\"entity\" style=\"background: #aa9cfc; padding: 0.45em 0.6em; margin: 0 0.25em; line-height: 1; border-radius: 0.35em;\">\\n    является крупнейшим производителем\\n    <span style=\"font-size: 0.8em; font-weight: bold; line-height: 1; border-radius: 0.35em; text-transform: uppercase; vertical-align: middle; margin-left: 0.5rem\">PERSON</span>\\n</mark>\\n детского и \\n<mark class=\"entity\" style=\"background: #aa9cfc; padding: 0.45em 0.6em; margin: 0 0.25em; line-height: 1; border-radius: 0.35em;\">\\n    специального питания и\\n    <span style=\"font-size: 0.8em; font-weight: bold; line-height: 1; border-radius: 0.35em; text-transform: uppercase; vertical-align: middle; margin-left: 0.5rem\">PERSON</span>\\n</mark>\\n одним из ведущих производителей \\n<mark class=\"entity\" style=\"background: #aa9cfc; padding: 0.45em 0.6em; margin: 0 0.25em; line-height: 1; border-radius: 0.35em;\">\\n    молочной продукции в\\n    <span style=\"font-size: 0.8em; font-weight: bold; line-height: 1; border-radius: 0.35em; text-transform: uppercase; vertical-align: middle; margin-left: 0.5rem\">PERSON</span>\\n</mark>\\n \\n<mark class=\"entity\" style=\"background: #aa9cfc; padding: 0.45em 0.6em; margin: 0 0.25em; line-height: 1; border-radius: 0.35em;\">\\n    России\\n    <span style=\"font-size: 0.8em; font-weight: bold; line-height: 1; border-radius: 0.35em; text-transform: uppercase; vertical-align: middle; margin-left: 0.5rem\">PERSON</span>\\n</mark>\\n. \\n<mark class=\"entity\" style=\"background: #aa9cfc; padding: 0.45em 0.6em; margin: 0 0.25em; line-height: 1; border-radius: 0.35em;\">\\n    Холдинг был\\n    <span style=\"font-size: 0.8em; font-weight: bold; line-height: 1; border-radius: 0.35em; text-transform: uppercase; vertical-align: middle; margin-left: 0.5rem\">PERSON</span>\\n</mark>\\n основан в \\n<mark class=\"entity\" style=\"background: #bfe1d9; padding: 0.45em 0.6em; margin: 0 0.25em; line-height: 1; border-radius: 0.35em;\">\\n    1990\\n    <span style=\"font-size: 0.8em; font-weight: bold; line-height: 1; border-radius: 0.35em; text-transform: uppercase; vertical-align: middle; margin-left: 0.5rem\">DATE</span>\\n</mark>\\nг., на \\n<mark class=\"entity\" style=\"background: #aa9cfc; padding: 0.45em 0.6em; margin: 0 0.25em; line-height: 1; border-radius: 0.35em;\">\\n    сегодняшний день\\n    <span style=\"font-size: 0.8em; font-weight: bold; line-height: 1; border-radius: 0.35em; text-transform: uppercase; vertical-align: middle; margin-left: 0.5rem\">PERSON</span>\\n</mark>\\n он объединяет \\n<mark class=\"entity\" style=\"background: #e4e7d2; padding: 0.45em 0.6em; margin: 0 0.25em; line-height: 1; border-radius: 0.35em;\">\\n    14\\n    <span style=\"font-size: 0.8em; font-weight: bold; line-height: 1; border-radius: 0.35em; text-transform: uppercase; vertical-align: middle; margin-left: 0.5rem\">CARDINAL</span>\\n</mark>\\n \\n<mark class=\"entity\" style=\"background: #aa9cfc; padding: 0.45em 0.6em; margin: 0 0.25em; line-height: 1; border-radius: 0.35em;\">\\n    предприятий\\n    <span style=\"font-size: 0.8em; font-weight: bold; line-height: 1; border-radius: 0.35em; text-transform: uppercase; vertical-align: middle; margin-left: 0.5rem\">PERSON</span>\\n</mark>\\n, \\n<mark class=\"entity\" style=\"background: #aa9cfc; padding: 0.45em 0.6em; margin: 0 0.25em; line-height: 1; border-radius: 0.35em;\">\\n    выпускающих детское и специальное питание в\\n    <span style=\"font-size: 0.8em; font-weight: bold; line-height: 1; border-radius: 0.35em; text-transform: uppercase; vertical-align: middle; margin-left: 0.5rem\">PERSON</span>\\n</mark>\\n \\n<mark class=\"entity\" style=\"background: #aa9cfc; padding: 0.45em 0.6em; margin: 0 0.25em; line-height: 1; border-radius: 0.35em;\">\\n    России\\n    <span style=\"font-size: 0.8em; font-weight: bold; line-height: 1; border-radius: 0.35em; text-transform: uppercase; vertical-align: middle; margin-left: 0.5rem\">PERSON</span>\\n</mark>\\n, на \\n<mark class=\"entity\" style=\"background: #aa9cfc; padding: 0.45em 0.6em; margin: 0 0.25em; line-height: 1; border-radius: 0.35em;\">\\n    Украине\\n    <span style=\"font-size: 0.8em; font-weight: bold; line-height: 1; border-radius: 0.35em; text-transform: uppercase; vertical-align: middle; margin-left: 0.5rem\">PERSON</span>\\n</mark>\\n, в \\n<mark class=\"entity\" style=\"background: #aa9cfc; padding: 0.45em 0.6em; margin: 0 0.25em; line-height: 1; border-radius: 0.35em;\">\\n    Эстонии и\\n    <span style=\"font-size: 0.8em; font-weight: bold; line-height: 1; border-radius: 0.35em; text-transform: uppercase; vertical-align: middle; margin-left: 0.5rem\">PERSON</span>\\n</mark>\\n Новой Зеландии.\\r\\n\\r\\n</div>'"
            ]
          },
          "metadata": {
            "tags": []
          },
          "execution_count": 52
        }
      ]
    },
    {
      "cell_type": "code",
      "metadata": {
        "colab": {
          "base_uri": "https://localhost:8080/"
        },
        "id": "Y3BccmSSBj8M",
        "outputId": "94c861f3-883e-4179-83e9-0d3bf6c252c8"
      },
      "source": [
        "pip install razdel"
      ],
      "execution_count": 36,
      "outputs": [
        {
          "output_type": "stream",
          "text": [
            "Collecting razdel\n",
            "  Downloading razdel-0.5.0-py3-none-any.whl (21 kB)\n",
            "Installing collected packages: razdel\n",
            "Successfully installed razdel-0.5.0\n"
          ],
          "name": "stdout"
        }
      ]
    },
    {
      "cell_type": "code",
      "metadata": {
        "id": "skYaNCiC5xM4"
      },
      "source": [
        "from razdel import tokenize"
      ],
      "execution_count": 37,
      "outputs": []
    },
    {
      "cell_type": "code",
      "metadata": {
        "id": "9RurtOkHFQ84"
      },
      "source": [
        "words_docs = []\n",
        "for ix, rec in enumerate(records):\n",
        "    words = []\n",
        "    for token in tokenize(rec.text):\n",
        "       \n",
        "        result = 'None'        \n",
        "        \n",
        "        for item in rec.spans:            \n",
        "            if (token.start >= item.start) and (token.stop <= item.stop) and (item.type == 'PER'):\n",
        "                result = 'PER'\n",
        "                break\n",
        "            if (token.start >= item.start) and (token.stop <= item.stop) and (item.type == 'ORG'):\n",
        "                result = 'ORG'\n",
        "                break\n",
        "            if (token.start >= item.start) and (token.stop <= item.stop) and (item.type == 'MEDIA'):\n",
        "                result = 'MEDIA'\n",
        "                break\n",
        "            if (token.start >= item.start) and (token.stop <= item.stop) and (item.type == 'LOC'):\n",
        "                result = 'LOC'\n",
        "                break\n",
        "            if (token.start >= item.start) and (token.stop <= item.stop) and (item.type == 'GEOPOLIT'):\n",
        "                result = 'GEOPOLIT'\n",
        "                break\n",
        "                \n",
        "    \n",
        "        words.append([token.text, result])\n",
        "    words_docs.extend(words)"
      ],
      "execution_count": 53,
      "outputs": []
    },
    {
      "cell_type": "code",
      "metadata": {
        "id": "89XI-ZCzFROT"
      },
      "source": [
        "import pandas as pd"
      ],
      "execution_count": 54,
      "outputs": []
    },
    {
      "cell_type": "code",
      "metadata": {
        "id": "aLYRwVX9FRX9"
      },
      "source": [
        "df_words = pd.DataFrame(words_docs, columns=['word', 'tag'])\n"
      ],
      "execution_count": 55,
      "outputs": []
    },
    {
      "cell_type": "code",
      "metadata": {
        "colab": {
          "base_uri": "https://localhost:8080/"
        },
        "id": "-JLJyf2lFRh0",
        "outputId": "2eaf9d0d-ad0b-4b60-ff64-26dc3cba311b"
      },
      "source": [
        "df_words['tag'].value_counts()"
      ],
      "execution_count": 56,
      "outputs": [
        {
          "output_type": "execute_result",
          "data": {
            "text/plain": [
              "None        218810\n",
              "PER          21145\n",
              "ORG          13613\n",
              "LOC           4556\n",
              "GEOPOLIT      4344\n",
              "MEDIA         2482\n",
              "Name: tag, dtype: int64"
            ]
          },
          "metadata": {
            "tags": []
          },
          "execution_count": 56
        }
      ]
    },
    {
      "cell_type": "code",
      "metadata": {
        "colab": {
          "base_uri": "https://localhost:8080/",
          "height": 142
        },
        "id": "Qqzlsp5dFbDy",
        "outputId": "e6c75a17-b0a0-4d02-fa3f-9cc3a563d437"
      },
      "source": [
        "df_words.head(3)"
      ],
      "execution_count": 57,
      "outputs": [
        {
          "output_type": "execute_result",
          "data": {
            "text/html": [
              "<div>\n",
              "<style scoped>\n",
              "    .dataframe tbody tr th:only-of-type {\n",
              "        vertical-align: middle;\n",
              "    }\n",
              "\n",
              "    .dataframe tbody tr th {\n",
              "        vertical-align: top;\n",
              "    }\n",
              "\n",
              "    .dataframe thead th {\n",
              "        text-align: right;\n",
              "    }\n",
              "</style>\n",
              "<table border=\"1\" class=\"dataframe\">\n",
              "  <thead>\n",
              "    <tr style=\"text-align: right;\">\n",
              "      <th></th>\n",
              "      <th>word</th>\n",
              "      <th>tag</th>\n",
              "    </tr>\n",
              "  </thead>\n",
              "  <tbody>\n",
              "    <tr>\n",
              "      <th>0</th>\n",
              "      <td>ФАС</td>\n",
              "      <td>ORG</td>\n",
              "    </tr>\n",
              "    <tr>\n",
              "      <th>1</th>\n",
              "      <td>России</td>\n",
              "      <td>GEOPOLIT</td>\n",
              "    </tr>\n",
              "    <tr>\n",
              "      <th>2</th>\n",
              "      <td>:</td>\n",
              "      <td>None</td>\n",
              "    </tr>\n",
              "  </tbody>\n",
              "</table>\n",
              "</div>"
            ],
            "text/plain": [
              "     word       tag\n",
              "0     ФАС       ORG\n",
              "1  России  GEOPOLIT\n",
              "2       :      None"
            ]
          },
          "metadata": {
            "tags": []
          },
          "execution_count": 57
        }
      ]
    },
    {
      "cell_type": "code",
      "metadata": {
        "colab": {
          "base_uri": "https://localhost:8080/"
        },
        "id": "vvtQNHj1FbOA",
        "outputId": "fe16fc3d-394c-4e3e-f128-2ac52ce447ee"
      },
      "source": [
        "df_words.shape"
      ],
      "execution_count": 58,
      "outputs": [
        {
          "output_type": "execute_result",
          "data": {
            "text/plain": [
              "(264950, 2)"
            ]
          },
          "metadata": {
            "tags": []
          },
          "execution_count": 58
        }
      ]
    },
    {
      "cell_type": "code",
      "metadata": {
        "id": "q5KICephFbY5"
      },
      "source": [
        "import tensorflow as tf\n",
        "\n",
        "from tensorflow.keras import Sequential\n",
        "from tensorflow.keras.layers import Dense, Embedding, GlobalAveragePooling1D, GlobalMaxPooling1D, Conv1D, Conv2D, GRU, LSTM, Dropout, Input\n",
        "from tensorflow.keras.layers.experimental.preprocessing import TextVectorization"
      ],
      "execution_count": 59,
      "outputs": []
    },
    {
      "cell_type": "code",
      "metadata": {
        "id": "FDn6__LEFjhH"
      },
      "source": [
        "from sklearn import model_selection, preprocessing, linear_model\n",
        "\n",
        "train_x, valid_x, train_y, valid_y = model_selection.train_test_split(df_words['word'], df_words['tag'])\n",
        "\n",
        "# labelEncode целевую переменную\n",
        "encoder = preprocessing.LabelEncoder()\n",
        "train_y = encoder.fit_transform(train_y)\n",
        "valid_y = encoder.fit_transform(valid_y)"
      ],
      "execution_count": 60,
      "outputs": []
    },
    {
      "cell_type": "code",
      "metadata": {
        "colab": {
          "base_uri": "https://localhost:8080/"
        },
        "id": "MVUP3vmwFjyR",
        "outputId": "c2491046-0998-4a01-ef50-73f7f753c4aa"
      },
      "source": [
        "train_x.apply(len).max(axis=0)"
      ],
      "execution_count": 61,
      "outputs": [
        {
          "output_type": "execute_result",
          "data": {
            "text/plain": [
              "55"
            ]
          },
          "metadata": {
            "tags": []
          },
          "execution_count": 61
        }
      ]
    },
    {
      "cell_type": "code",
      "metadata": {
        "id": "nX170FQJFkCo"
      },
      "source": [
        "train_data = tf.data.Dataset.from_tensor_slices((train_x, train_y))\n",
        "valid_data = tf.data.Dataset.from_tensor_slices((valid_x, valid_y))\n",
        "\n",
        "train_data = train_data.batch(16)\n",
        "valid_data = valid_data.batch(16)"
      ],
      "execution_count": 62,
      "outputs": []
    },
    {
      "cell_type": "code",
      "metadata": {
        "id": "FoMslbaSFkTB"
      },
      "source": [
        "AUTOTUNE = tf.data.AUTOTUNE\n",
        "\n",
        "train_data = train_data.cache().prefetch(buffer_size=AUTOTUNE)\n",
        "valid_data = valid_data.cache().prefetch(buffer_size=AUTOTUNE)"
      ],
      "execution_count": 63,
      "outputs": []
    },
    {
      "cell_type": "code",
      "metadata": {
        "id": "4gWBuXcmFtQP"
      },
      "source": [
        "def custom_standardization(input_data):\n",
        "    return input_data\n",
        "\n",
        "def data_preparation(train_data, seq_len=1, vocab_size = 30000):    \n",
        "\n",
        "    vectorize_layer = TextVectorization(\n",
        "        standardize=custom_standardization,\n",
        "        max_tokens=vocab_size,\n",
        "        output_mode='int',\n",
        "        output_sequence_length=seq_len)\n",
        "\n",
        "\n",
        "    # Make a text-only dataset (no labels) and call adapt to build the vocabulary.\n",
        "    text_data = train_data.map(lambda x, y: x)\n",
        "    vectorize_layer.adapt(text_data)\n",
        "    return vectorize_layer"
      ],
      "execution_count": 64,
      "outputs": []
    },
    {
      "cell_type": "code",
      "metadata": {
        "id": "8O24cabBFtbn"
      },
      "source": [
        "embedding_dim = 64"
      ],
      "execution_count": 65,
      "outputs": []
    },
    {
      "cell_type": "code",
      "metadata": {
        "id": "1K-nQ97JFtd_"
      },
      "source": [
        "class modelNER(tf.keras.Model):\n",
        "    def __init__(self):\n",
        "        super(modelNER, self).__init__()\n",
        "        self.emb = Embedding(vocab_size, embedding_dim)\n",
        "        self.gPool = GlobalMaxPooling1D()\n",
        "        self.fc1 = Dense(300, activation='relu')\n",
        "        self.fc2 = Dense(50, activation='relu')\n",
        "        self.fc3 = Dense(6, activation='softmax')\n",
        "\n",
        "    def call(self, x):\n",
        "        x = vectorize_layer(x)\n",
        "        x = self.emb(x)\n",
        "        pool_x = self.gPool(x)\n",
        "        \n",
        "        fc_x = self.fc1(pool_x)\n",
        "        fc_x = self.fc2(fc_x)\n",
        "        \n",
        "        concat_x = tf.concat([pool_x, fc_x], axis=1)\n",
        "        prob = self.fc3(concat_x)\n",
        "        return prob"
      ],
      "execution_count": 66,
      "outputs": []
    },
    {
      "cell_type": "code",
      "metadata": {
        "colab": {
          "base_uri": "https://localhost:8080/"
        },
        "id": "Ncsvl0a9Fz3i",
        "outputId": "a0c5996e-dffb-44c8-b4c4-da8b36ca5085"
      },
      "source": [
        "vocab_size = 30000\n",
        "vectorize_layer = data_preparation(train_data, seq_len = 1, vocab_size=vocab_size)\n",
        "\n",
        "\n",
        "mmodel = modelNER()\n",
        "mmodel.compile(optimizer='adam',\n",
        "              loss=tf.keras.losses.SparseCategoricalCrossentropy(),\n",
        "              metrics=['accuracy'])\n",
        "mmodel.fit(train_data, validation_data=valid_data, epochs=5)"
      ],
      "execution_count": 67,
      "outputs": [
        {
          "output_type": "stream",
          "text": [
            "Epoch 1/5\n",
            "12420/12420 [==============================] - 315s 25ms/step - loss: 0.2847 - accuracy: 0.9175 - val_loss: 0.2009 - val_accuracy: 0.9404\n",
            "Epoch 2/5\n",
            "12420/12420 [==============================] - 292s 24ms/step - loss: 0.1226 - accuracy: 0.9632 - val_loss: 0.2032 - val_accuracy: 0.9418\n",
            "Epoch 3/5\n",
            "12420/12420 [==============================] - 304s 24ms/step - loss: 0.1083 - accuracy: 0.9654 - val_loss: 0.2302 - val_accuracy: 0.9408\n",
            "Epoch 4/5\n",
            "12420/12420 [==============================] - 280s 23ms/step - loss: 0.1033 - accuracy: 0.9662 - val_loss: 0.2777 - val_accuracy: 0.8848\n",
            "Epoch 5/5\n",
            "12420/12420 [==============================] - 277s 22ms/step - loss: 0.1007 - accuracy: 0.9667 - val_loss: 0.3143 - val_accuracy: 0.8743\n"
          ],
          "name": "stdout"
        },
        {
          "output_type": "execute_result",
          "data": {
            "text/plain": [
              "<tensorflow.python.keras.callbacks.History at 0x7fcd9305ddd0>"
            ]
          },
          "metadata": {
            "tags": []
          },
          "execution_count": 67
        }
      ]
    },
    {
      "cell_type": "code",
      "metadata": {
        "colab": {
          "base_uri": "https://localhost:8080/"
        },
        "id": "8985toAMF0Dg",
        "outputId": "ba690ced-39bd-4292-85af-d8aca1792412"
      },
      "source": [
        "vocab_size = 30000\n",
        "vectorize_layer = data_preparation(train_data, seq_len = 5, vocab_size=vocab_size)\n",
        "\n",
        "\n",
        "mmodel = modelNER()\n",
        "mmodel.compile(optimizer='adam',\n",
        "              loss=tf.keras.losses.SparseCategoricalCrossentropy(),\n",
        "              metrics=['accuracy'])\n",
        "mmodel.fit(train_data, validation_data=valid_data, epochs=5)"
      ],
      "execution_count": 68,
      "outputs": [
        {
          "output_type": "stream",
          "text": [
            "Epoch 1/5\n",
            "12420/12420 [==============================] - 269s 22ms/step - loss: 0.2949 - accuracy: 0.9140 - val_loss: 0.2048 - val_accuracy: 0.9393\n",
            "Epoch 2/5\n",
            "12420/12420 [==============================] - 259s 21ms/step - loss: 0.1257 - accuracy: 0.9623 - val_loss: 0.2008 - val_accuracy: 0.9419\n",
            "Epoch 3/5\n",
            "12420/12420 [==============================] - 251s 20ms/step - loss: 0.1094 - accuracy: 0.9652 - val_loss: 0.2127 - val_accuracy: 0.9422\n",
            "Epoch 4/5\n",
            "12420/12420 [==============================] - 255s 21ms/step - loss: 0.1043 - accuracy: 0.9661 - val_loss: 0.2475 - val_accuracy: 0.9416\n",
            "Epoch 5/5\n",
            "12420/12420 [==============================] - 256s 21ms/step - loss: 0.1015 - accuracy: 0.9665 - val_loss: 0.2403 - val_accuracy: 0.9360\n"
          ],
          "name": "stdout"
        },
        {
          "output_type": "execute_result",
          "data": {
            "text/plain": [
              "<tensorflow.python.keras.callbacks.History at 0x7fcd929cee10>"
            ]
          },
          "metadata": {
            "tags": []
          },
          "execution_count": 68
        }
      ]
    },
    {
      "cell_type": "code",
      "metadata": {
        "colab": {
          "base_uri": "https://localhost:8080/"
        },
        "id": "vpom_OyjF0GS",
        "outputId": "6c2dae3c-cf55-4dce-c856-de7f6fe2c7d0"
      },
      "source": [
        "vocab_size = 30000\n",
        "vectorize_layer = data_preparation(train_data, seq_len = 10, vocab_size=vocab_size)\n",
        "\n",
        "\n",
        "mmodel = modelNER()\n",
        "mmodel.compile(optimizer='adam',\n",
        "              loss=tf.keras.losses.SparseCategoricalCrossentropy(),\n",
        "              metrics=['accuracy'])\n",
        "mmodel.fit(train_data, validation_data=valid_data, epochs=5)"
      ],
      "execution_count": 69,
      "outputs": [
        {
          "output_type": "stream",
          "text": [
            "Epoch 1/5\n",
            "12420/12420 [==============================] - 275s 22ms/step - loss: 0.2935 - accuracy: 0.9146 - val_loss: 0.2023 - val_accuracy: 0.9396\n",
            "Epoch 2/5\n",
            "12420/12420 [==============================] - 271s 22ms/step - loss: 0.1255 - accuracy: 0.9621 - val_loss: 0.3328 - val_accuracy: 0.8956\n",
            "Epoch 3/5\n",
            "12420/12420 [==============================] - 256s 21ms/step - loss: 0.1100 - accuracy: 0.9653 - val_loss: 0.3002 - val_accuracy: 0.8956\n",
            "Epoch 4/5\n",
            "12420/12420 [==============================] - 266s 21ms/step - loss: 0.1042 - accuracy: 0.9662 - val_loss: 0.3052 - val_accuracy: 0.8940\n",
            "Epoch 5/5\n",
            "12420/12420 [==============================] - 263s 21ms/step - loss: 0.1014 - accuracy: 0.9667 - val_loss: 0.3335 - val_accuracy: 0.8947\n"
          ],
          "name": "stdout"
        },
        {
          "output_type": "execute_result",
          "data": {
            "text/plain": [
              "<tensorflow.python.keras.callbacks.History at 0x7fcd97d00690>"
            ]
          },
          "metadata": {
            "tags": []
          },
          "execution_count": 69
        }
      ]
    },
    {
      "cell_type": "markdown",
      "metadata": {
        "id": "UPm_pcFloUze"
      },
      "source": [
        "Результаты оказались чуть хуже при длине последовательности 10, при осталбных - примерно одинаковые"
      ]
    },
    {
      "cell_type": "code",
      "metadata": {
        "id": "xbppLM1wokbZ"
      },
      "source": [
        ""
      ],
      "execution_count": null,
      "outputs": []
    },
    {
      "cell_type": "code",
      "metadata": {
        "id": "hlLQNm9pF0bh"
      },
      "source": [
        ""
      ],
      "execution_count": null,
      "outputs": []
    },
    {
      "cell_type": "code",
      "metadata": {
        "id": "XQ1phPKisJMz"
      },
      "source": [
        ""
      ],
      "execution_count": null,
      "outputs": []
    }
  ]
}