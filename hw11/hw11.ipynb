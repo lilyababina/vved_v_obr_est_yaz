{
  "nbformat": 4,
  "nbformat_minor": 0,
  "metadata": {
    "accelerator": "GPU",
    "colab": {
      "name": "nmt_with_attention_colab.ipynb",
      "provenance": [],
      "collapsed_sections": []
    },
    "kernelspec": {
      "display_name": "Python 3",
      "name": "python3"
    }
  },
  "cells": [
    {
      "cell_type": "markdown",
      "metadata": {
        "id": "J0Qjg6vuaHNt"
      },
      "source": [
        "# Neural machine translation with attention"
      ]
    },
    {
      "cell_type": "code",
      "metadata": {
        "id": "tnxXKDjq3jEL"
      },
      "source": [
        "import tensorflow as tf\n",
        "\n",
        "import matplotlib.pyplot as plt\n",
        "import matplotlib.ticker as ticker\n",
        "from sklearn.model_selection import train_test_split\n",
        "\n",
        "import unicodedata\n",
        "import re\n",
        "import numpy as np\n",
        "import os\n",
        "import io\n",
        "import time"
      ],
      "execution_count": 1,
      "outputs": []
    },
    {
      "cell_type": "code",
      "metadata": {
        "colab": {
          "base_uri": "https://localhost:8080/"
        },
        "id": "sSpaCWayz3Ms",
        "outputId": "f05b4ca3-d807-4f86-a2d7-d6d27cab9b2a"
      },
      "source": [
        "from google.colab import drive\n",
        "drive.mount('/content/drive')"
      ],
      "execution_count": 2,
      "outputs": [
        {
          "output_type": "stream",
          "text": [
            "Mounted at /content/drive\n"
          ],
          "name": "stdout"
        }
      ]
    },
    {
      "cell_type": "code",
      "metadata": {
        "id": "2Mt1WI-2Vd-Z"
      },
      "source": [
        ""
      ],
      "execution_count": null,
      "outputs": []
    },
    {
      "cell_type": "markdown",
      "metadata": {
        "id": "wfodePkj3jEa"
      },
      "source": [
        "## Download and prepare the dataset\n",
        "\n",
        "We'll use a language dataset provided by http://www.manythings.org/anki/"
      ]
    },
    {
      "cell_type": "code",
      "metadata": {
        "id": "CNvjhDyAKk3U",
        "colab": {
          "base_uri": "https://localhost:8080/"
        },
        "outputId": "c694bc1b-4fe1-4069-91f5-150b3b4736ff"
      },
      "source": [
        "!wget http://www.manythings.org/anki/rus-eng.zip"
      ],
      "execution_count": 3,
      "outputs": [
        {
          "output_type": "stream",
          "text": [
            "--2021-08-12 14:42:02--  http://www.manythings.org/anki/rus-eng.zip\n",
            "Resolving www.manythings.org (www.manythings.org)... 104.21.92.44, 172.67.186.54, 2606:4700:3033::ac43:ba36, ...\n",
            "Connecting to www.manythings.org (www.manythings.org)|104.21.92.44|:80... connected.\n",
            "HTTP request sent, awaiting response... 200 OK\n",
            "Length: 14385451 (14M) [application/zip]\n",
            "Saving to: ‘rus-eng.zip’\n",
            "\n",
            "rus-eng.zip         100%[===================>]  13.72M  3.27MB/s    in 4.9s    \n",
            "\n",
            "2021-08-12 14:42:08 (2.79 MB/s) - ‘rus-eng.zip’ saved [14385451/14385451]\n",
            "\n"
          ],
          "name": "stdout"
        }
      ]
    },
    {
      "cell_type": "code",
      "metadata": {
        "id": "83bg17Lr-7XK",
        "colab": {
          "base_uri": "https://localhost:8080/"
        },
        "outputId": "bddf6606-bf70-4667-e2c0-4f8ed2aaacca"
      },
      "source": [
        "!mkdir rus-eng\n",
        "!unzip rus-eng.zip -d rus-eng/"
      ],
      "execution_count": 4,
      "outputs": [
        {
          "output_type": "stream",
          "text": [
            "Archive:  rus-eng.zip\n",
            "  inflating: rus-eng/rus.txt         \n",
            "  inflating: rus-eng/_about.txt      \n"
          ],
          "name": "stdout"
        }
      ]
    },
    {
      "cell_type": "code",
      "metadata": {
        "id": "7o5L92efMMhf",
        "colab": {
          "base_uri": "https://localhost:8080/"
        },
        "outputId": "2f7574a2-291b-4989-b191-1579c0ced72f"
      },
      "source": [
        "!ls /content/rus-eng/ -lah"
      ],
      "execution_count": 5,
      "outputs": [
        {
          "output_type": "stream",
          "text": [
            "total 69M\n",
            "drwxr-xr-x 2 root root 4.0K Aug 12 14:42 .\n",
            "drwxr-xr-x 1 root root 4.0K Aug 12 14:42 ..\n",
            "-rw-r--r-- 1 root root 1.5K Jul 14 10:16 _about.txt\n",
            "-rw-r--r-- 1 root root  69M Jul 14 10:16 rus.txt\n"
          ],
          "name": "stdout"
        }
      ]
    },
    {
      "cell_type": "code",
      "metadata": {
        "id": "kRVATYOgJs1b"
      },
      "source": [
        "# Download the file\n",
        "path_to_file = \"/content/rus-eng/rus.txt\""
      ],
      "execution_count": 6,
      "outputs": []
    },
    {
      "cell_type": "code",
      "metadata": {
        "id": "rd0jw-eC3jEh"
      },
      "source": [
        "def preprocess_sentence(w):\n",
        "  w = w.lower().strip()\n",
        "\n",
        "  # creating a space between a word and the punctuation following it\n",
        "  # eg: \"he is a boy.\" => \"he is a boy .\"\n",
        "  # Reference:- https://stackoverflow.com/questions/3645931/python-padding-punctuation-with-white-spaces-keeping-punctuation\n",
        "  w = re.sub(r\"([?.!,])\", r\" \\1 \", w)\n",
        "  w = re.sub(r'[\" \"]+', \" \", w)\n",
        "\n",
        "  # replacing everything with space except (a-z, A-Z, \".\", \"?\", \"!\", \",\")\n",
        "  w = re.sub(r\"[^a-zA-Zа-яА-Я?.!,']+\", \" \", w)\n",
        "\n",
        "  w = w.strip()\n",
        "\n",
        "  # adding a start and an end token to the sentence\n",
        "  # so that the model know when to start and stop predicting.\n",
        "  w = '<start> ' + w + ' <end>'\n",
        "  return w"
      ],
      "execution_count": 7,
      "outputs": []
    },
    {
      "cell_type": "code",
      "metadata": {
        "id": "yV9lZXQXNbnH",
        "colab": {
          "base_uri": "https://localhost:8080/",
          "height": 37
        },
        "outputId": "1d5fe172-58ce-43ff-fe37-4b3f1eb0a214"
      },
      "source": [
        "preprocess_sentence(\"I can't go.\")"
      ],
      "execution_count": 8,
      "outputs": [
        {
          "output_type": "execute_result",
          "data": {
            "application/vnd.google.colaboratory.intrinsic+json": {
              "type": "string"
            },
            "text/plain": [
              "\"<start> i can't go . <end>\""
            ]
          },
          "metadata": {
            "tags": []
          },
          "execution_count": 8
        }
      ]
    },
    {
      "cell_type": "code",
      "metadata": {
        "id": "OHn4Dct23jEm"
      },
      "source": [
        "# 1. Remove the accents\n",
        "# 2. Clean the sentences\n",
        "# 3. Return word pairs in the format: [ENG, RUS]\n",
        "def create_dataset(path, num_examples):\n",
        "  lines = io.open(path, encoding='UTF-8').read().strip().split('\\n')\n",
        "\n",
        "  word_pairs = [[preprocess_sentence(w) for w in l.split('\\t')[:2]]  for l in lines[:num_examples]]\n",
        "\n",
        "  return zip(*word_pairs)"
      ],
      "execution_count": 9,
      "outputs": []
    },
    {
      "cell_type": "code",
      "metadata": {
        "id": "cTbSbBz55QtF",
        "colab": {
          "base_uri": "https://localhost:8080/"
        },
        "outputId": "876395f2-e89b-44d2-caa2-d17665166ec7"
      },
      "source": [
        "en, ru = create_dataset(path_to_file, None)\n",
        "print(en[-1])\n",
        "print(ru[-1])"
      ],
      "execution_count": 10,
      "outputs": [
        {
          "output_type": "stream",
          "text": [
            "<start> doubtless there exists in this world precisely the right woman for any given man to marry and vice versa but when you consider that a human being has the opportunity of being acquainted with only a few hundred people , and out of the few hundred that there are but a dozen or less whom he knows intimately , and out of the dozen , one or two friends at most , it will easily be seen , when we remember the number of millions who inhabit this world , that probably , since the earth was created , the right man has never yet met the right woman . <end>\n",
            "<start> несомненно , для каждого мужчины в этом мире где то есть подходящая женщина , которая может стать ему женой , обратное верно и для женщин . но если учесть , что у человека может быть максимум несколько сотен знакомых , из которых лишь дюжина , а то и меньше , тех , кого он знает близко , а из этой дюжины у него один или от силы два друга , то можно легко увидеть , что с уч том миллионов живущих на земле людей , ни один подходящий мужчина , возможно , ещ не встретил подходящую женщину . <end>\n"
          ],
          "name": "stdout"
        }
      ]
    },
    {
      "cell_type": "code",
      "metadata": {
        "id": "bIOn8RCNDJXG"
      },
      "source": [
        "def tokenize(lang):\n",
        "  lang_tokenizer = tf.keras.preprocessing.text.Tokenizer(\n",
        "      filters='')\n",
        "  lang_tokenizer.fit_on_texts(lang)\n",
        "\n",
        "  tensor = lang_tokenizer.texts_to_sequences(lang)\n",
        "\n",
        "  tensor = tf.keras.preprocessing.sequence.pad_sequences(tensor,\n",
        "                                                         padding='post')\n",
        "\n",
        "  return tensor, lang_tokenizer"
      ],
      "execution_count": 11,
      "outputs": []
    },
    {
      "cell_type": "code",
      "metadata": {
        "id": "eAY9k49G3jE_"
      },
      "source": [
        "def load_dataset(path, num_examples=None):\n",
        "  # creating cleaned input, output pairs\n",
        "  targ_lang, inp_lang = create_dataset(path, num_examples)\n",
        "\n",
        "  input_tensor, inp_lang_tokenizer = tokenize(inp_lang)\n",
        "  target_tensor, targ_lang_tokenizer = tokenize(targ_lang)\n",
        "\n",
        "  return input_tensor, target_tensor, inp_lang_tokenizer, targ_lang_tokenizer"
      ],
      "execution_count": 12,
      "outputs": []
    },
    {
      "cell_type": "markdown",
      "metadata": {
        "id": "GOi42V79Ydlr"
      },
      "source": [
        "### Limit the size of the dataset to experiment faster (optional)\n"
      ]
    },
    {
      "cell_type": "code",
      "metadata": {
        "id": "C8j9g9AnIeZV",
        "colab": {
          "base_uri": "https://localhost:8080/"
        },
        "outputId": "b6e23b42-f9be-41bd-a9b7-6d6623a63f96"
      },
      "source": [
        "len(en), len(ru)"
      ],
      "execution_count": 13,
      "outputs": [
        {
          "output_type": "execute_result",
          "data": {
            "text/plain": [
              "(431097, 431097)"
            ]
          },
          "metadata": {
            "tags": []
          },
          "execution_count": 13
        }
      ]
    },
    {
      "cell_type": "code",
      "metadata": {
        "id": "cnxC7q-j3jFD"
      },
      "source": [
        "# Try experimenting with the size of that dataset\n",
        "num_examples = 100000\n",
        "input_tensor, target_tensor, inp_lang, targ_lang = load_dataset(path_to_file, num_examples)\n",
        "\n",
        "# Calculate max_length of the target tensors\n",
        "max_length_targ, max_length_inp = target_tensor.shape[1], input_tensor.shape[1]"
      ],
      "execution_count": 14,
      "outputs": []
    },
    {
      "cell_type": "code",
      "metadata": {
        "id": "4QILQkOs3jFG",
        "colab": {
          "base_uri": "https://localhost:8080/"
        },
        "outputId": "446fe285-c7ae-46f0-f8fe-2a70361d4a8d"
      },
      "source": [
        "# Creating training and validation sets using an 80-20 split\n",
        "input_tensor_train, input_tensor_val, target_tensor_train, target_tensor_val = train_test_split(input_tensor, target_tensor, test_size=0.2)\n",
        "\n",
        "# Show length\n",
        "print(len(input_tensor_train), len(target_tensor_train), len(input_tensor_val), len(target_tensor_val))"
      ],
      "execution_count": 15,
      "outputs": [
        {
          "output_type": "stream",
          "text": [
            "80000 80000 20000 20000\n"
          ],
          "name": "stdout"
        }
      ]
    },
    {
      "cell_type": "code",
      "metadata": {
        "id": "lJPmLZGMeD5q"
      },
      "source": [
        "def convert(lang, tensor):\n",
        "  for t in tensor:\n",
        "    if t!=0:\n",
        "      print (\"%d ----> %s\" % (t, lang.index_word[t]))"
      ],
      "execution_count": 16,
      "outputs": []
    },
    {
      "cell_type": "code",
      "metadata": {
        "id": "VXukARTDd7MT",
        "colab": {
          "base_uri": "https://localhost:8080/"
        },
        "outputId": "f5cfd8e8-2049-4dec-ae0e-58360faa5e5a"
      },
      "source": [
        "print (\"Input Language; index to word mapping\")\n",
        "convert(inp_lang, input_tensor_train[0])\n",
        "print ()\n",
        "print (\"Target Language; index to word mapping\")\n",
        "convert(targ_lang, target_tensor_train[0])"
      ],
      "execution_count": 17,
      "outputs": [
        {
          "output_type": "stream",
          "text": [
            "Input Language; index to word mapping\n",
            "1 ----> <start>\n",
            "960 ----> вкусно\n",
            "3 ----> .\n",
            "2 ----> <end>\n",
            "\n",
            "Target Language; index to word mapping\n",
            "1 ----> <start>\n",
            "19 ----> this\n",
            "1354 ----> tastes\n",
            "93 ----> good\n",
            "3 ----> .\n",
            "2 ----> <end>\n"
          ],
          "name": "stdout"
        }
      ]
    },
    {
      "cell_type": "markdown",
      "metadata": {
        "id": "rgCLkfv5uO3d"
      },
      "source": [
        "### Create a tf.data dataset"
      ]
    },
    {
      "cell_type": "code",
      "metadata": {
        "id": "TqHsArVZ3jFS"
      },
      "source": [
        "BUFFER_SIZE = len(input_tensor_train)\n",
        "BATCH_SIZE = 64\n",
        "steps_per_epoch = len(input_tensor_train)//BATCH_SIZE\n",
        "embedding_dim = 256\n",
        "units = 1024\n",
        "vocab_inp_size = len(inp_lang.word_index)+1\n",
        "vocab_tar_size = len(targ_lang.word_index)+1\n",
        "\n",
        "dataset = tf.data.Dataset.from_tensor_slices((input_tensor_train, target_tensor_train)).shuffle(BUFFER_SIZE)\n",
        "dataset = dataset.batch(BATCH_SIZE, drop_remainder=True)"
      ],
      "execution_count": 18,
      "outputs": []
    },
    {
      "cell_type": "code",
      "metadata": {
        "id": "qc6-NK1GtWQt",
        "colab": {
          "base_uri": "https://localhost:8080/"
        },
        "outputId": "e0d8c111-452d-4a42-85b5-d9232adab187"
      },
      "source": [
        "example_input_batch, example_target_batch = next(iter(dataset))\n",
        "example_input_batch.shape, example_target_batch.shape"
      ],
      "execution_count": 19,
      "outputs": [
        {
          "output_type": "execute_result",
          "data": {
            "text/plain": [
              "(TensorShape([64, 15]), TensorShape([64, 11]))"
            ]
          },
          "metadata": {
            "tags": []
          },
          "execution_count": 19
        }
      ]
    },
    {
      "cell_type": "code",
      "metadata": {
        "id": "nZ2rI24i3jFg"
      },
      "source": [
        "class Encoder(tf.keras.Model):\n",
        "  def __init__(self, vocab_size, embedding_dim, enc_units, batch_sz):\n",
        "    super(Encoder, self).__init__()\n",
        "    self.batch_sz = batch_sz\n",
        "    self.enc_units = enc_units\n",
        "    self.embedding = tf.keras.layers.Embedding(vocab_size, embedding_dim)\n",
        "    self.gru = tf.keras.layers.GRU(self.enc_units,\n",
        "                                   return_sequences=True,\n",
        "                                   return_state=True,\n",
        "                                   recurrent_initializer='glorot_uniform')\n",
        "\n",
        "  def call(self, x, hidden):\n",
        "    x = self.embedding(x)\n",
        "    output, state = self.gru(x, initial_state = hidden)\n",
        "    return output, state\n",
        "\n",
        "  def initialize_hidden_state(self):\n",
        "    return tf.zeros((self.batch_sz, self.enc_units))"
      ],
      "execution_count": 20,
      "outputs": []
    },
    {
      "cell_type": "code",
      "metadata": {
        "id": "60gSVh05Jl6l",
        "colab": {
          "base_uri": "https://localhost:8080/"
        },
        "outputId": "290075b4-f1fb-4a8e-a854-ce4c4faa9ad2"
      },
      "source": [
        "encoder = Encoder(vocab_inp_size, embedding_dim, units, BATCH_SIZE)\n",
        "\n",
        "# sample input\n",
        "sample_hidden = encoder.initialize_hidden_state()\n",
        "sample_output, sample_hidden = encoder(example_input_batch, sample_hidden)\n",
        "print ('Encoder output shape: (batch size, sequence length, units) {}'.format(sample_output.shape))\n",
        "print ('Encoder Hidden state shape: (batch size, units) {}'.format(sample_hidden.shape))"
      ],
      "execution_count": 21,
      "outputs": [
        {
          "output_type": "stream",
          "text": [
            "Encoder output shape: (batch size, sequence length, units) (64, 15, 1024)\n",
            "Encoder Hidden state shape: (batch size, units) (64, 1024)\n"
          ],
          "name": "stdout"
        }
      ]
    },
    {
      "cell_type": "code",
      "metadata": {
        "id": "YTyhL28Niqk1"
      },
      "source": [
        "class BahdanauAttention(tf.keras.layers.Layer):\n",
        "  def __init__(self, units):\n",
        "    super(BahdanauAttention, self).__init__()\n",
        "    self.W1 = tf.keras.layers.Dense(units)\n",
        "    self.W2 = tf.keras.layers.Dense(units)\n",
        "    self.V = tf.keras.layers.Dense(1)\n",
        "\n",
        "  def call(self, query, values):\n",
        "    # query hidden state shape == (batch_size, hidden size)\n",
        "    # query_with_time_axis shape == (batch_size, 1, hidden size)\n",
        "    # values shape == (batch_size, max_len, hidden size)\n",
        "    # we are doing this to broadcast addition along the time axis to calculate the score\n",
        "    query_with_time_axis = tf.expand_dims(query, 1)\n",
        "\n",
        "    # score shape == (batch_size, max_length, 1)\n",
        "    # we get 1 at the last axis because we are applying score to self.V\n",
        "    # the shape of the tensor before applying self.V is (batch_size, max_length, units)\n",
        "    score = self.V(tf.nn.tanh(\n",
        "        self.W1(query_with_time_axis) + self.W2(values)))\n",
        "\n",
        "    # attention_weights shape == (batch_size, max_length, 1)\n",
        "    attention_weights = tf.nn.softmax(score, axis=1)\n",
        "\n",
        "    # context_vector shape after sum == (batch_size, hidden_size)\n",
        "    context_vector = attention_weights * values\n",
        "    context_vector = tf.reduce_sum(context_vector, axis=1)\n",
        "\n",
        "    return context_vector, attention_weights"
      ],
      "execution_count": 22,
      "outputs": []
    },
    {
      "cell_type": "code",
      "metadata": {
        "colab": {
          "base_uri": "https://localhost:8080/"
        },
        "id": "XUqssWcci1XJ",
        "outputId": "a208740e-dff8-4202-d4af-dfd681a84388"
      },
      "source": [
        "attention_layer = BahdanauAttention(10)\n",
        "attention_result, attention_weights = attention_layer(sample_hidden, sample_output)\n",
        "\n",
        "print(\"Attention result shape: (batch size, units) {}\".format(attention_result.shape))\n",
        "print(\"Attention weights shape: (batch_size, sequence_length, 1) {}\".format(attention_weights.shape))"
      ],
      "execution_count": 23,
      "outputs": [
        {
          "output_type": "stream",
          "text": [
            "Attention result shape: (batch size, units) (64, 1024)\n",
            "Attention weights shape: (batch_size, sequence_length, 1) (64, 15, 1)\n"
          ],
          "name": "stdout"
        }
      ]
    },
    {
      "cell_type": "code",
      "metadata": {
        "id": "yJ_B3mhW3jFk"
      },
      "source": [
        "class Decoder(tf.keras.Model):\n",
        "  def __init__(self, vocab_size, embedding_dim, dec_units, batch_sz):\n",
        "    super(Decoder, self).__init__()\n",
        "    self.batch_sz = batch_sz\n",
        "    self.dec_units = dec_units\n",
        "    self.embedding = tf.keras.layers.Embedding(vocab_size, embedding_dim)\n",
        "    self.gru = tf.keras.layers.GRU(self.dec_units,\n",
        "                                   return_sequences=True,\n",
        "                                   return_state=True,\n",
        "                                   recurrent_initializer='glorot_uniform')\n",
        "    self.fc = tf.keras.layers.Dense(vocab_size)\n",
        "\n",
        "    # used for attention\n",
        "    self.attention = BahdanauAttention(self.dec_units)\n",
        "\n",
        "  def call(self, x, hidden, enc_output):\n",
        "    # enc_output shape == (batch_size, max_length, hidden_size)\n",
        "    context_vector, attention_weights = self.attention(hidden, enc_output)\n",
        "\n",
        "    # x shape after passing through embedding == (batch_size, 1, embedding_dim)\n",
        "    x = self.embedding(x)\n",
        "\n",
        "    # x shape after concatenation == (batch_size, 1, embedding_dim + hidden_size)\n",
        "    x = tf.concat([tf.expand_dims(context_vector, 1), x], axis=-1)\n",
        "\n",
        "    # passing the concatenated vector to the GRU\n",
        "    output, state = self.gru(x)\n",
        "\n",
        "    # output shape == (batch_size * 1, hidden_size)\n",
        "    output = tf.reshape(output, (-1, output.shape[2]))\n",
        "\n",
        "    # output shape == (batch_size, vocab)\n",
        "    x = self.fc(output)\n",
        "\n",
        "    return x, state, attention_weights"
      ],
      "execution_count": 24,
      "outputs": []
    },
    {
      "cell_type": "code",
      "metadata": {
        "id": "P5UY8wko3jFp",
        "colab": {
          "base_uri": "https://localhost:8080/"
        },
        "outputId": "a2672f7d-9ca6-462e-c8ac-920b3d0dae03"
      },
      "source": [
        "decoder = Decoder(vocab_tar_size, embedding_dim, units, BATCH_SIZE)\n",
        "\n",
        "sample_decoder_output, _, _ = decoder(tf.random.uniform((BATCH_SIZE, 1)),\n",
        "                                      sample_hidden, sample_output)\n",
        "\n",
        "print ('Decoder output shape: (batch_size, vocab size) {}'.format(sample_decoder_output.shape))"
      ],
      "execution_count": 25,
      "outputs": [
        {
          "output_type": "stream",
          "text": [
            "Decoder output shape: (batch_size, vocab size) (64, 7260)\n"
          ],
          "name": "stdout"
        }
      ]
    },
    {
      "cell_type": "markdown",
      "metadata": {
        "id": "_ch_71VbIRfK"
      },
      "source": [
        "## Define the optimizer and the loss function"
      ]
    },
    {
      "cell_type": "code",
      "metadata": {
        "id": "WmTHr5iV3jFr"
      },
      "source": [
        "optimizer = tf.keras.optimizers.Adam()\n",
        "loss_object = tf.keras.losses.SparseCategoricalCrossentropy(\n",
        "    from_logits=True, reduction='none')\n",
        "\n",
        "def loss_function(real, pred):\n",
        "  mask = tf.math.logical_not(tf.math.equal(real, 0))\n",
        "  loss_ = loss_object(real, pred)\n",
        "\n",
        "  mask = tf.cast(mask, dtype=loss_.dtype)\n",
        "  loss_ *= mask\n",
        "\n",
        "  return tf.reduce_mean(loss_)"
      ],
      "execution_count": 26,
      "outputs": []
    },
    {
      "cell_type": "markdown",
      "metadata": {
        "id": "DMVWzzsfNl4e"
      },
      "source": [
        "## Checkpoints (Object-based saving)"
      ]
    },
    {
      "cell_type": "code",
      "metadata": {
        "id": "Zj8bXQTgNwrF"
      },
      "source": [
        "checkpoint_dir = './training_attention_checkpoints'\n",
        "checkpoint_prefix = os.path.join(checkpoint_dir, \"ckpt\")\n",
        "checkpoint = tf.train.Checkpoint(optimizer=optimizer,\n",
        "                                 encoder=encoder,\n",
        "                                 decoder=decoder)"
      ],
      "execution_count": 27,
      "outputs": []
    },
    {
      "cell_type": "code",
      "metadata": {
        "id": "sC9ArXSsVfqn"
      },
      "source": [
        "@tf.function\n",
        "def train_step(inp, targ, enc_hidden):\n",
        "  loss = 0\n",
        "\n",
        "  with tf.GradientTape() as tape:\n",
        "    enc_output, enc_hidden = encoder(inp, enc_hidden)\n",
        "\n",
        "    dec_hidden = enc_hidden\n",
        "\n",
        "    dec_input = tf.expand_dims([targ_lang.word_index['<start>']] * BATCH_SIZE, 1)\n",
        "\n",
        "    # Teacher forcing - feeding the target as the next input\n",
        "    for t in range(1, targ.shape[1]):\n",
        "      # passing enc_output to the decoder\n",
        "      predictions, dec_hidden, _ = decoder(dec_input, dec_hidden, enc_output)\n",
        "\n",
        "      loss += loss_function(targ[:, t], predictions)\n",
        "\n",
        "      # using teacher forcing\n",
        "      dec_input = tf.expand_dims(targ[:, t], 1)\n",
        "\n",
        "  batch_loss = (loss / int(targ.shape[1]))\n",
        "\n",
        "  variables = encoder.trainable_variables + decoder.trainable_variables\n",
        "\n",
        "  gradients = tape.gradient(loss, variables)\n",
        "\n",
        "  optimizer.apply_gradients(zip(gradients, variables))\n",
        "\n",
        "  return batch_loss"
      ],
      "execution_count": 28,
      "outputs": []
    },
    {
      "cell_type": "code",
      "metadata": {
        "id": "ddefjBMa3jF0",
        "colab": {
          "base_uri": "https://localhost:8080/"
        },
        "outputId": "61d7ded6-fcbe-4002-96a1-bc61d4286f3f"
      },
      "source": [
        "EPOCHS = 20\n",
        "\n",
        "for epoch in range(EPOCHS):\n",
        "  start = time.time()\n",
        "\n",
        "  enc_hidden = encoder.initialize_hidden_state()\n",
        "  total_loss = 0\n",
        "\n",
        "  for (batch, (inp, targ)) in enumerate(dataset.take(steps_per_epoch)):\n",
        "    batch_loss = train_step(inp, targ, enc_hidden)\n",
        "    total_loss += batch_loss\n",
        "\n",
        "    if batch % 100 == 0:\n",
        "      print('Epoch {} Batch {} Loss {:.4f}'.format(epoch + 1,\n",
        "                                                   batch,\n",
        "                                                   batch_loss.numpy()))\n",
        "  # saving (checkpoint) the model every 2 epochs\n",
        "  if (epoch + 1) % 2 == 0:\n",
        "    checkpoint.save(file_prefix = checkpoint_prefix)\n",
        "\n",
        "  print('Epoch {} Loss {:.4f}'.format(epoch + 1,\n",
        "                                      total_loss / steps_per_epoch))\n",
        "  print('Time taken for 1 epoch {} sec\\n'.format(time.time() - start))"
      ],
      "execution_count": 29,
      "outputs": [
        {
          "output_type": "stream",
          "text": [
            "Epoch 1 Batch 0 Loss 4.7610\n",
            "Epoch 1 Batch 100 Loss 2.1483\n",
            "Epoch 1 Batch 200 Loss 1.8468\n",
            "Epoch 1 Batch 300 Loss 1.7069\n",
            "Epoch 1 Batch 400 Loss 1.5453\n",
            "Epoch 1 Batch 500 Loss 1.5016\n",
            "Epoch 1 Batch 600 Loss 1.3376\n",
            "Epoch 1 Batch 700 Loss 1.2786\n",
            "Epoch 1 Batch 800 Loss 1.1115\n",
            "Epoch 1 Batch 900 Loss 1.0907\n",
            "Epoch 1 Batch 1000 Loss 1.0539\n",
            "Epoch 1 Batch 1100 Loss 1.0291\n",
            "Epoch 1 Batch 1200 Loss 0.9292\n",
            "Epoch 1 Loss 1.4415\n",
            "Time taken for 1 epoch 289.66203594207764 sec\n",
            "\n",
            "Epoch 2 Batch 0 Loss 0.9147\n",
            "Epoch 2 Batch 100 Loss 0.8808\n",
            "Epoch 2 Batch 200 Loss 0.6573\n",
            "Epoch 2 Batch 300 Loss 0.7917\n",
            "Epoch 2 Batch 400 Loss 0.6269\n",
            "Epoch 2 Batch 500 Loss 0.6521\n",
            "Epoch 2 Batch 600 Loss 0.6090\n",
            "Epoch 2 Batch 700 Loss 0.5953\n",
            "Epoch 2 Batch 800 Loss 0.6333\n",
            "Epoch 2 Batch 900 Loss 0.6708\n",
            "Epoch 2 Batch 1000 Loss 0.5185\n",
            "Epoch 2 Batch 1100 Loss 0.5443\n",
            "Epoch 2 Batch 1200 Loss 0.4873\n",
            "Epoch 2 Loss 0.6369\n",
            "Time taken for 1 epoch 273.933913230896 sec\n",
            "\n",
            "Epoch 3 Batch 0 Loss 0.3303\n",
            "Epoch 3 Batch 100 Loss 0.3268\n",
            "Epoch 3 Batch 200 Loss 0.3090\n",
            "Epoch 3 Batch 300 Loss 0.2864\n",
            "Epoch 3 Batch 400 Loss 0.2641\n",
            "Epoch 3 Batch 500 Loss 0.3394\n",
            "Epoch 3 Batch 600 Loss 0.3361\n",
            "Epoch 3 Batch 700 Loss 0.2530\n",
            "Epoch 3 Batch 800 Loss 0.2960\n",
            "Epoch 3 Batch 900 Loss 0.3861\n",
            "Epoch 3 Batch 1000 Loss 0.2989\n",
            "Epoch 3 Batch 1100 Loss 0.3563\n",
            "Epoch 3 Batch 1200 Loss 0.3183\n",
            "Epoch 3 Loss 0.3373\n",
            "Time taken for 1 epoch 272.2415406703949 sec\n",
            "\n",
            "Epoch 4 Batch 0 Loss 0.1817\n",
            "Epoch 4 Batch 100 Loss 0.1188\n",
            "Epoch 4 Batch 200 Loss 0.2378\n",
            "Epoch 4 Batch 300 Loss 0.1868\n",
            "Epoch 4 Batch 400 Loss 0.2200\n",
            "Epoch 4 Batch 500 Loss 0.1813\n",
            "Epoch 4 Batch 600 Loss 0.1699\n",
            "Epoch 4 Batch 700 Loss 0.2097\n",
            "Epoch 4 Batch 800 Loss 0.1714\n",
            "Epoch 4 Batch 900 Loss 0.2101\n",
            "Epoch 4 Batch 1000 Loss 0.2348\n",
            "Epoch 4 Batch 1100 Loss 0.2284\n",
            "Epoch 4 Batch 1200 Loss 0.2166\n",
            "Epoch 4 Loss 0.2094\n",
            "Time taken for 1 epoch 272.8348627090454 sec\n",
            "\n",
            "Epoch 5 Batch 0 Loss 0.1209\n",
            "Epoch 5 Batch 100 Loss 0.1605\n",
            "Epoch 5 Batch 200 Loss 0.1554\n",
            "Epoch 5 Batch 300 Loss 0.1122\n",
            "Epoch 5 Batch 400 Loss 0.1731\n",
            "Epoch 5 Batch 500 Loss 0.1793\n",
            "Epoch 5 Batch 600 Loss 0.1069\n",
            "Epoch 5 Batch 700 Loss 0.1591\n",
            "Epoch 5 Batch 800 Loss 0.1619\n",
            "Epoch 5 Batch 900 Loss 0.1376\n",
            "Epoch 5 Batch 1000 Loss 0.1453\n",
            "Epoch 5 Batch 1100 Loss 0.1387\n",
            "Epoch 5 Batch 1200 Loss 0.1618\n",
            "Epoch 5 Loss 0.1488\n",
            "Time taken for 1 epoch 272.7313394546509 sec\n",
            "\n",
            "Epoch 6 Batch 0 Loss 0.1063\n",
            "Epoch 6 Batch 100 Loss 0.1435\n",
            "Epoch 6 Batch 200 Loss 0.1138\n",
            "Epoch 6 Batch 300 Loss 0.1267\n",
            "Epoch 6 Batch 400 Loss 0.1219\n",
            "Epoch 6 Batch 500 Loss 0.1395\n",
            "Epoch 6 Batch 600 Loss 0.1052\n",
            "Epoch 6 Batch 700 Loss 0.1109\n",
            "Epoch 6 Batch 800 Loss 0.1412\n",
            "Epoch 6 Batch 900 Loss 0.1380\n",
            "Epoch 6 Batch 1000 Loss 0.1315\n",
            "Epoch 6 Batch 1100 Loss 0.1288\n",
            "Epoch 6 Batch 1200 Loss 0.1403\n",
            "Epoch 6 Loss 0.1175\n",
            "Time taken for 1 epoch 274.24002838134766 sec\n",
            "\n",
            "Epoch 7 Batch 0 Loss 0.0963\n",
            "Epoch 7 Batch 100 Loss 0.0869\n",
            "Epoch 7 Batch 200 Loss 0.0882\n",
            "Epoch 7 Batch 300 Loss 0.0642\n",
            "Epoch 7 Batch 400 Loss 0.0961\n",
            "Epoch 7 Batch 500 Loss 0.0979\n",
            "Epoch 7 Batch 600 Loss 0.1112\n",
            "Epoch 7 Batch 700 Loss 0.1063\n",
            "Epoch 7 Batch 800 Loss 0.1220\n",
            "Epoch 7 Batch 900 Loss 0.1235\n",
            "Epoch 7 Batch 1000 Loss 0.0834\n",
            "Epoch 7 Batch 1100 Loss 0.1108\n",
            "Epoch 7 Batch 1200 Loss 0.1060\n",
            "Epoch 7 Loss 0.1004\n",
            "Time taken for 1 epoch 274.08797311782837 sec\n",
            "\n",
            "Epoch 8 Batch 0 Loss 0.0586\n",
            "Epoch 8 Batch 100 Loss 0.0690\n",
            "Epoch 8 Batch 200 Loss 0.0729\n",
            "Epoch 8 Batch 300 Loss 0.0564\n",
            "Epoch 8 Batch 400 Loss 0.1110\n",
            "Epoch 8 Batch 500 Loss 0.0579\n",
            "Epoch 8 Batch 600 Loss 0.0839\n",
            "Epoch 8 Batch 700 Loss 0.1011\n",
            "Epoch 8 Batch 800 Loss 0.1022\n",
            "Epoch 8 Batch 900 Loss 0.0948\n",
            "Epoch 8 Batch 1000 Loss 0.1143\n",
            "Epoch 8 Batch 1100 Loss 0.0942\n",
            "Epoch 8 Batch 1200 Loss 0.0755\n",
            "Epoch 8 Loss 0.0902\n",
            "Time taken for 1 epoch 272.87149810791016 sec\n",
            "\n",
            "Epoch 9 Batch 0 Loss 0.0409\n",
            "Epoch 9 Batch 100 Loss 0.0602\n",
            "Epoch 9 Batch 200 Loss 0.0459\n",
            "Epoch 9 Batch 300 Loss 0.0973\n",
            "Epoch 9 Batch 400 Loss 0.1097\n",
            "Epoch 9 Batch 500 Loss 0.0793\n",
            "Epoch 9 Batch 600 Loss 0.1105\n",
            "Epoch 9 Batch 700 Loss 0.0822\n",
            "Epoch 9 Batch 800 Loss 0.0942\n",
            "Epoch 9 Batch 900 Loss 0.1116\n",
            "Epoch 9 Batch 1000 Loss 0.0721\n",
            "Epoch 9 Batch 1100 Loss 0.0784\n",
            "Epoch 9 Batch 1200 Loss 0.0859\n",
            "Epoch 9 Loss 0.0826\n",
            "Time taken for 1 epoch 271.6725480556488 sec\n",
            "\n",
            "Epoch 10 Batch 0 Loss 0.0758\n",
            "Epoch 10 Batch 100 Loss 0.0376\n",
            "Epoch 10 Batch 200 Loss 0.0479\n",
            "Epoch 10 Batch 300 Loss 0.0748\n",
            "Epoch 10 Batch 400 Loss 0.0511\n",
            "Epoch 10 Batch 500 Loss 0.0642\n",
            "Epoch 10 Batch 600 Loss 0.0568\n",
            "Epoch 10 Batch 700 Loss 0.0542\n",
            "Epoch 10 Batch 800 Loss 0.0989\n",
            "Epoch 10 Batch 900 Loss 0.0968\n",
            "Epoch 10 Batch 1000 Loss 0.0958\n",
            "Epoch 10 Batch 1100 Loss 0.0960\n",
            "Epoch 10 Batch 1200 Loss 0.0735\n",
            "Epoch 10 Loss 0.0774\n",
            "Time taken for 1 epoch 272.5538008213043 sec\n",
            "\n",
            "Epoch 11 Batch 0 Loss 0.0431\n",
            "Epoch 11 Batch 100 Loss 0.0504\n",
            "Epoch 11 Batch 200 Loss 0.0659\n",
            "Epoch 11 Batch 300 Loss 0.0696\n",
            "Epoch 11 Batch 400 Loss 0.0429\n",
            "Epoch 11 Batch 500 Loss 0.0677\n",
            "Epoch 11 Batch 600 Loss 0.0923\n",
            "Epoch 11 Batch 700 Loss 0.0753\n",
            "Epoch 11 Batch 800 Loss 0.0796\n",
            "Epoch 11 Batch 900 Loss 0.0664\n",
            "Epoch 11 Batch 1000 Loss 0.0804\n",
            "Epoch 11 Batch 1100 Loss 0.0606\n",
            "Epoch 11 Batch 1200 Loss 0.0682\n",
            "Epoch 11 Loss 0.0731\n",
            "Time taken for 1 epoch 271.821724653244 sec\n",
            "\n",
            "Epoch 12 Batch 0 Loss 0.0467\n",
            "Epoch 12 Batch 100 Loss 0.0381\n",
            "Epoch 12 Batch 200 Loss 0.0511\n",
            "Epoch 12 Batch 300 Loss 0.0481\n",
            "Epoch 12 Batch 400 Loss 0.0707\n",
            "Epoch 12 Batch 500 Loss 0.0690\n",
            "Epoch 12 Batch 600 Loss 0.0246\n",
            "Epoch 12 Batch 700 Loss 0.0867\n",
            "Epoch 12 Batch 800 Loss 0.0533\n",
            "Epoch 12 Batch 900 Loss 0.0570\n",
            "Epoch 12 Batch 1000 Loss 0.0662\n",
            "Epoch 12 Batch 1100 Loss 0.0935\n",
            "Epoch 12 Batch 1200 Loss 0.0853\n",
            "Epoch 12 Loss 0.0699\n",
            "Time taken for 1 epoch 272.0899701118469 sec\n",
            "\n",
            "Epoch 13 Batch 0 Loss 0.0512\n",
            "Epoch 13 Batch 100 Loss 0.0544\n",
            "Epoch 13 Batch 200 Loss 0.0486\n",
            "Epoch 13 Batch 300 Loss 0.0552\n",
            "Epoch 13 Batch 400 Loss 0.0728\n",
            "Epoch 13 Batch 500 Loss 0.0358\n",
            "Epoch 13 Batch 600 Loss 0.0316\n",
            "Epoch 13 Batch 700 Loss 0.0577\n",
            "Epoch 13 Batch 800 Loss 0.0761\n",
            "Epoch 13 Batch 900 Loss 0.0954\n",
            "Epoch 13 Batch 1000 Loss 0.0733\n",
            "Epoch 13 Batch 1100 Loss 0.0884\n",
            "Epoch 13 Batch 1200 Loss 0.0585\n",
            "Epoch 13 Loss 0.0665\n",
            "Time taken for 1 epoch 271.45433020591736 sec\n",
            "\n",
            "Epoch 14 Batch 0 Loss 0.0636\n",
            "Epoch 14 Batch 100 Loss 0.0674\n",
            "Epoch 14 Batch 200 Loss 0.0308\n",
            "Epoch 14 Batch 300 Loss 0.0340\n",
            "Epoch 14 Batch 400 Loss 0.0479\n",
            "Epoch 14 Batch 500 Loss 0.0707\n",
            "Epoch 14 Batch 600 Loss 0.0510\n",
            "Epoch 14 Batch 700 Loss 0.0612\n",
            "Epoch 14 Batch 800 Loss 0.0664\n",
            "Epoch 14 Batch 900 Loss 0.0643\n",
            "Epoch 14 Batch 1000 Loss 0.0592\n",
            "Epoch 14 Batch 1100 Loss 0.0715\n",
            "Epoch 14 Batch 1200 Loss 0.0597\n",
            "Epoch 14 Loss 0.0657\n",
            "Time taken for 1 epoch 271.29252529144287 sec\n",
            "\n",
            "Epoch 15 Batch 0 Loss 0.0439\n",
            "Epoch 15 Batch 100 Loss 0.0604\n",
            "Epoch 15 Batch 200 Loss 0.0541\n",
            "Epoch 15 Batch 300 Loss 0.0512\n",
            "Epoch 15 Batch 400 Loss 0.0607\n",
            "Epoch 15 Batch 500 Loss 0.0495\n",
            "Epoch 15 Batch 600 Loss 0.0426\n",
            "Epoch 15 Batch 700 Loss 0.0767\n",
            "Epoch 15 Batch 800 Loss 0.0441\n",
            "Epoch 15 Batch 900 Loss 0.0769\n",
            "Epoch 15 Batch 1000 Loss 0.0489\n",
            "Epoch 15 Batch 1100 Loss 0.0790\n",
            "Epoch 15 Batch 1200 Loss 0.0829\n",
            "Epoch 15 Loss 0.0629\n",
            "Time taken for 1 epoch 269.97866678237915 sec\n",
            "\n",
            "Epoch 16 Batch 0 Loss 0.0380\n",
            "Epoch 16 Batch 100 Loss 0.0364\n",
            "Epoch 16 Batch 200 Loss 0.0175\n",
            "Epoch 16 Batch 300 Loss 0.0268\n",
            "Epoch 16 Batch 400 Loss 0.0879\n",
            "Epoch 16 Batch 500 Loss 0.0545\n",
            "Epoch 16 Batch 600 Loss 0.0444\n",
            "Epoch 16 Batch 700 Loss 0.0717\n",
            "Epoch 16 Batch 800 Loss 0.0447\n",
            "Epoch 16 Batch 900 Loss 0.0816\n",
            "Epoch 16 Batch 1000 Loss 0.0627\n",
            "Epoch 16 Batch 1100 Loss 0.0563\n",
            "Epoch 16 Batch 1200 Loss 0.0933\n",
            "Epoch 16 Loss 0.0609\n",
            "Time taken for 1 epoch 270.67832469940186 sec\n",
            "\n",
            "Epoch 17 Batch 0 Loss 0.0549\n",
            "Epoch 17 Batch 100 Loss 0.0597\n",
            "Epoch 17 Batch 200 Loss 0.0711\n",
            "Epoch 17 Batch 300 Loss 0.0710\n",
            "Epoch 17 Batch 400 Loss 0.0369\n",
            "Epoch 17 Batch 500 Loss 0.0795\n",
            "Epoch 17 Batch 600 Loss 0.0396\n",
            "Epoch 17 Batch 700 Loss 0.0752\n",
            "Epoch 17 Batch 800 Loss 0.0590\n",
            "Epoch 17 Batch 900 Loss 0.1018\n",
            "Epoch 17 Batch 1000 Loss 0.0434\n",
            "Epoch 17 Batch 1100 Loss 0.0335\n",
            "Epoch 17 Batch 1200 Loss 0.0690\n",
            "Epoch 17 Loss 0.0590\n",
            "Time taken for 1 epoch 269.65323209762573 sec\n",
            "\n",
            "Epoch 18 Batch 0 Loss 0.0627\n",
            "Epoch 18 Batch 100 Loss 0.0606\n",
            "Epoch 18 Batch 200 Loss 0.0514\n",
            "Epoch 18 Batch 300 Loss 0.0393\n",
            "Epoch 18 Batch 400 Loss 0.0712\n",
            "Epoch 18 Batch 500 Loss 0.0612\n",
            "Epoch 18 Batch 600 Loss 0.0837\n",
            "Epoch 18 Batch 700 Loss 0.0447\n",
            "Epoch 18 Batch 800 Loss 0.0722\n",
            "Epoch 18 Batch 900 Loss 0.0323\n",
            "Epoch 18 Batch 1000 Loss 0.0619\n",
            "Epoch 18 Batch 1100 Loss 0.0774\n",
            "Epoch 18 Batch 1200 Loss 0.0534\n",
            "Epoch 18 Loss 0.0580\n",
            "Time taken for 1 epoch 272.573970079422 sec\n",
            "\n",
            "Epoch 19 Batch 0 Loss 0.0357\n",
            "Epoch 19 Batch 100 Loss 0.0299\n",
            "Epoch 19 Batch 200 Loss 0.0285\n",
            "Epoch 19 Batch 300 Loss 0.0396\n",
            "Epoch 19 Batch 400 Loss 0.0478\n",
            "Epoch 19 Batch 500 Loss 0.0567\n",
            "Epoch 19 Batch 600 Loss 0.0468\n",
            "Epoch 19 Batch 700 Loss 0.0546\n",
            "Epoch 19 Batch 800 Loss 0.0561\n",
            "Epoch 19 Batch 900 Loss 0.0576\n",
            "Epoch 19 Batch 1000 Loss 0.0791\n",
            "Epoch 19 Batch 1100 Loss 0.0725\n",
            "Epoch 19 Batch 1200 Loss 0.0603\n",
            "Epoch 19 Loss 0.0572\n",
            "Time taken for 1 epoch 273.16500973701477 sec\n",
            "\n",
            "Epoch 20 Batch 0 Loss 0.0154\n",
            "Epoch 20 Batch 100 Loss 0.0479\n",
            "Epoch 20 Batch 200 Loss 0.0529\n",
            "Epoch 20 Batch 300 Loss 0.0375\n",
            "Epoch 20 Batch 400 Loss 0.0435\n",
            "Epoch 20 Batch 500 Loss 0.0245\n",
            "Epoch 20 Batch 600 Loss 0.0666\n",
            "Epoch 20 Batch 700 Loss 0.0346\n",
            "Epoch 20 Batch 800 Loss 0.0404\n",
            "Epoch 20 Batch 900 Loss 0.0570\n",
            "Epoch 20 Batch 1000 Loss 0.0755\n",
            "Epoch 20 Batch 1100 Loss 0.0501\n",
            "Epoch 20 Batch 1200 Loss 0.0748\n",
            "Epoch 20 Loss 0.0556\n",
            "Time taken for 1 epoch 273.04694294929504 sec\n",
            "\n"
          ],
          "name": "stdout"
        }
      ]
    },
    {
      "cell_type": "markdown",
      "metadata": {
        "id": "mU3Ce8M6I3rz"
      },
      "source": [
        "## Translate\n",
        "\n",
        "* The evaluate function is similar to the training loop, except we don't use *teacher forcing* here. The input to the decoder at each time step is its previous predictions along with the hidden state and the encoder output.\n",
        "* Stop predicting when the model predicts the *end token*.\n",
        "* And store the *attention weights for every time step*.\n",
        "\n",
        "Note: The encoder output is calculated only once for one input."
      ]
    },
    {
      "cell_type": "code",
      "metadata": {
        "id": "EbQpyYs13jF_"
      },
      "source": [
        "def evaluate(sentence):\n",
        "  attention_plot = np.zeros((max_length_targ, max_length_inp))\n",
        "\n",
        "  sentence = preprocess_sentence(sentence)\n",
        "\n",
        "  inputs = [inp_lang.word_index[i] for i in sentence.split(' ')]\n",
        "  inputs = tf.keras.preprocessing.sequence.pad_sequences([inputs],\n",
        "                                                         maxlen=max_length_inp,\n",
        "                                                         padding='post')\n",
        "  inputs = tf.convert_to_tensor(inputs)\n",
        "\n",
        "  result = ''\n",
        "\n",
        "  hidden = [tf.zeros((1, units))]\n",
        "  enc_out, enc_hidden = encoder(inputs, hidden)\n",
        "\n",
        "  dec_hidden = enc_hidden\n",
        "  dec_input = tf.expand_dims([targ_lang.word_index['<start>']], 0)\n",
        "\n",
        "  for t in range(max_length_targ):\n",
        "    predictions, dec_hidden, attention_weights = decoder(dec_input,\n",
        "                                                         dec_hidden,\n",
        "                                                         enc_out)\n",
        "\n",
        "    # storing the attention weights to plot later on\n",
        "    attention_weights = tf.reshape(attention_weights, (-1, ))\n",
        "    attention_plot[t] = attention_weights.numpy()\n",
        "\n",
        "    predicted_id = tf.argmax(predictions[0]).numpy()\n",
        "\n",
        "    result += targ_lang.index_word[predicted_id] + ' '\n",
        "\n",
        "    if targ_lang.index_word[predicted_id] == '<end>':\n",
        "      return result, sentence, attention_plot\n",
        "\n",
        "    # the predicted ID is fed back into the model\n",
        "    dec_input = tf.expand_dims([predicted_id], 0)\n",
        "\n",
        "  return result, sentence, attention_plot"
      ],
      "execution_count": 30,
      "outputs": []
    },
    {
      "cell_type": "code",
      "metadata": {
        "id": "Qjy26Fe8Bv5d"
      },
      "source": [
        "# function for plotting the attention weights\n",
        "def plot_attention(attention, sentence, predicted_sentence):\n",
        "  fig = plt.figure(figsize=(10,10))\n",
        "  ax = fig.add_subplot(1, 1, 1)\n",
        "  ax.matshow(attention, cmap='viridis')\n",
        "\n",
        "  fontdict = {'fontsize': 14}\n",
        "\n",
        "  ax.set_xticklabels([''] + sentence, fontdict=fontdict, rotation=90)\n",
        "  ax.set_yticklabels([''] + predicted_sentence, fontdict=fontdict)\n",
        "\n",
        "  ax.xaxis.set_major_locator(ticker.MultipleLocator(1))\n",
        "  ax.yaxis.set_major_locator(ticker.MultipleLocator(1))\n",
        "\n",
        "  plt.show()"
      ],
      "execution_count": 31,
      "outputs": []
    },
    {
      "cell_type": "code",
      "metadata": {
        "id": "sl9zUHzg3jGI"
      },
      "source": [
        "def translate(sentence):\n",
        "  result, sentence, attention_plot = evaluate(sentence)\n",
        "\n",
        "  print('Input: %s' % (sentence))\n",
        "  print('Predicted translation: {}'.format(result))\n",
        "\n",
        "  attention_plot = attention_plot[:len(result.split(' ')), :len(sentence.split(' '))]\n",
        "  plot_attention(attention_plot, sentence.split(' '), result.split(' '))"
      ],
      "execution_count": 36,
      "outputs": []
    },
    {
      "cell_type": "markdown",
      "metadata": {
        "id": "n250XbnjOaqP"
      },
      "source": [
        "## Restore the latest checkpoint and test"
      ]
    },
    {
      "cell_type": "code",
      "metadata": {
        "id": "UJpT9D5_OgP6",
        "colab": {
          "base_uri": "https://localhost:8080/"
        },
        "outputId": "8637ad42-dad2-40dc-d06f-74611004fd76"
      },
      "source": [
        "# restoring the latest checkpoint in checkpoint_dir\n",
        "checkpoint.restore(tf.train.latest_checkpoint(checkpoint_dir))"
      ],
      "execution_count": 37,
      "outputs": [
        {
          "output_type": "execute_result",
          "data": {
            "text/plain": [
              "<tensorflow.python.training.tracking.util.CheckpointLoadStatus at 0x7f38fc58a210>"
            ]
          },
          "metadata": {
            "tags": []
          },
          "execution_count": 37
        }
      ]
    },
    {
      "cell_type": "code",
      "metadata": {
        "id": "WrAM0FDomq3E",
        "colab": {
          "base_uri": "https://localhost:8080/",
          "height": 675
        },
        "outputId": "8840b42d-3299-496b-a55c-6305ca817945"
      },
      "source": [
        "translate('Здесь хорошо.')"
      ],
      "execution_count": 38,
      "outputs": [
        {
          "output_type": "stream",
          "text": [
            "Input: <start> здесь хорошо . <end>\n",
            "Predicted translation: it's fine here . <end> \n"
          ],
          "name": "stdout"
        },
        {
          "output_type": "display_data",
          "data": {
            "image/png": "[encoded data removed]",
            "text/plain": [
              "<Figure size 720x720 with 1 Axes>"
            ]
          },
          "metadata": {
            "tags": [],
            "needs_background": "light"
          }
        }
      ]
    },
    {
      "cell_type": "code",
      "metadata": {
        "id": "5bhFfwcIMX5i",
        "colab": {
          "base_uri": "https://localhost:8080/",
          "height": 613
        },
        "outputId": "16939fb1-f683-4950-ebdd-a09d281e50c9"
      },
      "source": [
        "translate('Я не смогу поехать.')"
      ],
      "execution_count": 39,
      "outputs": [
        {
          "output_type": "stream",
          "text": [
            "Input: <start> я не смогу поехать . <end>\n",
            "Predicted translation: i can't go . <end> \n"
          ],
          "name": "stdout"
        },
        {
          "output_type": "display_data",
          "data": {
            "image/png": "[encoded data removed]",
            "text/plain": [
              "<Figure size 720x720 with 1 Axes>"
            ]
          },
          "metadata": {
            "tags": [],
            "needs_background": "light"
          }
        }
      ]
    },
    {
      "cell_type": "code",
      "metadata": {
        "id": "zSx2iM36EZQZ",
        "colab": {
          "base_uri": "https://localhost:8080/",
          "height": 675
        },
        "outputId": "f9899b86-735e-4d9b-839c-d7e313376520"
      },
      "source": [
        "translate(u'Вы еще дома?')"
      ],
      "execution_count": 40,
      "outputs": [
        {
          "output_type": "stream",
          "text": [
            "Input: <start> вы еще дома ? <end>\n",
            "Predicted translation: are you home early ? <end> \n"
          ],
          "name": "stdout"
        },
        {
          "output_type": "display_data",
          "data": {
            "image/png": "[encoded data removed]",
            "text/plain": [
              "<Figure size 720x720 with 1 Axes>"
            ]
          },
          "metadata": {
            "tags": [],
            "needs_background": "light"
          }
        }
      ]
    },
    {
      "cell_type": "code",
      "metadata": {
        "id": "A3LLCx3ZE0Ls",
        "colab": {
          "base_uri": "https://localhost:8080/",
          "height": 675
        },
        "outputId": "71963f0e-0889-4def-9195-c15031e2a171"
      },
      "source": [
        "translate(u'Вы все еще дома?')"
      ],
      "execution_count": 41,
      "outputs": [
        {
          "output_type": "stream",
          "text": [
            "Input: <start> вы все еще дома ? <end>\n",
            "Predicted translation: are you still at home ? <end> \n"
          ],
          "name": "stdout"
        },
        {
          "output_type": "display_data",
          "data": {
            "image/png": "[encoded data removed]",
            "text/plain": [
              "<Figure size 720x720 with 1 Axes>"
            ]
          },
          "metadata": {
            "tags": [],
            "needs_background": "light"
          }
        }
      ]
    },
    {
      "cell_type": "code",
      "metadata": {
        "id": "DUQVLVqUE1YW",
        "colab": {
          "base_uri": "https://localhost:8080/",
          "height": 689
        },
        "outputId": "23d8fbca-8a0f-4968-b9d6-ac773c0d97d0"
      },
      "source": [
        "translate(u'Попробуй сделать это.')"
      ],
      "execution_count": 42,
      "outputs": [
        {
          "output_type": "stream",
          "text": [
            "Input: <start> попробуй сделать это . <end>\n",
            "Predicted translation: try to do it . <end> \n"
          ],
          "name": "stdout"
        },
        {
          "output_type": "display_data",
          "data": {
            "image/png": "[encoded data removed]",
            "text/plain": [
              "<Figure size 720x720 with 1 Axes>"
            ]
          },
          "metadata": {
            "tags": [],
            "needs_background": "light"
          }
        }
      ]
    },
    {
      "cell_type": "code",
      "metadata": {
        "id": "f09_hUFx9EJh",
        "colab": {
          "base_uri": "https://localhost:8080/",
          "height": 634
        },
        "outputId": "f1d3f29b-78c2-4b2f-9f04-74fa99c2ad91"
      },
      "source": [
        "translate(u'Я не люблю, когда идет снег.')"
      ],
      "execution_count": 43,
      "outputs": [
        {
          "output_type": "stream",
          "text": [
            "Input: <start> я не люблю , когда идет снег . <end>\n",
            "Predicted translation: i don't mind , not end . <end> \n"
          ],
          "name": "stdout"
        },
        {
          "output_type": "display_data",
          "data": {
            "image/png": "[encoded data removed]",
            "text/plain": [
              "<Figure size 720x720 with 1 Axes>"
            ]
          },
          "metadata": {
            "tags": [],
            "needs_background": "light"
          }
        }
      ]
    },
    {
      "cell_type": "code",
      "metadata": {
        "id": "e7c5p8rmkHQG",
        "colab": {
          "base_uri": "https://localhost:8080/",
          "height": 625
        },
        "outputId": "4c6309b1-65fe-41f6-f140-c6747c15229f"
      },
      "source": [
        "translate(u'Я никогда такого не делаю.')"
      ],
      "execution_count": 44,
      "outputs": [
        {
          "output_type": "stream",
          "text": [
            "Input: <start> я никогда такого не делаю . <end>\n",
            "Predicted translation: i never do that . <end> \n"
          ],
          "name": "stdout"
        },
        {
          "output_type": "display_data",
          "data": {
            "image/png": "[encoded data removed]",
            "text/plain": [
              "<Figure size 720x720 with 1 Axes>"
            ]
          },
          "metadata": {
            "tags": [],
            "needs_background": "light"
          }
        }
      ]
    },
    {
      "cell_type": "code",
      "metadata": {
        "id": "jdXES85KkTVS",
        "colab": {
          "base_uri": "https://localhost:8080/",
          "height": 675
        },
        "outputId": "28e8f3bb-9590-4744-9ede-ca339613d808"
      },
      "source": [
        "translate(u'Я не люблю дождь.')"
      ],
      "execution_count": 45,
      "outputs": [
        {
          "output_type": "stream",
          "text": [
            "Input: <start> я не люблю дождь . <end>\n",
            "Predicted translation: i don't like rain . <end> \n"
          ],
          "name": "stdout"
        },
        {
          "output_type": "display_data",
          "data": {
            "image/png": "[encoded data removed]",
            "text/plain": [
              "<Figure size 720x720 with 1 Axes>"
            ]
          },
          "metadata": {
            "tags": [],
            "needs_background": "light"
          }
        }
      ]
    },
    {
      "cell_type": "code",
      "metadata": {
        "colab": {
          "base_uri": "https://localhost:8080/",
          "height": 625
        },
        "id": "ZG1hs6XnJiM3",
        "outputId": "b932bbc4-e161-4643-a8b3-f0f99596c088"
      },
      "source": [
        "translate(u'Я никогда не любила дождь.')"
      ],
      "execution_count": 46,
      "outputs": [
        {
          "output_type": "stream",
          "text": [
            "Input: <start> я никогда не любила дождь . <end>\n",
            "Predicted translation: i never liked rain . <end> \n"
          ],
          "name": "stdout"
        },
        {
          "output_type": "display_data",
          "data": {
            "image/png": "[encoded data removed]",
            "text/plain": [
              "<Figure size 720x720 with 1 Axes>"
            ]
          },
          "metadata": {
            "tags": [],
            "needs_background": "light"
          }
        }
      ]
    },
    {
      "cell_type": "code",
      "metadata": {
        "colab": {
          "base_uri": "https://localhost:8080/",
          "height": 675
        },
        "id": "gp_SyCQ-Joof",
        "outputId": "8a86b6cb-cd26-4d5d-da4c-8ce7cbf59f43"
      },
      "source": [
        "translate(u'идет дождь.')"
      ],
      "execution_count": 47,
      "outputs": [
        {
          "output_type": "stream",
          "text": [
            "Input: <start> идет дождь . <end>\n",
            "Predicted translation: it's raining . <end> \n"
          ],
          "name": "stdout"
        },
        {
          "output_type": "display_data",
          "data": {
            "image/png": "[encoded data removed]",
            "text/plain": [
              "<Figure size 720x720 with 1 Axes>"
            ]
          },
          "metadata": {
            "tags": [],
            "needs_background": "light"
          }
        }
      ]
    },
    {
      "cell_type": "code",
      "metadata": {
        "colab": {
          "base_uri": "https://localhost:8080/",
          "height": 675
        },
        "id": "Ji6MpmnXJsHS",
        "outputId": "9330991f-5c62-4c00-d225-41486c07a8ca"
      },
      "source": [
        "translate(u'по утрам идет дождь.')"
      ],
      "execution_count": 48,
      "outputs": [
        {
          "output_type": "stream",
          "text": [
            "Input: <start> по утрам идет дождь . <end>\n",
            "Predicted translation: it is raining again . <end> \n"
          ],
          "name": "stdout"
        },
        {
          "output_type": "display_data",
          "data": {
            "image/png": "[encoded data removed]",
            "text/plain": [
              "<Figure size 720x720 with 1 Axes>"
            ]
          },
          "metadata": {
            "tags": [],
            "needs_background": "light"
          }
        }
      ]
    },
    {
      "cell_type": "code",
      "metadata": {
        "colab": {
          "base_uri": "https://localhost:8080/",
          "height": 675
        },
        "id": "ZtxCQ0esJwL-",
        "outputId": "d9019ec3-0ff4-4b33-a5be-7fd504134e27"
      },
      "source": [
        "translate(u'рано утром идет дождь.')"
      ],
      "execution_count": 52,
      "outputs": [
        {
          "output_type": "stream",
          "text": [
            "Input: <start> рано утром идет дождь . <end>\n",
            "Predicted translation: it's getting raining tonight . <end> \n"
          ],
          "name": "stdout"
        },
        {
          "output_type": "display_data",
          "data": {
            "image/png": "[encoded data removed]",
            "text/plain": [
              "<Figure size 720x720 with 1 Axes>"
            ]
          },
          "metadata": {
            "tags": [],
            "needs_background": "light"
          }
        }
      ]
    }
  ]
}