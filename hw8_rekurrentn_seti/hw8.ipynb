{
  "nbformat": 4,
  "nbformat_minor": 0,
  "metadata": {
    "kernelspec": {
      "display_name": "Python 3",
      "language": "python",
      "name": "python3"
    },
    "language_info": {
      "codemirror_mode": {
        "name": "ipython",
        "version": 3
      },
      "file_extension": ".py",
      "mimetype": "text/x-python",
      "name": "python",
      "nbconvert_exporter": "python",
      "pygments_lexer": "ipython3",
      "version": "3.8.3"
    },
    "colab": {
      "name": "hw8.ipynb",
      "provenance": [],
      "collapsed_sections": [
        "zoeHy2TeYlc1"
      ]
    }
  },
  "cells": [
    {
      "cell_type": "markdown",
      "metadata": {
        "id": "OOlx9tfXhOdA"
      },
      "source": [
        "Материалы\n",
        "\n",
        "У вас лекционный ноутбук в архиве он с картинками и презентация тоже есть в архиве\n",
        "\n",
        "Задание\n",
        "\n",
        "На вебинаре мы говорили что долгое время CNN и RNN архитектуры были конурируещими выяснить какая архитектура больше подходит для задачи сантимент анализа на данных с вебинара \n",
        "\n",
        "1. построить свёрточные архитектуры \n",
        "\n",
        "2. построить различные архитектуры с RNN\n",
        "\n",
        "3. построить совместные архитектуры CNN -> RNN и (RNN -> CNN)\n",
        "\n",
        "4. сдлать выводы что получилось лучше"
      ]
    },
    {
      "cell_type": "code",
      "metadata": {
        "colab": {
          "base_uri": "https://localhost:8080/"
        },
        "id": "w9Wc1OSAZMLP",
        "outputId": "501bac40-19f1-4ca2-b5bc-e6dc5a465bcf"
      },
      "source": [
        "from google.colab import drive\n",
        "drive.mount('/content/drive')"
      ],
      "execution_count": 7,
      "outputs": [
        {
          "output_type": "stream",
          "text": [
            "Mounted at /content/drive\n"
          ],
          "name": "stdout"
        }
      ]
    },
    {
      "cell_type": "code",
      "metadata": {
        "id": "r9srbTiuaHXq"
      },
      "source": [
        "!pip install stop_words"
      ],
      "execution_count": null,
      "outputs": []
    },
    {
      "cell_type": "code",
      "metadata": {
        "id": "wr0Va148aQl4"
      },
      "source": [
        "!pip install pymorphy2"
      ],
      "execution_count": null,
      "outputs": []
    },
    {
      "cell_type": "code",
      "metadata": {
        "id": "ORjTLNB0iLEi"
      },
      "source": [
        "import pandas as pd\n",
        "from string import punctuation\n",
        "from stop_words import get_stop_words\n",
        "from pymorphy2 import MorphAnalyzer\n",
        "import re"
      ],
      "execution_count": 5,
      "outputs": []
    },
    {
      "cell_type": "code",
      "metadata": {
        "id": "wh-fhRWUwjw0"
      },
      "source": [
        "def print_res():\n",
        "  score = model.evaluate(X_valid, y_val, batch_size=512, verbose=1)\n",
        "  print('\\n')\n",
        "  print('Test score:', score[0])\n",
        "  print('Test accuracy:', score[1])"
      ],
      "execution_count": 49,
      "outputs": []
    },
    {
      "cell_type": "markdown",
      "metadata": {
        "id": "x6N4ujKBiGL5"
      },
      "source": [
        "#Предобработка данных"
      ]
    },
    {
      "cell_type": "code",
      "metadata": {
        "id": "Ti1Pr2eGYlcu"
      },
      "source": [
        "df_train = pd.read_csv(\"/content/drive/MyDrive/data_less7/train.csv\")\n",
        "df_test = pd.read_csv(\"/content/drive/MyDrive/data_less7/test.csv\")\n",
        "df_val = pd.read_csv(\"/content/drive/MyDrive/data_less7/val.csv\")"
      ],
      "execution_count": 8,
      "outputs": []
    },
    {
      "cell_type": "code",
      "metadata": {
        "id": "OKM-AS5xYlcv",
        "colab": {
          "base_uri": "https://localhost:8080/",
          "height": 111
        },
        "outputId": "cda2212b-13e0-4e87-e062-fdb092f244a8"
      },
      "source": [
        "df_train.head(2)"
      ],
      "execution_count": 9,
      "outputs": [
        {
          "output_type": "execute_result",
          "data": {
            "text/html": [
              "<div>\n",
              "<style scoped>\n",
              "    .dataframe tbody tr th:only-of-type {\n",
              "        vertical-align: middle;\n",
              "    }\n",
              "\n",
              "    .dataframe tbody tr th {\n",
              "        vertical-align: top;\n",
              "    }\n",
              "\n",
              "    .dataframe thead th {\n",
              "        text-align: right;\n",
              "    }\n",
              "</style>\n",
              "<table border=\"1\" class=\"dataframe\">\n",
              "  <thead>\n",
              "    <tr style=\"text-align: right;\">\n",
              "      <th></th>\n",
              "      <th>id</th>\n",
              "      <th>text</th>\n",
              "      <th>class</th>\n",
              "    </tr>\n",
              "  </thead>\n",
              "  <tbody>\n",
              "    <tr>\n",
              "      <th>0</th>\n",
              "      <td>0</td>\n",
              "      <td>@alisachachka не уезжаааааааай. :(❤ я тоже не ...</td>\n",
              "      <td>0</td>\n",
              "    </tr>\n",
              "    <tr>\n",
              "      <th>1</th>\n",
              "      <td>1</td>\n",
              "      <td>RT @GalyginVadim: Ребята и девчата!\\nВсе в кин...</td>\n",
              "      <td>1</td>\n",
              "    </tr>\n",
              "  </tbody>\n",
              "</table>\n",
              "</div>"
            ],
            "text/plain": [
              "   id                                               text  class\n",
              "0   0  @alisachachka не уезжаааааааай. :(❤ я тоже не ...      0\n",
              "1   1  RT @GalyginVadim: Ребята и девчата!\\nВсе в кин...      1"
            ]
          },
          "metadata": {
            "tags": []
          },
          "execution_count": 9
        }
      ]
    },
    {
      "cell_type": "code",
      "metadata": {
        "id": "IcrcWNS1Ylcw"
      },
      "source": [
        "sw = set(get_stop_words(\"ru\"))\n",
        "exclude = set(punctuation)\n",
        "morpher = MorphAnalyzer()\n",
        "\n",
        "def preprocess_text(txt):\n",
        "    txt = str(txt)\n",
        "    txt = \"\".join(c for c in txt if c not in exclude)\n",
        "    txt = txt.lower()\n",
        "    txt = re.sub(\"\\sне\", \"не\", txt)\n",
        "    txt = [morpher.parse(word)[0].normal_form for word in txt.split() if word not in sw]\n",
        "    return \" \".join(txt)\n",
        "\n",
        "df_train['text'] = df_train['text'].apply(preprocess_text)\n",
        "df_val['text'] = df_val['text'].apply(preprocess_text)\n",
        "df_test['text'] = df_test['text'].apply(preprocess_text)"
      ],
      "execution_count": 10,
      "outputs": []
    },
    {
      "cell_type": "code",
      "metadata": {
        "id": "uhgXuTZrYlcw"
      },
      "source": [
        "import numpy as np\n",
        "import keras\n",
        "from keras.models import Sequential, Model\n",
        "from keras.layers import Dense, Dropout, Activation, Input, Embedding, Conv1D, GlobalMaxPool1D, SimpleRNN, LSTM, GRU, Masking\n",
        "from keras.preprocessing.text import Tokenizer\n",
        "from keras.preprocessing.sequence import pad_sequences\n",
        "from keras.callbacks import TensorBoard \n",
        "from keras.objectives import categorical_crossentropy\n",
        "from keras.callbacks import EarlyStopping  "
      ],
      "execution_count": 11,
      "outputs": []
    },
    {
      "cell_type": "code",
      "metadata": {
        "id": "itkaHlMWYlcx"
      },
      "source": [
        "text_corpus_train = df_train['text'].values\n",
        "text_corpus_valid = df_val['text'].values\n",
        "text_corpus_test = df_test['text'].values"
      ],
      "execution_count": 12,
      "outputs": []
    },
    {
      "cell_type": "code",
      "metadata": {
        "id": "Wu9CQCPMYlcx"
      },
      "source": [
        "tokenizer = Tokenizer(num_words=None, \n",
        "                     filters='#$%&()*+-<=>@[\\\\]^_`{|}~\\t\\n',\n",
        "                     lower = False, split = ' ')\n",
        "tokenizer.fit_on_texts(text_corpus_train)\n",
        "\n",
        "sequences_train = tokenizer.texts_to_sequences(text_corpus_train)\n",
        "sequences_val = tokenizer.texts_to_sequences(text_corpus_valid)\n",
        "sequences_test = tokenizer.texts_to_sequences(text_corpus_test)\n",
        "\n",
        "word_count = len(tokenizer.index_word) + 1\n",
        "training_length = max([len(i.split()) for i in text_corpus_train])\n",
        "\n",
        "X_train = pad_sequences(sequences_train, maxlen=training_length)\n",
        "X_valid = pad_sequences(sequences_val, maxlen=training_length)\n",
        "\n"
      ],
      "execution_count": 13,
      "outputs": []
    },
    {
      "cell_type": "code",
      "metadata": {
        "id": "sXZu8DpdYlcx"
      },
      "source": [
        "y_train = df_train['class'].values\n",
        "y_val = df_val['class'].values"
      ],
      "execution_count": 14,
      "outputs": []
    },
    {
      "cell_type": "markdown",
      "metadata": {
        "id": "8mLZ8M42liV2"
      },
      "source": [
        "#1. Построим сверточную сеть"
      ]
    },
    {
      "cell_type": "code",
      "metadata": {
        "id": "ImWkNvDyln3V"
      },
      "source": [
        "import numpy as np\n",
        "import keras\n",
        "from keras.models import Sequential, Model\n",
        "from keras.layers import Dense, Dropout, Activation, Input, Embedding, Conv1D, GlobalMaxPool1D\n",
        "from keras.preprocessing.text import Tokenizer\n",
        "from keras.preprocessing.sequence import pad_sequences\n",
        "from keras.callbacks import TensorBoard \n",
        "from keras.objectives import categorical_crossentropy\n",
        "from keras.callbacks import EarlyStopping  \n",
        "import tensorflow as tf"
      ],
      "execution_count": 15,
      "outputs": []
    },
    {
      "cell_type": "code",
      "metadata": {
        "id": "WIol0yRXlsL5"
      },
      "source": [
        "model = Sequential()\n",
        "model.add(Embedding(input_dim=word_count, output_dim=128, input_length=training_length, trainable=True,\n",
        "              mask_zero=True))\n",
        "model.add(Masking(mask_value=0.0))\n",
        "model.add(Conv1D(128, 3))\n",
        "model.add(Activation(\"relu\"))\n",
        "model.add(GlobalMaxPool1D())\n",
        "model.add(Dense(10))\n",
        "model.add(Activation(\"relu\"))\n",
        "model.add(Dense(1, activation='sigmoid'))\n",
        "\n",
        "model.compile(\n",
        "    optimizer='adam', loss='binary_crossentropy', metrics=['accuracy'])"
      ],
      "execution_count": 16,
      "outputs": []
    },
    {
      "cell_type": "code",
      "metadata": {
        "colab": {
          "base_uri": "https://localhost:8080/"
        },
        "id": "U1TkCUEYm1tM",
        "outputId": "cd190b78-342f-482b-e64a-533c53f73535"
      },
      "source": [
        "early_stopping=EarlyStopping(monitor='val_loss')  \n",
        "history = model.fit(X_train, y_train, batch_size=512, epochs=10, verbose=1, validation_split=0.1, callbacks=[early_stopping])"
      ],
      "execution_count": 17,
      "outputs": [
        {
          "output_type": "stream",
          "text": [
            "Epoch 1/10\n",
            "319/319 [==============================] - 151s 423ms/step - loss: 0.5999 - accuracy: 0.6563 - val_loss: 0.4861 - val_accuracy: 0.7559\n"
          ],
          "name": "stdout"
        }
      ]
    },
    {
      "cell_type": "code",
      "metadata": {
        "colab": {
          "base_uri": "https://localhost:8080/"
        },
        "id": "aXD08Ko1m7NH",
        "outputId": "28679745-60be-47aa-b8e5-39bd4259b401"
      },
      "source": [
        "score = model.evaluate(X_valid, y_val, batch_size=512, verbose=1)\n",
        "print('\\n')\n",
        "print('Test score:', score[0])\n",
        "print('Test accuracy:', score[1])"
      ],
      "execution_count": 18,
      "outputs": [
        {
          "output_type": "stream",
          "text": [
            "45/45 [==============================] - 1s 32ms/step - loss: 0.5179 - accuracy: 0.7387\n",
            "\n",
            "\n",
            "Test score: 0.5179295539855957\n",
            "Test accuracy: 0.7387030124664307\n"
          ],
          "name": "stdout"
        }
      ]
    },
    {
      "cell_type": "code",
      "metadata": {
        "id": "_hZ5tvCa7b_Z"
      },
      "source": [
        "mod = []\n",
        "acc = []\n",
        "mod.append('CNN1')\n",
        "acc.append(0.7387)"
      ],
      "execution_count": 75,
      "outputs": []
    },
    {
      "cell_type": "markdown",
      "metadata": {
        "id": "W4D9sqCkYc3L"
      },
      "source": [
        "для примера еще одну сеть"
      ]
    },
    {
      "cell_type": "code",
      "metadata": {
        "id": "tcfMNFJQYZym"
      },
      "source": [
        "\n",
        "model = Sequential()\n",
        "model.add(Embedding(input_dim=word_count, output_dim=128, input_length=training_length))\n",
        "\n",
        "model.add(Conv1D(128, 3))\n",
        "model.add(Activation(\"relu\"))\n",
        "model.add(Dense(10))\n",
        "model.add(Conv1D(64, 2))\n",
        "model.add(Activation(\"relu\"))\n",
        "model.add(Conv1D(64, 1))\n",
        "model.add(Activation(\"relu\"))\n",
        "model.add(GlobalMaxPool1D())\n",
        "model.add(Dense(1, activation='sigmoid'))\n",
        "\n",
        "model.compile(optimizer='adam', loss='binary_crossentropy', metrics=['accuracy'])"
      ],
      "execution_count": 34,
      "outputs": []
    },
    {
      "cell_type": "code",
      "metadata": {
        "colab": {
          "base_uri": "https://localhost:8080/"
        },
        "id": "Dz0K7b-wYZ_q",
        "outputId": "1d322673-1dca-46ae-ee8a-6dff63b911f7"
      },
      "source": [
        "early_stopping=EarlyStopping(monitor='val_loss')  \n",
        "history = model.fit(X_train, y_train, batch_size=512, epochs=10, verbose=1, validation_split=0.1, callbacks=[early_stopping])\n",
        "score = model.evaluate(X_valid, y_val, batch_size=512, verbose=1)\n",
        "print('\\n')\n",
        "print('Test score:', score[0])\n",
        "print('Test accuracy:', score[1])"
      ],
      "execution_count": 35,
      "outputs": [
        {
          "output_type": "stream",
          "text": [
            "Epoch 1/10\n",
            "319/319 [==============================] - 141s 439ms/step - loss: 0.6029 - accuracy: 0.6537 - val_loss: 0.4864 - val_accuracy: 0.7598\n",
            "45/45 [==============================] - 2s 34ms/step - loss: 0.5106 - accuracy: 0.7401\n",
            "\n",
            "\n",
            "Test score: 0.51059490442276\n",
            "Test accuracy: 0.7400696277618408\n"
          ],
          "name": "stdout"
        }
      ]
    },
    {
      "cell_type": "code",
      "metadata": {
        "id": "f0Cygxaw8KmL"
      },
      "source": [
        "mod.append('CNN2')\n",
        "acc.append(0.7400)"
      ],
      "execution_count": 76,
      "outputs": []
    },
    {
      "cell_type": "markdown",
      "metadata": {
        "id": "Id3Y8GGrnSbA"
      },
      "source": [
        "#2. RNN"
      ]
    },
    {
      "cell_type": "markdown",
      "metadata": {
        "id": "jj4D0z4CoGiF"
      },
      "source": [
        "SimpleRNN"
      ]
    },
    {
      "cell_type": "code",
      "metadata": {
        "id": "LsoIu3buYlcy"
      },
      "source": [
        "# попробуем запрограммировать простую рекурентную сеть\n",
        "\n",
        "model = Sequential()\n",
        "model.add(Embedding(input_dim=word_count, input_length=training_length, output_dim=30, trainable=True, mask_zero=True))\n",
        "model.add(Masking(mask_value=0.0))\n",
        "\n",
        "model.add(SimpleRNN(64))\n",
        "model.add(Dense(64, activation='relu'))\n",
        "model.add(Dropout(0.5))\n",
        "model.add(Dense(1, activation='sigmoid'))\n",
        "\n",
        "model.compile(optimizer='adam', loss='binary_crossentropy', metrics=['accuracy'])"
      ],
      "execution_count": 36,
      "outputs": []
    },
    {
      "cell_type": "code",
      "metadata": {
        "colab": {
          "base_uri": "https://localhost:8080/"
        },
        "id": "vJL6W5T_Ylcy",
        "outputId": "3be4869e-15f7-425b-e62b-b63140927d83"
      },
      "source": [
        "early_stopping=EarlyStopping(monitor='val_loss')  \n",
        "history = model.fit(X_train, y_train, batch_size=512, epochs=10, verbose=1, validation_split=0.1, callbacks=[early_stopping])"
      ],
      "execution_count": 37,
      "outputs": [
        {
          "output_type": "stream",
          "text": [
            "Epoch 1/10\n",
            "319/319 [==============================] - 53s 135ms/step - loss: 0.6177 - accuracy: 0.6351 - val_loss: 0.4934 - val_accuracy: 0.7547\n"
          ],
          "name": "stdout"
        }
      ]
    },
    {
      "cell_type": "code",
      "metadata": {
        "colab": {
          "base_uri": "https://localhost:8080/"
        },
        "id": "OZwozlOIYlcz",
        "outputId": "5e6666d2-07a8-48db-c76a-44c2292f51b3"
      },
      "source": [
        "score = model.evaluate(X_valid, y_val, batch_size=512, verbose=1)\n",
        "print('\\n')\n",
        "print('Test score:', score[0])\n",
        "print('Test accuracy:', score[1])"
      ],
      "execution_count": 38,
      "outputs": [
        {
          "output_type": "stream",
          "text": [
            "45/45 [==============================] - 1s 19ms/step - loss: 0.5055 - accuracy: 0.7453\n",
            "\n",
            "\n",
            "Test score: 0.5054731965065002\n",
            "Test accuracy: 0.7453158497810364\n"
          ],
          "name": "stdout"
        }
      ]
    },
    {
      "cell_type": "code",
      "metadata": {
        "id": "-LA4PZV88PKv"
      },
      "source": [
        "mod.append('SimpleRNN')\n",
        "acc.append(0.7453)"
      ],
      "execution_count": 77,
      "outputs": []
    },
    {
      "cell_type": "markdown",
      "metadata": {
        "id": "zatPxpJioOPV"
      },
      "source": [
        "LSTM"
      ]
    },
    {
      "cell_type": "code",
      "metadata": {
        "colab": {
          "base_uri": "https://localhost:8080/"
        },
        "id": "Gp43P4gxYlc0",
        "outputId": "24b720da-d789-4e38-de45-3a6a3f7ddb2d"
      },
      "source": [
        "model = Sequential()\n",
        "model.add(Embedding(input_dim=word_count, input_length=training_length, output_dim=30, trainable=True, mask_zero=True))\n",
        "model.add(Masking(mask_value=0.0))\n",
        "model.add(LSTM(64, recurrent_dropout=0.2))\n",
        "model.add(Dense(64, activation='relu'))\n",
        "model.add(Dropout(0.5))\n",
        "model.add(Dense(1, activation='sigmoid'))\n",
        "model.compile(optimizer='adam', loss='binary_crossentropy', metrics=['accuracy'])\n",
        "early_stopping=EarlyStopping(monitor='val_loss')  \n",
        "history = model.fit(X_train, y_train, batch_size=512, epochs=10, verbose=1, validation_split=0.1, callbacks=[early_stopping])"
      ],
      "execution_count": 39,
      "outputs": [
        {
          "output_type": "stream",
          "text": [
            "Epoch 1/10\n",
            "319/319 [==============================] - 86s 249ms/step - loss: 0.6109 - accuracy: 0.6479 - val_loss: 0.4929 - val_accuracy: 0.7533\n"
          ],
          "name": "stdout"
        }
      ]
    },
    {
      "cell_type": "code",
      "metadata": {
        "colab": {
          "base_uri": "https://localhost:8080/"
        },
        "id": "_bSu6eFHYlc0",
        "outputId": "b1ed9a48-3fa2-4181-e5a7-6bbccbbea299"
      },
      "source": [
        "score = model.evaluate(X_valid, y_val, batch_size=512, verbose=1)\n",
        "print('\\n')\n",
        "print('Test score:', score[0])\n",
        "print('Test accuracy:', score[1])"
      ],
      "execution_count": 40,
      "outputs": [
        {
          "output_type": "stream",
          "text": [
            "45/45 [==============================] - 2s 37ms/step - loss: 0.5092 - accuracy: 0.7440\n",
            "\n",
            "\n",
            "Test score: 0.5091725587844849\n",
            "Test accuracy: 0.7439932823181152\n"
          ],
          "name": "stdout"
        }
      ]
    },
    {
      "cell_type": "code",
      "metadata": {
        "id": "xILSB6Mv8gqB"
      },
      "source": [
        "mod.append('LSTM')\n",
        "acc.append(0.7439)"
      ],
      "execution_count": 78,
      "outputs": []
    },
    {
      "cell_type": "markdown",
      "metadata": {
        "id": "zoeHy2TeYlc1"
      },
      "source": [
        "GRU \n"
      ]
    },
    {
      "cell_type": "code",
      "metadata": {
        "colab": {
          "base_uri": "https://localhost:8080/"
        },
        "id": "pGpaO2R8Ylc1",
        "outputId": "8ce97298-b9e2-4516-a2ac-f3609b44cc5d"
      },
      "source": [
        "model = Sequential()\n",
        "model.add(Embedding(input_dim=word_count,input_length=training_length,output_dim=30,trainable=True, mask_zero=True))\n",
        "model.add(Masking(mask_value=0.0))\n",
        "model.add(GRU(64, recurrent_dropout=0.2))\n",
        "model.add(Dense(64, activation='relu'))\n",
        "model.add(Dropout(0.5))\n",
        "model.add(Dense(1, activation='sigmoid'))\n",
        "model.compile(optimizer='adam', loss='binary_crossentropy', metrics=['accuracy'])\n",
        "early_stopping=EarlyStopping(monitor='val_loss')  \n",
        "history = model.fit(X_train, y_train,batch_size=512,epochs=10,verbose=1,validation_split=0.1,callbacks=[early_stopping])"
      ],
      "execution_count": 41,
      "outputs": [
        {
          "output_type": "stream",
          "text": [
            "Epoch 1/10\n",
            "319/319 [==============================] - 75s 219ms/step - loss: 0.6096 - accuracy: 0.6469 - val_loss: 0.4949 - val_accuracy: 0.7542\n"
          ],
          "name": "stdout"
        }
      ]
    },
    {
      "cell_type": "code",
      "metadata": {
        "colab": {
          "base_uri": "https://localhost:8080/"
        },
        "id": "YPNq0wCeYlc2",
        "outputId": "c2ccf6dc-b050-42fc-bce3-c3f3d661d5e2"
      },
      "source": [
        "score = model.evaluate(X_valid, y_val, batch_size=512, verbose=1)\n",
        "print('\\n')\n",
        "print('Test score:', score[0])\n",
        "print('Test accuracy:', score[1])"
      ],
      "execution_count": 42,
      "outputs": [
        {
          "output_type": "stream",
          "text": [
            "45/45 [==============================] - 1s 32ms/step - loss: 0.5078 - accuracy: 0.7430\n",
            "\n",
            "\n",
            "Test score: 0.5077802538871765\n",
            "Test accuracy: 0.7430233955383301\n"
          ],
          "name": "stdout"
        }
      ]
    },
    {
      "cell_type": "code",
      "metadata": {
        "id": "cvzW_mQ88nen"
      },
      "source": [
        "mod.append('GRU')\n",
        "acc.append(0.7430)"
      ],
      "execution_count": 79,
      "outputs": []
    },
    {
      "cell_type": "markdown",
      "metadata": {
        "id": "FnjZfCNKvS01"
      },
      "source": [
        "#3 совместные архитектуры CNN -> RNN "
      ]
    },
    {
      "cell_type": "markdown",
      "metadata": {
        "id": "2w7uOhILvWOo"
      },
      "source": [
        "CNN-SimpleRNN"
      ]
    },
    {
      "cell_type": "code",
      "metadata": {
        "colab": {
          "base_uri": "https://localhost:8080/"
        },
        "id": "LbkBv1TJvbZq",
        "outputId": "cb3655d6-d745-4a0c-ec4b-92729d3e19ca"
      },
      "source": [
        "model = Sequential()\n",
        "model.add(Embedding(input_dim=word_count, input_length=training_length, output_dim=30, trainable=True, mask_zero=True))\n",
        "model.add(Masking(mask_value=0.0))\n",
        "model.add(Conv1D(128, 3))\n",
        "model.add(Activation(\"relu\"))\n",
        "model.add(SimpleRNN(64))\n",
        "model.add(Dense(64, activation='relu'))\n",
        "model.add(Dropout(0.5))\n",
        "model.add(Dense(1, activation='sigmoid'))\n",
        "\n",
        "model.compile(optimizer='adam', loss='binary_crossentropy', metrics=['accuracy'])\n",
        "early_stopping=EarlyStopping(monitor='val_loss')  \n",
        "history = model.fit(X_train, y_train, batch_size=512, epochs=10, verbose=1, validation_split=0.1, callbacks=[early_stopping])\n",
        "print_res()"
      ],
      "execution_count": 59,
      "outputs": [
        {
          "output_type": "stream",
          "text": [
            "Epoch 1/10\n",
            "319/319 [==============================] - 53s 160ms/step - loss: 0.6178 - accuracy: 0.6307 - val_loss: 0.4919 - val_accuracy: 0.7555\n",
            "45/45 [==============================] - 1s 27ms/step - loss: 0.5180 - accuracy: 0.7443\n",
            "\n",
            "\n",
            "Test score: 0.517991840839386\n",
            "Test accuracy: 0.7442578077316284\n"
          ],
          "name": "stdout"
        }
      ]
    },
    {
      "cell_type": "code",
      "metadata": {
        "id": "taeE7QjM805w"
      },
      "source": [
        "mod.append('CNN-SimpleRNN')\n",
        "acc.append(0.7442)"
      ],
      "execution_count": 80,
      "outputs": []
    },
    {
      "cell_type": "markdown",
      "metadata": {
        "id": "krjxwJjmvsh7"
      },
      "source": [
        "CNN - LSTM"
      ]
    },
    {
      "cell_type": "code",
      "metadata": {
        "colab": {
          "base_uri": "https://localhost:8080/"
        },
        "id": "KiLuqVObvwou",
        "outputId": "4bd12be4-d2c2-4b04-b510-c565edf38ea1"
      },
      "source": [
        "model = Sequential()\n",
        "model.add(Embedding(input_dim=word_count, input_length=training_length, output_dim=30, trainable=True, mask_zero=True))\n",
        "model.add(Masking(mask_value=0.0))\n",
        "model.add(Conv1D(128, 3))\n",
        "model.add(Activation(\"relu\"))\n",
        "model.add(LSTM(64, recurrent_dropout=0.2))\n",
        "model.add(Dense(64, activation='relu'))\n",
        "model.add(Dropout(0.5))\n",
        "model.add(Dense(1, activation='sigmoid'))\n",
        "model.compile(optimizer='adam', loss='binary_crossentropy', metrics=['accuracy'])\n",
        "early_stopping=EarlyStopping(monitor='val_loss')  \n",
        "history = model.fit(X_train, y_train, batch_size=512, epochs=10, verbose=1, validation_split=0.1, callbacks=[early_stopping])\n",
        "print_res()"
      ],
      "execution_count": 60,
      "outputs": [
        {
          "output_type": "stream",
          "text": [
            "Epoch 1/10\n",
            "319/319 [==============================] - 101s 304ms/step - loss: 0.6066 - accuracy: 0.6518 - val_loss: 0.4847 - val_accuracy: 0.7579\n",
            "45/45 [==============================] - 2s 54ms/step - loss: 0.5118 - accuracy: 0.7442\n",
            "\n",
            "\n",
            "Test score: 0.5118025541305542\n",
            "Test accuracy: 0.7441696524620056\n"
          ],
          "name": "stdout"
        }
      ]
    },
    {
      "cell_type": "code",
      "metadata": {
        "id": "ekxtG18w872C"
      },
      "source": [
        "mod.append('CNN - LSTM')\n",
        "acc.append(0.7441)"
      ],
      "execution_count": 81,
      "outputs": []
    },
    {
      "cell_type": "markdown",
      "metadata": {
        "id": "aCavcFCCwWZS"
      },
      "source": [
        "CNN-GRU"
      ]
    },
    {
      "cell_type": "code",
      "metadata": {
        "colab": {
          "base_uri": "https://localhost:8080/"
        },
        "id": "84nUY4kFwaFx",
        "outputId": "3237cf20-fef5-4f21-aca0-8edb52a1f877"
      },
      "source": [
        "model = Sequential()\n",
        "model.add(Embedding(input_dim=word_count,input_length=training_length,output_dim=30,trainable=True, mask_zero=True))\n",
        "model.add(Masking(mask_value=0.0))\n",
        "model.add(Conv1D(128, 3))\n",
        "model.add(Activation(\"relu\"))\n",
        "model.add(GRU(64, recurrent_dropout=0.2))\n",
        "model.add(Dense(64, activation='relu'))\n",
        "model.add(Dropout(0.5))\n",
        "model.add(Dense(1, activation='sigmoid'))\n",
        "model.compile(optimizer='adam', loss='binary_crossentropy', metrics=['accuracy'])\n",
        "early_stopping=EarlyStopping(monitor='val_loss')  \n",
        "history = model.fit(X_train, y_train,batch_size=512,epochs=10,verbose=1,validation_split=0.1,callbacks=[early_stopping])\n",
        "print_res()"
      ],
      "execution_count": 61,
      "outputs": [
        {
          "output_type": "stream",
          "text": [
            "Epoch 1/10\n",
            "319/319 [==============================] - 91s 274ms/step - loss: 0.6029 - accuracy: 0.6559 - val_loss: 0.4925 - val_accuracy: 0.7537\n",
            "45/45 [==============================] - 2s 44ms/step - loss: 0.5072 - accuracy: 0.7468\n",
            "\n",
            "\n",
            "Test score: 0.5072427988052368\n",
            "Test accuracy: 0.7468147873878479\n"
          ],
          "name": "stdout"
        }
      ]
    },
    {
      "cell_type": "code",
      "metadata": {
        "id": "oW3P7DC99Bf5"
      },
      "source": [
        "mod.append('CNN-GRU')\n",
        "acc.append(0.7468)"
      ],
      "execution_count": 82,
      "outputs": []
    },
    {
      "cell_type": "markdown",
      "metadata": {
        "id": "o2OHRCnXw8Nv"
      },
      "source": [
        "#4 совместные архитектуры RNN ->  CNN"
      ]
    },
    {
      "cell_type": "markdown",
      "metadata": {
        "id": "AxZrY1sIxCCf"
      },
      "source": [
        "SimpleRNN-CNN"
      ]
    },
    {
      "cell_type": "code",
      "metadata": {
        "colab": {
          "base_uri": "https://localhost:8080/"
        },
        "id": "CGnJHkDfxKwg",
        "outputId": "b9fcd97c-67ec-4fc2-a967-e6cebdde2fcb"
      },
      "source": [
        "model = Sequential()\n",
        "model.add(Embedding(input_dim=word_count, input_length=training_length, output_dim=30, trainable=True, mask_zero=True))\n",
        "model.add(Masking(mask_value=0.0))\n",
        "model.add(SimpleRNN(64, return_sequences=True))\n",
        "model.add(Conv1D(64, 3))\n",
        "model.add(Activation(\"relu\"))\n",
        "model.add(Dense(64, activation='relu'))\n",
        "model.add(Dropout(0.5))\n",
        "model.add(Dense(1, activation='sigmoid'))\n",
        "\n",
        "model.compile(optimizer='adam', loss='binary_crossentropy', metrics=['accuracy'])\n",
        "early_stopping=EarlyStopping(monitor='val_loss')  \n",
        "history = model.fit(X_train, y_train, batch_size=512, epochs=10, verbose=1, validation_split=0.1, callbacks=[early_stopping])\n",
        "print_res()"
      ],
      "execution_count": 68,
      "outputs": [
        {
          "output_type": "stream",
          "text": [
            "Epoch 1/10\n",
            "319/319 [==============================] - 60s 182ms/step - loss: 0.6816 - accuracy: 0.5305 - val_loss: 0.6580 - val_accuracy: 0.5628\n",
            "45/45 [==============================] - 1s 32ms/step - loss: 0.6648 - accuracy: 0.5514\n",
            "\n",
            "\n",
            "Test score: 0.6648169755935669\n",
            "Test accuracy: 0.5514278411865234\n"
          ],
          "name": "stdout"
        }
      ]
    },
    {
      "cell_type": "code",
      "metadata": {
        "id": "TJ1W62k89OoZ"
      },
      "source": [
        "mod.append('SimpleRNN-CNN')\n",
        "acc.append(0.5514)"
      ],
      "execution_count": 83,
      "outputs": []
    },
    {
      "cell_type": "markdown",
      "metadata": {
        "id": "7LKN9MmAzu7d"
      },
      "source": [
        "LSTM - CNN "
      ]
    },
    {
      "cell_type": "code",
      "metadata": {
        "colab": {
          "base_uri": "https://localhost:8080/"
        },
        "id": "Sn1TisbMz0aZ",
        "outputId": "d3f5f9c0-758b-4cd5-dbe4-308163369e59"
      },
      "source": [
        "model = Sequential()\n",
        "model.add(Embedding(input_dim=word_count, input_length=training_length, output_dim=30))\n",
        "model.add(LSTM(64, recurrent_dropout=0.2, return_sequences=True))\n",
        "model.add(Conv1D(128, 3))\n",
        "model.add(Activation(\"relu\"))\n",
        "model.add(Dense(64, activation='relu'))\n",
        "model.add(Dropout(0.5))\n",
        "model.add(Dense(1, activation='sigmoid'))\n",
        "model.compile(optimizer='adam', loss='binary_crossentropy', metrics=['accuracy'])\n",
        "early_stopping=EarlyStopping(monitor='val_loss')  \n",
        "history = model.fit(X_train, y_train, batch_size=512, epochs=10, verbose=1, validation_split=0.1, callbacks=[early_stopping])\n",
        "print_res()"
      ],
      "execution_count": 70,
      "outputs": [
        {
          "output_type": "stream",
          "text": [
            "Epoch 1/10\n",
            "319/319 [==============================] - 98s 294ms/step - loss: 0.6830 - accuracy: 0.5258 - val_loss: 0.6612 - val_accuracy: 0.5590\n",
            "45/45 [==============================] - 2s 47ms/step - loss: 0.6655 - accuracy: 0.5513\n",
            "\n",
            "\n",
            "Test score: 0.6654847264289856\n",
            "Test accuracy: 0.5512726902961731\n"
          ],
          "name": "stdout"
        }
      ]
    },
    {
      "cell_type": "code",
      "metadata": {
        "id": "RC_AYp2g9UvG"
      },
      "source": [
        "mod.append('LSTM - CNN ')\n",
        "acc.append(0.5512)"
      ],
      "execution_count": 84,
      "outputs": []
    },
    {
      "cell_type": "markdown",
      "metadata": {
        "id": "Ha9YmOU-21Jr"
      },
      "source": [
        "GRU-CNN"
      ]
    },
    {
      "cell_type": "code",
      "metadata": {
        "colab": {
          "base_uri": "https://localhost:8080/"
        },
        "id": "mGqNCP-c3aqa",
        "outputId": "69722397-2a6d-47e1-b50f-3f9356d9491f"
      },
      "source": [
        "model = Sequential()\n",
        "model.add(Embedding(input_dim=word_count,input_length=training_length,output_dim=30,trainable=True, mask_zero=True))\n",
        "model.add(Masking(mask_value=0.0))\n",
        "\n",
        "model.add(GRU(64, recurrent_dropout=0.2, return_sequences=True))\n",
        "model.add(Conv1D(128, 3))\n",
        "model.add(Activation(\"relu\"))\n",
        "model.add(Dense(64, activation='relu'))\n",
        "model.add(Dropout(0.5))\n",
        "model.add(Dense(1, activation='sigmoid'))\n",
        "model.compile(optimizer='adam', loss='binary_crossentropy', metrics=['accuracy'])\n",
        "early_stopping=EarlyStopping(monitor='val_loss')  \n",
        "history = model.fit(X_train, y_train,batch_size=512,epochs=10,verbose=1,validation_split=0.1,callbacks=[early_stopping])\n",
        "print_res()"
      ],
      "execution_count": 71,
      "outputs": [
        {
          "output_type": "stream",
          "text": [
            "Epoch 1/10\n",
            "319/319 [==============================] - 98s 291ms/step - loss: 0.6813 - accuracy: 0.5270 - val_loss: 0.6606 - val_accuracy: 0.5487\n",
            "45/45 [==============================] - 2s 51ms/step - loss: 0.6643 - accuracy: 0.5463\n",
            "\n",
            "\n",
            "Test score: 0.6643022894859314\n",
            "Test accuracy: 0.5462594032287598\n"
          ],
          "name": "stdout"
        }
      ]
    },
    {
      "cell_type": "code",
      "metadata": {
        "id": "uT9R7uOC9b5L"
      },
      "source": [
        "mod.append('GRU-CNN')\n",
        "acc.append(0.5462)"
      ],
      "execution_count": 85,
      "outputs": []
    },
    {
      "cell_type": "markdown",
      "metadata": {
        "id": "0jmhxddT9iDP"
      },
      "source": [
        "#5 Результаты"
      ]
    },
    {
      "cell_type": "code",
      "metadata": {
        "colab": {
          "base_uri": "https://localhost:8080/"
        },
        "id": "7GINoBRI9lSW",
        "outputId": "e6322380-ac19-425a-adbc-c5a4f6dfac2f"
      },
      "source": [
        "for i in range(len(mod)):\n",
        "  print(f'модель {mod[i]} accuracy {acc[i]}')"
      ],
      "execution_count": 86,
      "outputs": [
        {
          "output_type": "stream",
          "text": [
            "модель CNN1 accuracy 0.7387\n",
            "модель CNN2 accuracy 0.74\n",
            "модель SimpleRNN accuracy 0.7453\n",
            "модель LSTM accuracy 0.7439\n",
            "модель GRU accuracy 0.743\n",
            "модель CNN-SimpleRNN accuracy 0.7442\n",
            "модель CNN - LSTM accuracy 0.7441\n",
            "модель CNN-GRU accuracy 0.7468\n",
            "модель SimpleRNN-CNN accuracy 0.5514\n",
            "модель LSTM - CNN  accuracy 0.5512\n",
            "модель GRU-CNN accuracy 0.5462\n"
          ],
          "name": "stdout"
        }
      ]
    },
    {
      "cell_type": "markdown",
      "metadata": {
        "id": "D8Zf9vh896os"
      },
      "source": [
        "Лучший результат получился у сети модель CNN-GRU accuracy 0.7468\n",
        "\n",
        "в случае, где сначала идет рекуррентный слой, а затем сверточный - результаты очень плохие\n",
        "\n",
        "все сети содержат одинаковые слои"
      ]
    }
  ]
}