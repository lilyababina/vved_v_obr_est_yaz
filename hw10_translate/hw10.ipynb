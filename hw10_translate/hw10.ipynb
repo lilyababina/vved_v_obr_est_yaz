{
  "nbformat": 4,
  "nbformat_minor": 0,
  "metadata": {
    "accelerator": "GPU",
    "colab": {
      "name": "hw10.ipynb",
      "provenance": [],
      "collapsed_sections": []
    },
    "kernelspec": {
      "display_name": "Python 3",
      "name": "python3"
    }
  },
  "cells": [
    {
      "cell_type": "markdown",
      "metadata": {
        "id": "J0Qjg6vuaHNt"
      },
      "source": [
        "# Neural machine translation"
      ]
    },
    {
      "cell_type": "code",
      "metadata": {
        "id": "tnxXKDjq3jEL"
      },
      "source": [
        "import tensorflow as tf\n",
        "\n",
        "import matplotlib.pyplot as plt\n",
        "import matplotlib.ticker as ticker\n",
        "from sklearn.model_selection import train_test_split\n",
        "\n",
        "import unicodedata\n",
        "import re\n",
        "import numpy as np\n",
        "import os\n",
        "import io\n",
        "import time"
      ],
      "execution_count": 1,
      "outputs": []
    },
    {
      "cell_type": "markdown",
      "metadata": {
        "id": "wfodePkj3jEa"
      },
      "source": [
        "## Download and prepare the dataset\n",
        "\n",
        "We'll use a language dataset provided by http://www.manythings.org/anki/"
      ]
    },
    {
      "cell_type": "code",
      "metadata": {
        "id": "CNvjhDyAKk3U",
        "colab": {
          "base_uri": "https://localhost:8080/"
        },
        "outputId": "f6b44c50-5081-4653-f82e-2f812e9f3cf1"
      },
      "source": [
        "!wget http://www.manythings.org/anki/rus-eng.zip"
      ],
      "execution_count": 2,
      "outputs": [
        {
          "output_type": "stream",
          "text": [
            "--2021-08-09 07:35:51--  http://www.manythings.org/anki/rus-eng.zip\n",
            "Resolving www.manythings.org (www.manythings.org)... 104.21.92.44, 172.67.186.54, 2606:4700:3030::6815:5c2c, ...\n",
            "Connecting to www.manythings.org (www.manythings.org)|104.21.92.44|:80... connected.\n",
            "HTTP request sent, awaiting response... 200 OK\n",
            "Length: 14385451 (14M) [application/zip]\n",
            "Saving to: ‘rus-eng.zip’\n",
            "\n",
            "rus-eng.zip         100%[===================>]  13.72M  6.98MB/s    in 2.0s    \n",
            "\n",
            "2021-08-09 07:35:54 (6.98 MB/s) - ‘rus-eng.zip’ saved [14385451/14385451]\n",
            "\n"
          ],
          "name": "stdout"
        }
      ]
    },
    {
      "cell_type": "code",
      "metadata": {
        "id": "83bg17Lr-7XK",
        "colab": {
          "base_uri": "https://localhost:8080/"
        },
        "outputId": "1dcac0de-7919-41fe-fdf2-21f15fff5729"
      },
      "source": [
        "!mkdir rus-eng\n",
        "!unzip rus-eng.zip -d rus-eng/"
      ],
      "execution_count": 3,
      "outputs": [
        {
          "output_type": "stream",
          "text": [
            "Archive:  rus-eng.zip\n",
            "  inflating: rus-eng/rus.txt         \n",
            "  inflating: rus-eng/_about.txt      \n"
          ],
          "name": "stdout"
        }
      ]
    },
    {
      "cell_type": "code",
      "metadata": {
        "id": "7o5L92efMMhf",
        "colab": {
          "base_uri": "https://localhost:8080/"
        },
        "outputId": "1660c9b4-969a-4378-9954-febc4be10731"
      },
      "source": [
        "!ls /content/rus-eng/ -lah"
      ],
      "execution_count": 4,
      "outputs": [
        {
          "output_type": "stream",
          "text": [
            "total 69M\n",
            "drwxr-xr-x 2 root root 4.0K Aug  9 07:36 .\n",
            "drwxr-xr-x 1 root root 4.0K Aug  9 07:36 ..\n",
            "-rw-r--r-- 1 root root 1.5K Jul 14 10:16 _about.txt\n",
            "-rw-r--r-- 1 root root  69M Jul 14 10:16 rus.txt\n"
          ],
          "name": "stdout"
        }
      ]
    },
    {
      "cell_type": "code",
      "metadata": {
        "id": "kRVATYOgJs1b"
      },
      "source": [
        "# Download the file\n",
        "path_to_file = \"/content/rus-eng/rus.txt\""
      ],
      "execution_count": 5,
      "outputs": []
    },
    {
      "cell_type": "code",
      "metadata": {
        "id": "rd0jw-eC3jEh"
      },
      "source": [
        "def preprocess_sentence(w):\n",
        "  w = w.lower().strip()\n",
        "\n",
        "  # creating a space between a word and the punctuation following it\n",
        "  # eg: \"he is a boy.\" => \"he is a boy .\"\n",
        "  # Reference:- https://stackoverflow.com/questions/3645931/python-padding-punctuation-with-white-spaces-keeping-punctuation\n",
        "  w = re.sub(r\"([?.!,])\", r\" \\1 \", w)\n",
        "  w = re.sub(r'[\" \"]+', \" \", w)\n",
        "\n",
        "  # replacing everything with space except (a-z, A-Z, \".\", \"?\", \"!\", \",\")\n",
        "  w = re.sub(r\"[^a-zA-Zа-яА-Я?.!,']+\", \" \", w)\n",
        "\n",
        "  w = w.strip()\n",
        "\n",
        "  # adding a start and an end token to the sentence\n",
        "  # so that the model know when to start and stop predicting.\n",
        "  w = '<start> ' + w + ' <end>'\n",
        "  return w"
      ],
      "execution_count": 6,
      "outputs": []
    },
    {
      "cell_type": "code",
      "metadata": {
        "id": "yV9lZXQXNbnH",
        "colab": {
          "base_uri": "https://localhost:8080/",
          "height": 37
        },
        "outputId": "7a66b5d4-2aad-4e44-d082-d22cd6e207b9"
      },
      "source": [
        "preprocess_sentence(\"I can't go.\")"
      ],
      "execution_count": 7,
      "outputs": [
        {
          "output_type": "execute_result",
          "data": {
            "application/vnd.google.colaboratory.intrinsic+json": {
              "type": "string"
            },
            "text/plain": [
              "\"<start> i can't go . <end>\""
            ]
          },
          "metadata": {
            "tags": []
          },
          "execution_count": 7
        }
      ]
    },
    {
      "cell_type": "code",
      "metadata": {
        "id": "OHn4Dct23jEm"
      },
      "source": [
        "# 1. Remove the accents\n",
        "# 2. Clean the sentences\n",
        "# 3. Return word pairs in the format: [ENG, RUS]\n",
        "def create_dataset(path, num_examples):\n",
        "  lines = io.open(path, encoding='UTF-8').read().strip().split('\\n')\n",
        "\n",
        "  word_pairs = [[preprocess_sentence(w) for w in l.split('\\t')[:2]]  for l in lines[:num_examples]]\n",
        "\n",
        "  return zip(*word_pairs)"
      ],
      "execution_count": 8,
      "outputs": []
    },
    {
      "cell_type": "code",
      "metadata": {
        "id": "cTbSbBz55QtF",
        "colab": {
          "base_uri": "https://localhost:8080/"
        },
        "outputId": "880a497f-6cfa-4ea7-8b11-35334f826cd6"
      },
      "source": [
        "en, ru = create_dataset(path_to_file, None)\n",
        "print(en[0])\n",
        "print(ru[0])"
      ],
      "execution_count": 9,
      "outputs": [
        {
          "output_type": "stream",
          "text": [
            "<start> go . <end>\n",
            "<start> марш ! <end>\n"
          ],
          "name": "stdout"
        }
      ]
    },
    {
      "cell_type": "code",
      "metadata": {
        "id": "bIOn8RCNDJXG"
      },
      "source": [
        "def tokenize(lang):\n",
        "  lang_tokenizer = tf.keras.preprocessing.text.Tokenizer(\n",
        "      filters='')\n",
        "  lang_tokenizer.fit_on_texts(lang)\n",
        "\n",
        "  tensor = lang_tokenizer.texts_to_sequences(lang)\n",
        "\n",
        "  tensor = tf.keras.preprocessing.sequence.pad_sequences(tensor,\n",
        "                                                         padding='post')\n",
        "\n",
        "  return tensor, lang_tokenizer"
      ],
      "execution_count": 10,
      "outputs": []
    },
    {
      "cell_type": "code",
      "metadata": {
        "id": "eAY9k49G3jE_"
      },
      "source": [
        "def load_dataset(path, num_examples=None):\n",
        "  # creating cleaned input, output pairs\n",
        "  targ_lang, inp_lang = create_dataset(path, num_examples)\n",
        "\n",
        "  input_tensor, inp_lang_tokenizer = tokenize(inp_lang)\n",
        "  target_tensor, targ_lang_tokenizer = tokenize(targ_lang)\n",
        "\n",
        "  return input_tensor, target_tensor, inp_lang_tokenizer, targ_lang_tokenizer"
      ],
      "execution_count": 11,
      "outputs": []
    },
    {
      "cell_type": "markdown",
      "metadata": {
        "id": "GOi42V79Ydlr"
      },
      "source": [
        "### Limit the size of the dataset to experiment faster (optional)\n"
      ]
    },
    {
      "cell_type": "code",
      "metadata": {
        "id": "C8j9g9AnIeZV",
        "colab": {
          "base_uri": "https://localhost:8080/"
        },
        "outputId": "2dddd65f-f18a-4d2e-c138-8125266b168a"
      },
      "source": [
        "len(en), len(ru)"
      ],
      "execution_count": 12,
      "outputs": [
        {
          "output_type": "execute_result",
          "data": {
            "text/plain": [
              "(431097, 431097)"
            ]
          },
          "metadata": {
            "tags": []
          },
          "execution_count": 12
        }
      ]
    },
    {
      "cell_type": "code",
      "metadata": {
        "id": "cnxC7q-j3jFD"
      },
      "source": [
        "# Try experimenting with the size of that dataset\n",
        "num_examples = 100000\n",
        "input_tensor, target_tensor, inp_lang, targ_lang = load_dataset(path_to_file, num_examples)\n",
        "\n",
        "# Calculate max_length of the target tensors\n",
        "max_length_targ, max_length_inp = target_tensor.shape[1], input_tensor.shape[1]"
      ],
      "execution_count": 13,
      "outputs": []
    },
    {
      "cell_type": "code",
      "metadata": {
        "id": "4QILQkOs3jFG",
        "colab": {
          "base_uri": "https://localhost:8080/"
        },
        "outputId": "4a905681-f560-430e-edda-942dad5cfe57"
      },
      "source": [
        "# Creating training and validation sets using an 80-20 split\n",
        "input_tensor_train, input_tensor_val, target_tensor_train, target_tensor_val = train_test_split(input_tensor, target_tensor, test_size=0.2)\n",
        "\n",
        "# Show length\n",
        "print(len(input_tensor_train), len(target_tensor_train), len(input_tensor_val), len(target_tensor_val))"
      ],
      "execution_count": 14,
      "outputs": [
        {
          "output_type": "stream",
          "text": [
            "80000 80000 20000 20000\n"
          ],
          "name": "stdout"
        }
      ]
    },
    {
      "cell_type": "code",
      "metadata": {
        "id": "lJPmLZGMeD5q"
      },
      "source": [
        "def convert(lang, tensor):\n",
        "  for t in tensor:\n",
        "    if t!=0:\n",
        "      print (\"%d ----> %s\" % (t, lang.index_word[t]))"
      ],
      "execution_count": 15,
      "outputs": []
    },
    {
      "cell_type": "code",
      "metadata": {
        "id": "VXukARTDd7MT",
        "colab": {
          "base_uri": "https://localhost:8080/"
        },
        "outputId": "53977e7d-ba02-4965-e5cd-053505742224"
      },
      "source": [
        "print (\"Input Language; index to word mapping\")\n",
        "convert(inp_lang, input_tensor_train[0])\n",
        "print ()\n",
        "print (\"Target Language; index to word mapping\")\n",
        "convert(targ_lang, target_tensor_train[0])"
      ],
      "execution_count": 16,
      "outputs": [
        {
          "output_type": "stream",
          "text": [
            "Input Language; index to word mapping\n",
            "1 ----> <start>\n",
            "19 ----> он\n",
            "359 ----> начал\n",
            "950 ----> новую\n",
            "245 ----> жизнь\n",
            "3 ----> .\n",
            "2 ----> <end>\n",
            "\n",
            "Target Language; index to word mapping\n",
            "1 ----> <start>\n",
            "27 ----> he\n",
            "275 ----> started\n",
            "9 ----> a\n",
            "178 ----> new\n",
            "308 ----> life\n",
            "3 ----> .\n",
            "2 ----> <end>\n"
          ],
          "name": "stdout"
        }
      ]
    },
    {
      "cell_type": "markdown",
      "metadata": {
        "id": "rgCLkfv5uO3d"
      },
      "source": [
        "### Create a tf.data dataset"
      ]
    },
    {
      "cell_type": "code",
      "metadata": {
        "id": "TqHsArVZ3jFS"
      },
      "source": [
        "BUFFER_SIZE = len(input_tensor_train)\n",
        "BATCH_SIZE = 64\n",
        "steps_per_epoch = len(input_tensor_train)//BATCH_SIZE\n",
        "embedding_dim = 300\n",
        "units = 1024\n",
        "vocab_inp_size = len(inp_lang.word_index)+1\n",
        "vocab_tar_size = len(targ_lang.word_index)+1\n",
        "\n",
        "dataset = tf.data.Dataset.from_tensor_slices((input_tensor_train, target_tensor_train)).shuffle(BUFFER_SIZE)\n",
        "dataset = dataset.batch(BATCH_SIZE, drop_remainder=True)"
      ],
      "execution_count": 17,
      "outputs": []
    },
    {
      "cell_type": "code",
      "metadata": {
        "id": "qc6-NK1GtWQt",
        "colab": {
          "base_uri": "https://localhost:8080/"
        },
        "outputId": "783f9860-69b1-4477-c12e-e938347c99b6"
      },
      "source": [
        "example_input_batch, example_target_batch = next(iter(dataset))\n",
        "example_input_batch.shape, example_target_batch.shape"
      ],
      "execution_count": 18,
      "outputs": [
        {
          "output_type": "execute_result",
          "data": {
            "text/plain": [
              "(TensorShape([64, 15]), TensorShape([64, 11]))"
            ]
          },
          "metadata": {
            "tags": []
          },
          "execution_count": 18
        }
      ]
    },
    {
      "cell_type": "code",
      "metadata": {
        "id": "nZ2rI24i3jFg"
      },
      "source": [
        "class Encoder(tf.keras.Model):\n",
        "  def __init__(self, vocab_size, embedding_dim, enc_units, batch_sz):\n",
        "    super(Encoder, self).__init__()\n",
        "    self.batch_sz = batch_sz\n",
        "    self.enc_units = enc_units\n",
        "    self.embedding = tf.keras.layers.Embedding(vocab_size, embedding_dim)\n",
        "    self.gru = tf.keras.layers.GRU(self.enc_units,\n",
        "                                   return_sequences=False,\n",
        "                                   return_state=True,\n",
        "                                   recurrent_initializer='glorot_uniform')\n",
        "    \n",
        "\n",
        "  def call(self, x, hidden):\n",
        "    x = self.embedding(x)\n",
        "    output, state = self.gru(x, initial_state = hidden)\n",
        "    return state\n",
        "\n",
        "  def initialize_hidden_state(self):\n",
        "    return tf.zeros((self.batch_sz, self.enc_units))"
      ],
      "execution_count": 19,
      "outputs": []
    },
    {
      "cell_type": "code",
      "metadata": {
        "id": "60gSVh05Jl6l",
        "colab": {
          "base_uri": "https://localhost:8080/"
        },
        "outputId": "a856db42-5bff-4132-aaea-2b47c52d568a"
      },
      "source": [
        "encoder = Encoder(vocab_inp_size, embedding_dim, units, BATCH_SIZE)\n",
        "\n",
        "# sample input\n",
        "sample_hidden = encoder.initialize_hidden_state()\n",
        "sample_hidden = encoder(example_input_batch, sample_hidden)\n",
        "# print ('Encoder output shape: (batch size, sequence length, units) {}'.format(sample_output.shape))\n",
        "print ('Encoder Hidden state shape: (batch size, units) {}'.format(sample_hidden.shape))"
      ],
      "execution_count": 20,
      "outputs": [
        {
          "output_type": "stream",
          "text": [
            "Encoder Hidden state shape: (batch size, units) (64, 1024)\n"
          ],
          "name": "stdout"
        }
      ]
    },
    {
      "cell_type": "code",
      "metadata": {
        "id": "yJ_B3mhW3jFk"
      },
      "source": [
        "class Decoder(tf.keras.Model):\n",
        "  def __init__(self, vocab_size, embedding_dim, dec_units, batch_sz):\n",
        "    super(Decoder, self).__init__()\n",
        "    self.batch_sz = batch_sz\n",
        "    self.dec_units = dec_units\n",
        "    self.embedding = tf.keras.layers.Embedding(vocab_size, embedding_dim)\n",
        "    self.gru = tf.keras.layers.GRU(self.dec_units,\n",
        "                                   return_sequences=True,\n",
        "                                   return_state=True,\n",
        "                                   recurrent_initializer='glorot_uniform')\n",
        "    self.fc = tf.keras.layers.Dense(vocab_size)\n",
        "\n",
        "  def call(self, x, hidden):\n",
        "    # enc_output shape == (batch_size, max_length, hidden_size)\n",
        "\n",
        "    # x shape after passing through embedding == (batch_size, 1, embedding_dim)\n",
        "    x = self.embedding(x)\n",
        "\n",
        "    # x shape after concatenation == (batch_size, 1, embedding_dim + hidden_size)\n",
        "\n",
        "    # passing the concatenated vector to the GRU\n",
        "    output, state = self.gru(x, initial_state=hidden)\n",
        "\n",
        "    # output shape == (batch_size * 1, hidden_size)\n",
        "    output = tf.reshape(output, (-1, output.shape[2]))\n",
        "\n",
        "    # output shape == (batch_size, vocab)\n",
        "    x = self.fc(output)\n",
        "\n",
        "    return x, state"
      ],
      "execution_count": 21,
      "outputs": []
    },
    {
      "cell_type": "code",
      "metadata": {
        "id": "P5UY8wko3jFp"
      },
      "source": [
        "decoder = Decoder(vocab_tar_size, embedding_dim, units, BATCH_SIZE)\n",
        "\n",
        "decoder_sample_x, decoder_sample_h = decoder(tf.random.uniform((BATCH_SIZE, 1)),\n",
        "                                      sample_hidden)\n",
        "\n"
      ],
      "execution_count": 22,
      "outputs": []
    },
    {
      "cell_type": "code",
      "metadata": {
        "colab": {
          "base_uri": "https://localhost:8080/"
        },
        "id": "XKcypC0AGeLR",
        "outputId": "40086f1b-306c-4358-b236-564a4425f2f3"
      },
      "source": [
        "decoder_sample_x.shape"
      ],
      "execution_count": 23,
      "outputs": [
        {
          "output_type": "execute_result",
          "data": {
            "text/plain": [
              "TensorShape([64, 7260])"
            ]
          },
          "metadata": {
            "tags": []
          },
          "execution_count": 23
        }
      ]
    },
    {
      "cell_type": "code",
      "metadata": {
        "id": "6y0HF-zMF_vp",
        "colab": {
          "base_uri": "https://localhost:8080/"
        },
        "outputId": "62e291b8-9727-4d49-e666-4fd319add699"
      },
      "source": [
        "decoder_sample_h.shape"
      ],
      "execution_count": 24,
      "outputs": [
        {
          "output_type": "execute_result",
          "data": {
            "text/plain": [
              "TensorShape([64, 1024])"
            ]
          },
          "metadata": {
            "tags": []
          },
          "execution_count": 24
        }
      ]
    },
    {
      "cell_type": "markdown",
      "metadata": {
        "id": "_ch_71VbIRfK"
      },
      "source": [
        "## Define the optimizer and the loss function"
      ]
    },
    {
      "cell_type": "code",
      "metadata": {
        "id": "WmTHr5iV3jFr"
      },
      "source": [
        "optimizer = tf.keras.optimizers.Adam()\n",
        "\n",
        "loss_object = tf.keras.losses.SparseCategoricalCrossentropy(\n",
        "    from_logits=True, reduction='none')\n",
        "\n",
        "def loss_function(real, pred):\n",
        "  mask = tf.math.logical_not(tf.math.equal(real, 0))\n",
        "  loss_ = loss_object(real, pred)\n",
        "\n",
        "  mask = tf.cast(mask, dtype=loss_.dtype)\n",
        "  loss_ *= mask\n",
        "\n",
        "  return tf.reduce_mean(loss_)"
      ],
      "execution_count": 25,
      "outputs": []
    },
    {
      "cell_type": "markdown",
      "metadata": {
        "id": "DMVWzzsfNl4e"
      },
      "source": [
        "## Checkpoints (Object-based saving)"
      ]
    },
    {
      "cell_type": "code",
      "metadata": {
        "id": "Zj8bXQTgNwrF"
      },
      "source": [
        "checkpoint_dir = './training_nmt_checkpoints'\n",
        "\n",
        "checkpoint_prefix = os.path.join(checkpoint_dir, \"ckpt\")\n",
        "\n",
        "checkpoint = tf.train.Checkpoint(optimizer=optimizer,\n",
        "                                 encoder=encoder,\n",
        "                                 decoder=decoder)"
      ],
      "execution_count": 26,
      "outputs": []
    },
    {
      "cell_type": "code",
      "metadata": {
        "id": "sC9ArXSsVfqn"
      },
      "source": [
        "@tf.function\n",
        "def train_step(inp, targ, enc_hidden):\n",
        "  loss = 0\n",
        "\n",
        "  with tf.GradientTape() as tape:\n",
        "    enc_hidden = encoder(inp, enc_hidden)\n",
        "\n",
        "    dec_hidden = enc_hidden\n",
        "\n",
        "    dec_input = tf.expand_dims([targ_lang.word_index['<start>']] * BATCH_SIZE, 1)\n",
        "\n",
        "    # Teacher forcing - feeding the target as the next input\n",
        "    for t in range(1, targ.shape[1]):\n",
        "      # passing enc_output to the decoder\n",
        "      predictions, dec_hidden = decoder(dec_input, dec_hidden)\n",
        "\n",
        "      loss += loss_function(targ[:, t], predictions)\n",
        "\n",
        "      # using teacher forcing\n",
        "      dec_input = tf.expand_dims(targ[:, t], 1)\n",
        "\n",
        "  batch_loss = (loss / int(targ.shape[1]))\n",
        "\n",
        "  variables = encoder.trainable_variables + decoder.trainable_variables\n",
        "\n",
        "  gradients = tape.gradient(loss, variables)\n",
        "\n",
        "  optimizer.apply_gradients(zip(gradients, variables))\n",
        "\n",
        "  return batch_loss"
      ],
      "execution_count": 27,
      "outputs": []
    },
    {
      "cell_type": "code",
      "metadata": {
        "id": "ddefjBMa3jF0",
        "colab": {
          "base_uri": "https://localhost:8080/"
        },
        "outputId": "617d4185-4747-42ef-a976-68f279fea175"
      },
      "source": [
        "EPOCHS = 50\n",
        "\n",
        "for epoch in range(EPOCHS):\n",
        "  start = time.time()\n",
        "\n",
        "  enc_hidden = encoder.initialize_hidden_state()\n",
        "  total_loss = 0\n",
        "\n",
        "  for (batch, (inp, targ)) in enumerate(dataset.take(steps_per_epoch)):\n",
        "    batch_loss = train_step(inp, targ, enc_hidden)\n",
        "    total_loss += batch_loss\n",
        "\n",
        "    if batch % 100 == 0:\n",
        "      print('Epoch {} Batch {} Loss {:.4f}'.format(epoch + 1,\n",
        "                                                   batch,\n",
        "                                                   batch_loss.numpy()))\n",
        "  # saving (checkpoint) the model every 2 epochs\n",
        "  if (epoch + 1) % 2 == 0:\n",
        "    checkpoint.save(file_prefix = checkpoint_prefix)\n",
        "\n",
        "  print('Epoch {} Loss {:.4f}'.format(epoch + 1,\n",
        "                                      total_loss / steps_per_epoch))\n",
        "  print('Time taken for 1 epoch {} sec\\n'.format(time.time() - start))"
      ],
      "execution_count": 28,
      "outputs": [
        {
          "output_type": "stream",
          "text": [
            "Epoch 1 Batch 0 Loss 4.7483\n",
            "Epoch 1 Batch 100 Loss 2.1252\n",
            "Epoch 1 Batch 200 Loss 1.8502\n",
            "Epoch 1 Batch 300 Loss 1.7286\n",
            "Epoch 1 Batch 400 Loss 1.4421\n",
            "Epoch 1 Batch 500 Loss 1.3775\n",
            "Epoch 1 Batch 600 Loss 1.3026\n",
            "Epoch 1 Batch 700 Loss 1.2128\n",
            "Epoch 1 Batch 800 Loss 1.1576\n",
            "Epoch 1 Batch 900 Loss 1.1369\n",
            "Epoch 1 Batch 1000 Loss 1.0230\n",
            "Epoch 1 Batch 1100 Loss 0.9932\n",
            "Epoch 1 Batch 1200 Loss 0.8758\n",
            "Epoch 1 Loss 1.3805\n",
            "Time taken for 1 epoch 228.48944425582886 sec\n",
            "\n",
            "Epoch 2 Batch 0 Loss 0.7673\n",
            "Epoch 2 Batch 100 Loss 0.7407\n",
            "Epoch 2 Batch 200 Loss 0.7836\n",
            "Epoch 2 Batch 300 Loss 0.7726\n",
            "Epoch 2 Batch 400 Loss 0.7438\n",
            "Epoch 2 Batch 500 Loss 0.6632\n",
            "Epoch 2 Batch 600 Loss 0.5530\n",
            "Epoch 2 Batch 700 Loss 0.7399\n",
            "Epoch 2 Batch 800 Loss 0.6309\n",
            "Epoch 2 Batch 900 Loss 0.5507\n",
            "Epoch 2 Batch 1000 Loss 0.4496\n",
            "Epoch 2 Batch 1100 Loss 0.4685\n",
            "Epoch 2 Batch 1200 Loss 0.5077\n",
            "Epoch 2 Loss 0.6513\n",
            "Time taken for 1 epoch 209.6225016117096 sec\n",
            "\n",
            "Epoch 3 Batch 0 Loss 0.3751\n",
            "Epoch 3 Batch 100 Loss 0.3816\n",
            "Epoch 3 Batch 200 Loss 0.3779\n",
            "Epoch 3 Batch 300 Loss 0.3052\n",
            "Epoch 3 Batch 400 Loss 0.3497\n",
            "Epoch 3 Batch 500 Loss 0.3699\n",
            "Epoch 3 Batch 600 Loss 0.2944\n",
            "Epoch 3 Batch 700 Loss 0.3141\n",
            "Epoch 3 Batch 800 Loss 0.2757\n",
            "Epoch 3 Batch 900 Loss 0.3471\n",
            "Epoch 3 Batch 1000 Loss 0.4126\n",
            "Epoch 3 Batch 1100 Loss 0.3166\n",
            "Epoch 3 Batch 1200 Loss 0.3055\n",
            "Epoch 3 Loss 0.3476\n",
            "Time taken for 1 epoch 205.6697118282318 sec\n",
            "\n",
            "Epoch 4 Batch 0 Loss 0.2010\n",
            "Epoch 4 Batch 100 Loss 0.2123\n",
            "Epoch 4 Batch 200 Loss 0.1529\n",
            "Epoch 4 Batch 300 Loss 0.1887\n",
            "Epoch 4 Batch 400 Loss 0.2086\n",
            "Epoch 4 Batch 500 Loss 0.2072\n",
            "Epoch 4 Batch 600 Loss 0.1881\n",
            "Epoch 4 Batch 700 Loss 0.2061\n",
            "Epoch 4 Batch 800 Loss 0.1833\n",
            "Epoch 4 Batch 900 Loss 0.1754\n",
            "Epoch 4 Batch 1000 Loss 0.2204\n",
            "Epoch 4 Batch 1100 Loss 0.1984\n",
            "Epoch 4 Batch 1200 Loss 0.2464\n",
            "Epoch 4 Loss 0.2087\n",
            "Time taken for 1 epoch 207.88165664672852 sec\n",
            "\n",
            "Epoch 5 Batch 0 Loss 0.1345\n",
            "Epoch 5 Batch 100 Loss 0.0969\n",
            "Epoch 5 Batch 200 Loss 0.1537\n",
            "Epoch 5 Batch 300 Loss 0.1394\n",
            "Epoch 5 Batch 400 Loss 0.1422\n",
            "Epoch 5 Batch 500 Loss 0.1212\n",
            "Epoch 5 Batch 600 Loss 0.1453\n",
            "Epoch 5 Batch 700 Loss 0.1238\n",
            "Epoch 5 Batch 800 Loss 0.1573\n",
            "Epoch 5 Batch 900 Loss 0.1521\n",
            "Epoch 5 Batch 1000 Loss 0.1705\n",
            "Epoch 5 Batch 1100 Loss 0.1302\n",
            "Epoch 5 Batch 1200 Loss 0.1651\n",
            "Epoch 5 Loss 0.1437\n",
            "Time taken for 1 epoch 206.3975670337677 sec\n",
            "\n",
            "Epoch 6 Batch 0 Loss 0.0926\n",
            "Epoch 6 Batch 100 Loss 0.0955\n",
            "Epoch 6 Batch 200 Loss 0.1089\n",
            "Epoch 6 Batch 300 Loss 0.0861\n",
            "Epoch 6 Batch 400 Loss 0.1446\n",
            "Epoch 6 Batch 500 Loss 0.1074\n",
            "Epoch 6 Batch 600 Loss 0.1037\n",
            "Epoch 6 Batch 700 Loss 0.1111\n",
            "Epoch 6 Batch 800 Loss 0.1106\n",
            "Epoch 6 Batch 900 Loss 0.1030\n",
            "Epoch 6 Batch 1000 Loss 0.0787\n",
            "Epoch 6 Batch 1100 Loss 0.1827\n",
            "Epoch 6 Batch 1200 Loss 0.1121\n",
            "Epoch 6 Loss 0.1133\n",
            "Time taken for 1 epoch 207.71152472496033 sec\n",
            "\n",
            "Epoch 7 Batch 0 Loss 0.0680\n",
            "Epoch 7 Batch 100 Loss 0.0722\n",
            "Epoch 7 Batch 200 Loss 0.0911\n",
            "Epoch 7 Batch 300 Loss 0.1210\n",
            "Epoch 7 Batch 400 Loss 0.0738\n",
            "Epoch 7 Batch 500 Loss 0.1115\n",
            "Epoch 7 Batch 600 Loss 0.0903\n",
            "Epoch 7 Batch 700 Loss 0.0995\n",
            "Epoch 7 Batch 800 Loss 0.1322\n",
            "Epoch 7 Batch 900 Loss 0.1345\n",
            "Epoch 7 Batch 1000 Loss 0.0863\n",
            "Epoch 7 Batch 1100 Loss 0.1260\n",
            "Epoch 7 Batch 1200 Loss 0.1096\n",
            "Epoch 7 Loss 0.0977\n",
            "Time taken for 1 epoch 207.8373317718506 sec\n",
            "\n",
            "Epoch 8 Batch 0 Loss 0.0604\n",
            "Epoch 8 Batch 100 Loss 0.0682\n",
            "Epoch 8 Batch 200 Loss 0.0521\n",
            "Epoch 8 Batch 300 Loss 0.0718\n",
            "Epoch 8 Batch 400 Loss 0.0694\n",
            "Epoch 8 Batch 500 Loss 0.1056\n",
            "Epoch 8 Batch 600 Loss 0.1036\n",
            "Epoch 8 Batch 700 Loss 0.0878\n",
            "Epoch 8 Batch 800 Loss 0.0697\n",
            "Epoch 8 Batch 900 Loss 0.0688\n",
            "Epoch 8 Batch 1000 Loss 0.1444\n",
            "Epoch 8 Batch 1100 Loss 0.1632\n",
            "Epoch 8 Batch 1200 Loss 0.1132\n",
            "Epoch 8 Loss 0.0895\n",
            "Time taken for 1 epoch 210.57445168495178 sec\n",
            "\n",
            "Epoch 9 Batch 0 Loss 0.0812\n",
            "Epoch 9 Batch 100 Loss 0.0687\n",
            "Epoch 9 Batch 200 Loss 0.0572\n",
            "Epoch 9 Batch 300 Loss 0.0652\n",
            "Epoch 9 Batch 400 Loss 0.0698\n",
            "Epoch 9 Batch 500 Loss 0.0751\n",
            "Epoch 9 Batch 600 Loss 0.0968\n",
            "Epoch 9 Batch 700 Loss 0.0943\n",
            "Epoch 9 Batch 800 Loss 0.0832\n",
            "Epoch 9 Batch 900 Loss 0.1306\n",
            "Epoch 9 Batch 1000 Loss 0.1070\n",
            "Epoch 9 Batch 1100 Loss 0.0928\n",
            "Epoch 9 Batch 1200 Loss 0.1050\n",
            "Epoch 9 Loss 0.0831\n",
            "Time taken for 1 epoch 210.52372479438782 sec\n",
            "\n",
            "Epoch 10 Batch 0 Loss 0.1417\n",
            "Epoch 10 Batch 100 Loss 0.0723\n",
            "Epoch 10 Batch 200 Loss 0.0530\n",
            "Epoch 10 Batch 300 Loss 0.0832\n",
            "Epoch 10 Batch 400 Loss 0.0581\n",
            "Epoch 10 Batch 500 Loss 0.0813\n",
            "Epoch 10 Batch 600 Loss 0.0938\n",
            "Epoch 10 Batch 700 Loss 0.0604\n",
            "Epoch 10 Batch 800 Loss 0.0837\n",
            "Epoch 10 Batch 900 Loss 0.1043\n",
            "Epoch 10 Batch 1000 Loss 0.0706\n",
            "Epoch 10 Batch 1100 Loss 0.0974\n",
            "Epoch 10 Batch 1200 Loss 0.0848\n",
            "Epoch 10 Loss 0.0793\n",
            "Time taken for 1 epoch 215.15654039382935 sec\n",
            "\n",
            "Epoch 11 Batch 0 Loss 0.1055\n",
            "Epoch 11 Batch 100 Loss 0.0699\n",
            "Epoch 11 Batch 200 Loss 0.0807\n",
            "Epoch 11 Batch 300 Loss 0.0964\n",
            "Epoch 11 Batch 400 Loss 0.0522\n",
            "Epoch 11 Batch 500 Loss 0.0417\n",
            "Epoch 11 Batch 600 Loss 0.0628\n",
            "Epoch 11 Batch 700 Loss 0.0534\n",
            "Epoch 11 Batch 800 Loss 0.0647\n",
            "Epoch 11 Batch 900 Loss 0.0715\n",
            "Epoch 11 Batch 1000 Loss 0.0506\n",
            "Epoch 11 Batch 1100 Loss 0.1164\n",
            "Epoch 11 Batch 1200 Loss 0.1342\n",
            "Epoch 11 Loss 0.0767\n",
            "Time taken for 1 epoch 213.00323128700256 sec\n",
            "\n",
            "Epoch 12 Batch 0 Loss 0.0447\n",
            "Epoch 12 Batch 100 Loss 0.0528\n",
            "Epoch 12 Batch 200 Loss 0.0319\n",
            "Epoch 12 Batch 300 Loss 0.0491\n",
            "Epoch 12 Batch 400 Loss 0.0397\n",
            "Epoch 12 Batch 500 Loss 0.1026\n",
            "Epoch 12 Batch 600 Loss 0.0451\n",
            "Epoch 12 Batch 700 Loss 0.0971\n",
            "Epoch 12 Batch 800 Loss 0.0627\n",
            "Epoch 12 Batch 900 Loss 0.0997\n",
            "Epoch 12 Batch 1000 Loss 0.1182\n",
            "Epoch 12 Batch 1100 Loss 0.0545\n",
            "Epoch 12 Batch 1200 Loss 0.1018\n",
            "Epoch 12 Loss 0.0733\n",
            "Time taken for 1 epoch 211.31475043296814 sec\n",
            "\n",
            "Epoch 13 Batch 0 Loss 0.0507\n",
            "Epoch 13 Batch 100 Loss 0.0400\n",
            "Epoch 13 Batch 200 Loss 0.0579\n",
            "Epoch 13 Batch 300 Loss 0.0189\n",
            "Epoch 13 Batch 400 Loss 0.0561\n",
            "Epoch 13 Batch 500 Loss 0.0382\n",
            "Epoch 13 Batch 600 Loss 0.0435\n",
            "Epoch 13 Batch 700 Loss 0.0579\n",
            "Epoch 13 Batch 800 Loss 0.0702\n",
            "Epoch 13 Batch 900 Loss 0.1013\n",
            "Epoch 13 Batch 1000 Loss 0.0878\n",
            "Epoch 13 Batch 1100 Loss 0.0995\n",
            "Epoch 13 Batch 1200 Loss 0.1138\n",
            "Epoch 13 Loss 0.0717\n",
            "Time taken for 1 epoch 211.09187531471252 sec\n",
            "\n",
            "Epoch 14 Batch 0 Loss 0.0588\n",
            "Epoch 14 Batch 100 Loss 0.0508\n",
            "Epoch 14 Batch 200 Loss 0.0477\n",
            "Epoch 14 Batch 300 Loss 0.0808\n",
            "Epoch 14 Batch 400 Loss 0.0398\n",
            "Epoch 14 Batch 500 Loss 0.0818\n",
            "Epoch 14 Batch 600 Loss 0.0967\n",
            "Epoch 14 Batch 700 Loss 0.0608\n",
            "Epoch 14 Batch 800 Loss 0.0559\n",
            "Epoch 14 Batch 900 Loss 0.0580\n",
            "Epoch 14 Batch 1000 Loss 0.0627\n",
            "Epoch 14 Batch 1100 Loss 0.0804\n",
            "Epoch 14 Batch 1200 Loss 0.0534\n",
            "Epoch 14 Loss 0.0697\n",
            "Time taken for 1 epoch 213.6937747001648 sec\n",
            "\n",
            "Epoch 15 Batch 0 Loss 0.0532\n",
            "Epoch 15 Batch 100 Loss 0.0643\n",
            "Epoch 15 Batch 200 Loss 0.0420\n",
            "Epoch 15 Batch 300 Loss 0.0420\n",
            "Epoch 15 Batch 400 Loss 0.0756\n",
            "Epoch 15 Batch 500 Loss 0.0394\n",
            "Epoch 15 Batch 600 Loss 0.0524\n",
            "Epoch 15 Batch 700 Loss 0.0812\n",
            "Epoch 15 Batch 800 Loss 0.0479\n",
            "Epoch 15 Batch 900 Loss 0.0665\n",
            "Epoch 15 Batch 1000 Loss 0.0763\n",
            "Epoch 15 Batch 1100 Loss 0.0868\n",
            "Epoch 15 Batch 1200 Loss 0.0725\n",
            "Epoch 15 Loss 0.0680\n",
            "Time taken for 1 epoch 214.94898295402527 sec\n",
            "\n",
            "Epoch 16 Batch 0 Loss 0.0593\n",
            "Epoch 16 Batch 100 Loss 0.0632\n",
            "Epoch 16 Batch 200 Loss 0.0641\n",
            "Epoch 16 Batch 300 Loss 0.0453\n",
            "Epoch 16 Batch 400 Loss 0.1010\n",
            "Epoch 16 Batch 500 Loss 0.0584\n",
            "Epoch 16 Batch 600 Loss 0.0638\n",
            "Epoch 16 Batch 700 Loss 0.0397\n",
            "Epoch 16 Batch 800 Loss 0.0987\n",
            "Epoch 16 Batch 900 Loss 0.0866\n",
            "Epoch 16 Batch 1000 Loss 0.0861\n",
            "Epoch 16 Batch 1100 Loss 0.0825\n",
            "Epoch 16 Batch 1200 Loss 0.1043\n",
            "Epoch 16 Loss 0.0676\n",
            "Time taken for 1 epoch 216.794291973114 sec\n",
            "\n",
            "Epoch 17 Batch 0 Loss 0.0566\n",
            "Epoch 17 Batch 100 Loss 0.0499\n",
            "Epoch 17 Batch 200 Loss 0.0313\n",
            "Epoch 17 Batch 300 Loss 0.0510\n",
            "Epoch 17 Batch 400 Loss 0.0784\n",
            "Epoch 17 Batch 500 Loss 0.0536\n",
            "Epoch 17 Batch 600 Loss 0.0645\n",
            "Epoch 17 Batch 700 Loss 0.0860\n",
            "Epoch 17 Batch 800 Loss 0.0827\n",
            "Epoch 17 Batch 900 Loss 0.0885\n",
            "Epoch 17 Batch 1000 Loss 0.0779\n",
            "Epoch 17 Batch 1100 Loss 0.0737\n",
            "Epoch 17 Batch 1200 Loss 0.0900\n",
            "Epoch 17 Loss 0.0654\n",
            "Time taken for 1 epoch 210.08205842971802 sec\n",
            "\n",
            "Epoch 18 Batch 0 Loss 0.0355\n",
            "Epoch 18 Batch 100 Loss 0.0429\n",
            "Epoch 18 Batch 200 Loss 0.0775\n",
            "Epoch 18 Batch 300 Loss 0.1026\n",
            "Epoch 18 Batch 400 Loss 0.0489\n",
            "Epoch 18 Batch 500 Loss 0.0430\n",
            "Epoch 18 Batch 600 Loss 0.0437\n",
            "Epoch 18 Batch 700 Loss 0.0652\n",
            "Epoch 18 Batch 800 Loss 0.0995\n",
            "Epoch 18 Batch 900 Loss 0.0621\n",
            "Epoch 18 Batch 1000 Loss 0.0439\n",
            "Epoch 18 Batch 1100 Loss 0.0592\n",
            "Epoch 18 Batch 1200 Loss 0.1044\n",
            "Epoch 18 Loss 0.0638\n",
            "Time taken for 1 epoch 208.8065960407257 sec\n",
            "\n",
            "Epoch 19 Batch 0 Loss 0.0263\n",
            "Epoch 19 Batch 100 Loss 0.0526\n",
            "Epoch 19 Batch 200 Loss 0.0539\n",
            "Epoch 19 Batch 300 Loss 0.0688\n",
            "Epoch 19 Batch 400 Loss 0.0649\n",
            "Epoch 19 Batch 500 Loss 0.0353\n",
            "Epoch 19 Batch 600 Loss 0.0462\n",
            "Epoch 19 Batch 700 Loss 0.0677\n",
            "Epoch 19 Batch 800 Loss 0.0829\n",
            "Epoch 19 Batch 900 Loss 0.0558\n",
            "Epoch 19 Batch 1000 Loss 0.0568\n",
            "Epoch 19 Batch 1100 Loss 0.1074\n",
            "Epoch 19 Batch 1200 Loss 0.0690\n",
            "Epoch 19 Loss 0.0641\n",
            "Time taken for 1 epoch 208.3451178073883 sec\n",
            "\n",
            "Epoch 20 Batch 0 Loss 0.0496\n",
            "Epoch 20 Batch 100 Loss 0.0698\n",
            "Epoch 20 Batch 200 Loss 0.0556\n",
            "Epoch 20 Batch 300 Loss 0.0687\n",
            "Epoch 20 Batch 400 Loss 0.0768\n",
            "Epoch 20 Batch 500 Loss 0.0727\n",
            "Epoch 20 Batch 600 Loss 0.0404\n",
            "Epoch 20 Batch 700 Loss 0.0674\n",
            "Epoch 20 Batch 800 Loss 0.0757\n",
            "Epoch 20 Batch 900 Loss 0.0595\n",
            "Epoch 20 Batch 1000 Loss 0.0810\n",
            "Epoch 20 Batch 1100 Loss 0.1053\n",
            "Epoch 20 Batch 1200 Loss 0.0723\n",
            "Epoch 20 Loss 0.0625\n",
            "Time taken for 1 epoch 208.32244992256165 sec\n",
            "\n",
            "Epoch 21 Batch 0 Loss 0.0467\n",
            "Epoch 21 Batch 100 Loss 0.0345\n",
            "Epoch 21 Batch 200 Loss 0.0298\n",
            "Epoch 21 Batch 300 Loss 0.0433\n",
            "Epoch 21 Batch 400 Loss 0.0749\n",
            "Epoch 21 Batch 500 Loss 0.0581\n",
            "Epoch 21 Batch 600 Loss 0.0861\n",
            "Epoch 21 Batch 700 Loss 0.0250\n",
            "Epoch 21 Batch 800 Loss 0.0589\n",
            "Epoch 21 Batch 900 Loss 0.0589\n",
            "Epoch 21 Batch 1000 Loss 0.0575\n",
            "Epoch 21 Batch 1100 Loss 0.0709\n",
            "Epoch 21 Batch 1200 Loss 0.0747\n",
            "Epoch 21 Loss 0.0615\n",
            "Time taken for 1 epoch 206.92120671272278 sec\n",
            "\n",
            "Epoch 22 Batch 0 Loss 0.0320\n",
            "Epoch 22 Batch 100 Loss 0.0550\n",
            "Epoch 22 Batch 200 Loss 0.0600\n",
            "Epoch 22 Batch 300 Loss 0.0705\n",
            "Epoch 22 Batch 400 Loss 0.0388\n",
            "Epoch 22 Batch 500 Loss 0.0438\n",
            "Epoch 22 Batch 600 Loss 0.0863\n",
            "Epoch 22 Batch 700 Loss 0.0519\n",
            "Epoch 22 Batch 800 Loss 0.0683\n",
            "Epoch 22 Batch 900 Loss 0.0749\n",
            "Epoch 22 Batch 1000 Loss 0.0360\n",
            "Epoch 22 Batch 1100 Loss 0.0429\n",
            "Epoch 22 Batch 1200 Loss 0.0700\n",
            "Epoch 22 Loss 0.0605\n",
            "Time taken for 1 epoch 208.35888171195984 sec\n",
            "\n",
            "Epoch 23 Batch 0 Loss 0.0336\n",
            "Epoch 23 Batch 100 Loss 0.0504\n",
            "Epoch 23 Batch 200 Loss 0.0521\n",
            "Epoch 23 Batch 300 Loss 0.0811\n",
            "Epoch 23 Batch 400 Loss 0.0459\n",
            "Epoch 23 Batch 500 Loss 0.0540\n",
            "Epoch 23 Batch 600 Loss 0.0667\n",
            "Epoch 23 Batch 700 Loss 0.0367\n",
            "Epoch 23 Batch 800 Loss 0.0587\n",
            "Epoch 23 Batch 900 Loss 0.0745\n",
            "Epoch 23 Batch 1000 Loss 0.1097\n",
            "Epoch 23 Batch 1100 Loss 0.0842\n",
            "Epoch 23 Batch 1200 Loss 0.0553\n",
            "Epoch 23 Loss 0.0592\n",
            "Time taken for 1 epoch 211.58105611801147 sec\n",
            "\n",
            "Epoch 24 Batch 0 Loss 0.0686\n",
            "Epoch 24 Batch 100 Loss 0.0410\n",
            "Epoch 24 Batch 200 Loss 0.0347\n",
            "Epoch 24 Batch 300 Loss 0.0564\n",
            "Epoch 24 Batch 400 Loss 0.0767\n",
            "Epoch 24 Batch 500 Loss 0.0428\n",
            "Epoch 24 Batch 600 Loss 0.0770\n",
            "Epoch 24 Batch 700 Loss 0.0902\n",
            "Epoch 24 Batch 800 Loss 0.0992\n",
            "Epoch 24 Batch 900 Loss 0.0262\n",
            "Epoch 24 Batch 1000 Loss 0.0572\n",
            "Epoch 24 Batch 1100 Loss 0.0823\n",
            "Epoch 24 Batch 1200 Loss 0.0723\n",
            "Epoch 24 Loss 0.0589\n",
            "Time taken for 1 epoch 208.55229568481445 sec\n",
            "\n",
            "Epoch 25 Batch 0 Loss 0.0448\n",
            "Epoch 25 Batch 100 Loss 0.0459\n",
            "Epoch 25 Batch 200 Loss 0.0192\n",
            "Epoch 25 Batch 300 Loss 0.0623\n",
            "Epoch 25 Batch 400 Loss 0.0401\n",
            "Epoch 25 Batch 500 Loss 0.0871\n",
            "Epoch 25 Batch 600 Loss 0.0748\n",
            "Epoch 25 Batch 700 Loss 0.0378\n",
            "Epoch 25 Batch 800 Loss 0.0728\n",
            "Epoch 25 Batch 900 Loss 0.0619\n",
            "Epoch 25 Batch 1000 Loss 0.0970\n",
            "Epoch 25 Batch 1100 Loss 0.1035\n",
            "Epoch 25 Batch 1200 Loss 0.0557\n",
            "Epoch 25 Loss 0.0579\n",
            "Time taken for 1 epoch 208.21226406097412 sec\n",
            "\n",
            "Epoch 26 Batch 0 Loss 0.0392\n",
            "Epoch 26 Batch 100 Loss 0.0561\n",
            "Epoch 26 Batch 200 Loss 0.0298\n",
            "Epoch 26 Batch 300 Loss 0.0514\n",
            "Epoch 26 Batch 400 Loss 0.0617\n",
            "Epoch 26 Batch 500 Loss 0.0854\n",
            "Epoch 26 Batch 600 Loss 0.0296\n",
            "Epoch 26 Batch 700 Loss 0.0699\n",
            "Epoch 26 Batch 800 Loss 0.0607\n",
            "Epoch 26 Batch 900 Loss 0.0330\n",
            "Epoch 26 Batch 1000 Loss 0.0503\n",
            "Epoch 26 Batch 1100 Loss 0.0539\n",
            "Epoch 26 Batch 1200 Loss 0.0272\n",
            "Epoch 26 Loss 0.0572\n",
            "Time taken for 1 epoch 208.39378261566162 sec\n",
            "\n",
            "Epoch 27 Batch 0 Loss 0.0221\n",
            "Epoch 27 Batch 100 Loss 0.0584\n",
            "Epoch 27 Batch 200 Loss 0.0599\n",
            "Epoch 27 Batch 300 Loss 0.0401\n",
            "Epoch 27 Batch 400 Loss 0.0352\n",
            "Epoch 27 Batch 500 Loss 0.0530\n",
            "Epoch 27 Batch 600 Loss 0.0714\n",
            "Epoch 27 Batch 700 Loss 0.0316\n",
            "Epoch 27 Batch 800 Loss 0.0470\n",
            "Epoch 27 Batch 900 Loss 0.0370\n",
            "Epoch 27 Batch 1000 Loss 0.0826\n",
            "Epoch 27 Batch 1100 Loss 0.0396\n",
            "Epoch 27 Batch 1200 Loss 0.0723\n",
            "Epoch 27 Loss 0.0559\n",
            "Time taken for 1 epoch 209.08315515518188 sec\n",
            "\n",
            "Epoch 28 Batch 0 Loss 0.0339\n",
            "Epoch 28 Batch 100 Loss 0.0471\n",
            "Epoch 28 Batch 200 Loss 0.0338\n",
            "Epoch 28 Batch 300 Loss 0.0572\n",
            "Epoch 28 Batch 400 Loss 0.0441\n",
            "Epoch 28 Batch 500 Loss 0.0759\n",
            "Epoch 28 Batch 600 Loss 0.0669\n",
            "Epoch 28 Batch 700 Loss 0.0653\n",
            "Epoch 28 Batch 800 Loss 0.0834\n",
            "Epoch 28 Batch 900 Loss 0.0827\n",
            "Epoch 28 Batch 1000 Loss 0.0838\n",
            "Epoch 28 Batch 1100 Loss 0.0666\n",
            "Epoch 28 Batch 1200 Loss 0.0787\n",
            "Epoch 28 Loss 0.0558\n",
            "Time taken for 1 epoch 210.96131658554077 sec\n",
            "\n",
            "Epoch 29 Batch 0 Loss 0.0426\n",
            "Epoch 29 Batch 100 Loss 0.0141\n",
            "Epoch 29 Batch 200 Loss 0.0355\n",
            "Epoch 29 Batch 300 Loss 0.0400\n",
            "Epoch 29 Batch 400 Loss 0.0687\n",
            "Epoch 29 Batch 500 Loss 0.0450\n",
            "Epoch 29 Batch 600 Loss 0.1010\n",
            "Epoch 29 Batch 700 Loss 0.0881\n",
            "Epoch 29 Batch 800 Loss 0.1038\n",
            "Epoch 29 Batch 900 Loss 0.0625\n",
            "Epoch 29 Batch 1000 Loss 0.0925\n",
            "Epoch 29 Batch 1100 Loss 0.0589\n",
            "Epoch 29 Batch 1200 Loss 0.0483\n",
            "Epoch 29 Loss 0.0547\n",
            "Time taken for 1 epoch 207.840425491333 sec\n",
            "\n",
            "Epoch 30 Batch 0 Loss 0.0224\n",
            "Epoch 30 Batch 100 Loss 0.0552\n",
            "Epoch 30 Batch 200 Loss 0.0280\n",
            "Epoch 30 Batch 300 Loss 0.0517\n",
            "Epoch 30 Batch 400 Loss 0.0161\n",
            "Epoch 30 Batch 500 Loss 0.0793\n",
            "Epoch 30 Batch 600 Loss 0.0406\n",
            "Epoch 30 Batch 700 Loss 0.0686\n",
            "Epoch 30 Batch 800 Loss 0.0593\n",
            "Epoch 30 Batch 900 Loss 0.0535\n",
            "Epoch 30 Batch 1000 Loss 0.1069\n",
            "Epoch 30 Batch 1100 Loss 0.0534\n",
            "Epoch 30 Batch 1200 Loss 0.0701\n",
            "Epoch 30 Loss 0.0542\n",
            "Time taken for 1 epoch 209.11353707313538 sec\n",
            "\n",
            "Epoch 31 Batch 0 Loss 0.0760\n",
            "Epoch 31 Batch 100 Loss 0.0455\n",
            "Epoch 31 Batch 200 Loss 0.0436\n",
            "Epoch 31 Batch 300 Loss 0.0510\n",
            "Epoch 31 Batch 400 Loss 0.0436\n",
            "Epoch 31 Batch 500 Loss 0.0483\n",
            "Epoch 31 Batch 600 Loss 0.0402\n",
            "Epoch 31 Batch 700 Loss 0.0519\n",
            "Epoch 31 Batch 800 Loss 0.0407\n",
            "Epoch 31 Batch 900 Loss 0.0416\n",
            "Epoch 31 Batch 1000 Loss 0.0383\n",
            "Epoch 31 Batch 1100 Loss 0.0578\n",
            "Epoch 31 Batch 1200 Loss 0.0832\n",
            "Epoch 31 Loss 0.0530\n",
            "Time taken for 1 epoch 208.81510758399963 sec\n",
            "\n",
            "Epoch 32 Batch 0 Loss 0.0349\n",
            "Epoch 32 Batch 100 Loss 0.0289\n",
            "Epoch 32 Batch 200 Loss 0.0366\n",
            "Epoch 32 Batch 300 Loss 0.0781\n",
            "Epoch 32 Batch 400 Loss 0.0639\n",
            "Epoch 32 Batch 500 Loss 0.0561\n",
            "Epoch 32 Batch 600 Loss 0.0387\n",
            "Epoch 32 Batch 700 Loss 0.0642\n",
            "Epoch 32 Batch 800 Loss 0.0650\n",
            "Epoch 32 Batch 900 Loss 0.0498\n",
            "Epoch 32 Batch 1000 Loss 0.0670\n",
            "Epoch 32 Batch 1100 Loss 0.1336\n",
            "Epoch 32 Batch 1200 Loss 0.0382\n",
            "Epoch 32 Loss 0.0532\n",
            "Time taken for 1 epoch 208.46180295944214 sec\n",
            "\n",
            "Epoch 33 Batch 0 Loss 0.0373\n",
            "Epoch 33 Batch 100 Loss 0.0320\n",
            "Epoch 33 Batch 200 Loss 0.0359\n",
            "Epoch 33 Batch 300 Loss 0.0722\n",
            "Epoch 33 Batch 400 Loss 0.0792\n",
            "Epoch 33 Batch 500 Loss 0.0314\n",
            "Epoch 33 Batch 600 Loss 0.0411\n",
            "Epoch 33 Batch 700 Loss 0.0726\n",
            "Epoch 33 Batch 800 Loss 0.0885\n",
            "Epoch 33 Batch 900 Loss 0.0433\n",
            "Epoch 33 Batch 1000 Loss 0.0562\n",
            "Epoch 33 Batch 1100 Loss 0.0610\n",
            "Epoch 33 Batch 1200 Loss 0.0860\n",
            "Epoch 33 Loss 0.0526\n",
            "Time taken for 1 epoch 207.217143535614 sec\n",
            "\n",
            "Epoch 34 Batch 0 Loss 0.0552\n",
            "Epoch 34 Batch 100 Loss 0.0501\n",
            "Epoch 34 Batch 200 Loss 0.0546\n",
            "Epoch 34 Batch 300 Loss 0.0319\n",
            "Epoch 34 Batch 400 Loss 0.0329\n",
            "Epoch 34 Batch 500 Loss 0.0583\n",
            "Epoch 34 Batch 600 Loss 0.0531\n",
            "Epoch 34 Batch 700 Loss 0.0609\n",
            "Epoch 34 Batch 800 Loss 0.0226\n",
            "Epoch 34 Batch 900 Loss 0.0461\n",
            "Epoch 34 Batch 1000 Loss 0.0495\n",
            "Epoch 34 Batch 1100 Loss 0.0542\n",
            "Epoch 34 Batch 1200 Loss 0.0695\n",
            "Epoch 34 Loss 0.0517\n",
            "Time taken for 1 epoch 207.4317011833191 sec\n",
            "\n",
            "Epoch 35 Batch 0 Loss 0.0593\n",
            "Epoch 35 Batch 100 Loss 0.0473\n",
            "Epoch 35 Batch 200 Loss 0.0445\n",
            "Epoch 35 Batch 300 Loss 0.0509\n",
            "Epoch 35 Batch 400 Loss 0.0410\n",
            "Epoch 35 Batch 500 Loss 0.0198\n",
            "Epoch 35 Batch 600 Loss 0.0695\n",
            "Epoch 35 Batch 700 Loss 0.0385\n",
            "Epoch 35 Batch 800 Loss 0.0591\n",
            "Epoch 35 Batch 900 Loss 0.0421\n",
            "Epoch 35 Batch 1000 Loss 0.0572\n",
            "Epoch 35 Batch 1100 Loss 0.0870\n",
            "Epoch 35 Batch 1200 Loss 0.1034\n",
            "Epoch 35 Loss 0.0512\n",
            "Time taken for 1 epoch 206.3324854373932 sec\n",
            "\n",
            "Epoch 36 Batch 0 Loss 0.0195\n",
            "Epoch 36 Batch 100 Loss 0.0455\n",
            "Epoch 36 Batch 200 Loss 0.0347\n",
            "Epoch 36 Batch 300 Loss 0.0405\n",
            "Epoch 36 Batch 400 Loss 0.0343\n",
            "Epoch 36 Batch 500 Loss 0.0384\n",
            "Epoch 36 Batch 600 Loss 0.0374\n",
            "Epoch 36 Batch 700 Loss 0.0324\n",
            "Epoch 36 Batch 800 Loss 0.0518\n",
            "Epoch 36 Batch 900 Loss 0.0484\n",
            "Epoch 36 Batch 1000 Loss 0.0881\n",
            "Epoch 36 Batch 1100 Loss 0.0697\n",
            "Epoch 36 Batch 1200 Loss 0.0667\n",
            "Epoch 36 Loss 0.0508\n",
            "Time taken for 1 epoch 206.79395747184753 sec\n",
            "\n",
            "Epoch 37 Batch 0 Loss 0.0538\n",
            "Epoch 37 Batch 100 Loss 0.0423\n",
            "Epoch 37 Batch 200 Loss 0.0651\n",
            "Epoch 37 Batch 300 Loss 0.0362\n",
            "Epoch 37 Batch 400 Loss 0.0339\n",
            "Epoch 37 Batch 500 Loss 0.0598\n",
            "Epoch 37 Batch 600 Loss 0.0545\n",
            "Epoch 37 Batch 700 Loss 0.0187\n",
            "Epoch 37 Batch 800 Loss 0.0316\n",
            "Epoch 37 Batch 900 Loss 0.0432\n",
            "Epoch 37 Batch 1000 Loss 0.0797\n",
            "Epoch 37 Batch 1100 Loss 0.0807\n",
            "Epoch 37 Batch 1200 Loss 0.0403\n",
            "Epoch 37 Loss 0.0502\n",
            "Time taken for 1 epoch 204.21801590919495 sec\n",
            "\n",
            "Epoch 38 Batch 0 Loss 0.0316\n",
            "Epoch 38 Batch 100 Loss 0.0240\n",
            "Epoch 38 Batch 200 Loss 0.0452\n",
            "Epoch 38 Batch 300 Loss 0.0620\n",
            "Epoch 38 Batch 400 Loss 0.0430\n",
            "Epoch 38 Batch 500 Loss 0.0450\n",
            "Epoch 38 Batch 600 Loss 0.0349\n",
            "Epoch 38 Batch 700 Loss 0.0724\n",
            "Epoch 38 Batch 800 Loss 0.0455\n",
            "Epoch 38 Batch 900 Loss 0.0435\n",
            "Epoch 38 Batch 1000 Loss 0.0400\n",
            "Epoch 38 Batch 1100 Loss 0.0543\n",
            "Epoch 38 Batch 1200 Loss 0.0526\n",
            "Epoch 38 Loss 0.0499\n",
            "Time taken for 1 epoch 204.52197527885437 sec\n",
            "\n",
            "Epoch 39 Batch 0 Loss 0.0324\n",
            "Epoch 39 Batch 100 Loss 0.0668\n",
            "Epoch 39 Batch 200 Loss 0.0459\n",
            "Epoch 39 Batch 300 Loss 0.0302\n",
            "Epoch 39 Batch 400 Loss 0.0423\n",
            "Epoch 39 Batch 500 Loss 0.0365\n",
            "Epoch 39 Batch 600 Loss 0.0437\n",
            "Epoch 39 Batch 700 Loss 0.0413\n",
            "Epoch 39 Batch 800 Loss 0.0497\n",
            "Epoch 39 Batch 900 Loss 0.0442\n",
            "Epoch 39 Batch 1000 Loss 0.0578\n",
            "Epoch 39 Batch 1100 Loss 0.0366\n",
            "Epoch 39 Batch 1200 Loss 0.0958\n",
            "Epoch 39 Loss 0.0497\n",
            "Time taken for 1 epoch 204.8449592590332 sec\n",
            "\n",
            "Epoch 40 Batch 0 Loss 0.0616\n",
            "Epoch 40 Batch 100 Loss 0.0458\n",
            "Epoch 40 Batch 200 Loss 0.0566\n",
            "Epoch 40 Batch 300 Loss 0.0557\n",
            "Epoch 40 Batch 400 Loss 0.0362\n",
            "Epoch 40 Batch 500 Loss 0.0409\n",
            "Epoch 40 Batch 600 Loss 0.0687\n",
            "Epoch 40 Batch 700 Loss 0.0699\n",
            "Epoch 40 Batch 800 Loss 0.0681\n",
            "Epoch 40 Batch 900 Loss 0.0303\n",
            "Epoch 40 Batch 1000 Loss 0.0422\n",
            "Epoch 40 Batch 1100 Loss 0.0352\n",
            "Epoch 40 Batch 1200 Loss 0.0383\n",
            "Epoch 40 Loss 0.0495\n",
            "Time taken for 1 epoch 204.05734848976135 sec\n",
            "\n",
            "Epoch 41 Batch 0 Loss 0.0287\n",
            "Epoch 41 Batch 100 Loss 0.0335\n",
            "Epoch 41 Batch 200 Loss 0.0415\n",
            "Epoch 41 Batch 300 Loss 0.0400\n",
            "Epoch 41 Batch 400 Loss 0.0347\n",
            "Epoch 41 Batch 500 Loss 0.0339\n",
            "Epoch 41 Batch 600 Loss 0.0423\n",
            "Epoch 41 Batch 700 Loss 0.0249\n",
            "Epoch 41 Batch 800 Loss 0.0369\n",
            "Epoch 41 Batch 900 Loss 0.0506\n",
            "Epoch 41 Batch 1000 Loss 0.0385\n",
            "Epoch 41 Batch 1100 Loss 0.0581\n",
            "Epoch 41 Batch 1200 Loss 0.0638\n",
            "Epoch 41 Loss 0.0482\n",
            "Time taken for 1 epoch 206.37548089027405 sec\n",
            "\n",
            "Epoch 42 Batch 0 Loss 0.0284\n",
            "Epoch 42 Batch 100 Loss 0.0233\n",
            "Epoch 42 Batch 200 Loss 0.0336\n",
            "Epoch 42 Batch 300 Loss 0.0275\n",
            "Epoch 42 Batch 400 Loss 0.0617\n",
            "Epoch 42 Batch 500 Loss 0.0344\n",
            "Epoch 42 Batch 600 Loss 0.0577\n",
            "Epoch 42 Batch 700 Loss 0.0663\n",
            "Epoch 42 Batch 800 Loss 0.0913\n",
            "Epoch 42 Batch 900 Loss 0.0400\n",
            "Epoch 42 Batch 1000 Loss 0.0830\n",
            "Epoch 42 Batch 1100 Loss 0.0949\n",
            "Epoch 42 Batch 1200 Loss 0.0612\n",
            "Epoch 42 Loss 0.0480\n",
            "Time taken for 1 epoch 203.3614308834076 sec\n",
            "\n",
            "Epoch 43 Batch 0 Loss 0.0392\n",
            "Epoch 43 Batch 100 Loss 0.0115\n",
            "Epoch 43 Batch 200 Loss 0.0675\n",
            "Epoch 43 Batch 300 Loss 0.0303\n",
            "Epoch 43 Batch 400 Loss 0.0434\n",
            "Epoch 43 Batch 500 Loss 0.0475\n",
            "Epoch 43 Batch 600 Loss 0.0651\n",
            "Epoch 43 Batch 700 Loss 0.0675\n",
            "Epoch 43 Batch 800 Loss 0.0427\n",
            "Epoch 43 Batch 900 Loss 0.0448\n",
            "Epoch 43 Batch 1000 Loss 0.0605\n",
            "Epoch 43 Batch 1100 Loss 0.0587\n",
            "Epoch 43 Batch 1200 Loss 0.0387\n",
            "Epoch 43 Loss 0.0481\n",
            "Time taken for 1 epoch 203.6599953174591 sec\n",
            "\n",
            "Epoch 44 Batch 0 Loss 0.0620\n",
            "Epoch 44 Batch 100 Loss 0.0242\n",
            "Epoch 44 Batch 200 Loss 0.0555\n",
            "Epoch 44 Batch 300 Loss 0.0440\n",
            "Epoch 44 Batch 400 Loss 0.0730\n",
            "Epoch 44 Batch 500 Loss 0.0442\n",
            "Epoch 44 Batch 600 Loss 0.0174\n",
            "Epoch 44 Batch 700 Loss 0.0570\n",
            "Epoch 44 Batch 800 Loss 0.0378\n",
            "Epoch 44 Batch 900 Loss 0.0786\n",
            "Epoch 44 Batch 1000 Loss 0.0469\n",
            "Epoch 44 Batch 1100 Loss 0.0400\n",
            "Epoch 44 Batch 1200 Loss 0.0383\n",
            "Epoch 44 Loss 0.0475\n",
            "Time taken for 1 epoch 203.77047848701477 sec\n",
            "\n",
            "Epoch 45 Batch 0 Loss 0.0448\n",
            "Epoch 45 Batch 100 Loss 0.0321\n",
            "Epoch 45 Batch 200 Loss 0.0332\n",
            "Epoch 45 Batch 300 Loss 0.0617\n",
            "Epoch 45 Batch 400 Loss 0.0436\n",
            "Epoch 45 Batch 500 Loss 0.0317\n",
            "Epoch 45 Batch 600 Loss 0.0389\n",
            "Epoch 45 Batch 700 Loss 0.0440\n",
            "Epoch 45 Batch 800 Loss 0.0534\n",
            "Epoch 45 Batch 900 Loss 0.0586\n",
            "Epoch 45 Batch 1000 Loss 0.0830\n",
            "Epoch 45 Batch 1100 Loss 0.0275\n",
            "Epoch 45 Batch 1200 Loss 0.0857\n",
            "Epoch 45 Loss 0.0471\n",
            "Time taken for 1 epoch 204.559828042984 sec\n",
            "\n",
            "Epoch 46 Batch 0 Loss 0.0164\n",
            "Epoch 46 Batch 100 Loss 0.0285\n",
            "Epoch 46 Batch 200 Loss 0.0211\n",
            "Epoch 46 Batch 300 Loss 0.0357\n",
            "Epoch 46 Batch 400 Loss 0.0396\n",
            "Epoch 46 Batch 500 Loss 0.0402\n",
            "Epoch 46 Batch 600 Loss 0.0236\n",
            "Epoch 46 Batch 700 Loss 0.0538\n",
            "Epoch 46 Batch 800 Loss 0.0730\n",
            "Epoch 46 Batch 900 Loss 0.0454\n",
            "Epoch 46 Batch 1000 Loss 0.0537\n",
            "Epoch 46 Batch 1100 Loss 0.0395\n",
            "Epoch 46 Batch 1200 Loss 0.0547\n",
            "Epoch 46 Loss 0.0464\n",
            "Time taken for 1 epoch 204.71077275276184 sec\n",
            "\n",
            "Epoch 47 Batch 0 Loss 0.0574\n",
            "Epoch 47 Batch 100 Loss 0.0221\n",
            "Epoch 47 Batch 200 Loss 0.0493\n",
            "Epoch 47 Batch 300 Loss 0.0309\n",
            "Epoch 47 Batch 400 Loss 0.0385\n",
            "Epoch 47 Batch 500 Loss 0.0377\n",
            "Epoch 47 Batch 600 Loss 0.0433\n",
            "Epoch 47 Batch 700 Loss 0.0396\n",
            "Epoch 47 Batch 800 Loss 0.0679\n",
            "Epoch 47 Batch 900 Loss 0.0523\n",
            "Epoch 47 Batch 1000 Loss 0.0847\n",
            "Epoch 47 Batch 1100 Loss 0.0422\n",
            "Epoch 47 Batch 1200 Loss 0.0607\n",
            "Epoch 47 Loss 0.0465\n",
            "Time taken for 1 epoch 204.72599816322327 sec\n",
            "\n",
            "Epoch 48 Batch 0 Loss 0.0243\n",
            "Epoch 48 Batch 100 Loss 0.0515\n",
            "Epoch 48 Batch 200 Loss 0.0375\n",
            "Epoch 48 Batch 300 Loss 0.0476\n",
            "Epoch 48 Batch 400 Loss 0.0301\n",
            "Epoch 48 Batch 500 Loss 0.0648\n",
            "Epoch 48 Batch 600 Loss 0.0366\n",
            "Epoch 48 Batch 700 Loss 0.0254\n",
            "Epoch 48 Batch 800 Loss 0.0639\n",
            "Epoch 48 Batch 900 Loss 0.0546\n",
            "Epoch 48 Batch 1000 Loss 0.0578\n",
            "Epoch 48 Batch 1100 Loss 0.0458\n",
            "Epoch 48 Batch 1200 Loss 0.0445\n",
            "Epoch 48 Loss 0.0468\n",
            "Time taken for 1 epoch 204.11289072036743 sec\n",
            "\n",
            "Epoch 49 Batch 0 Loss 0.0362\n",
            "Epoch 49 Batch 100 Loss 0.0487\n",
            "Epoch 49 Batch 200 Loss 0.0220\n",
            "Epoch 49 Batch 300 Loss 0.0395\n",
            "Epoch 49 Batch 400 Loss 0.0528\n",
            "Epoch 49 Batch 500 Loss 0.0343\n",
            "Epoch 49 Batch 600 Loss 0.0446\n",
            "Epoch 49 Batch 700 Loss 0.0172\n",
            "Epoch 49 Batch 800 Loss 0.0437\n",
            "Epoch 49 Batch 900 Loss 0.0490\n",
            "Epoch 49 Batch 1000 Loss 0.0482\n",
            "Epoch 49 Batch 1100 Loss 0.0722\n",
            "Epoch 49 Batch 1200 Loss 0.0521\n",
            "Epoch 49 Loss 0.0458\n",
            "Time taken for 1 epoch 204.66956996917725 sec\n",
            "\n",
            "Epoch 50 Batch 0 Loss 0.0263\n",
            "Epoch 50 Batch 100 Loss 0.0415\n",
            "Epoch 50 Batch 200 Loss 0.0275\n",
            "Epoch 50 Batch 300 Loss 0.0456\n",
            "Epoch 50 Batch 400 Loss 0.0359\n",
            "Epoch 50 Batch 500 Loss 0.0560\n",
            "Epoch 50 Batch 600 Loss 0.0439\n",
            "Epoch 50 Batch 700 Loss 0.0520\n",
            "Epoch 50 Batch 800 Loss 0.0565\n",
            "Epoch 50 Batch 900 Loss 0.0431\n",
            "Epoch 50 Batch 1000 Loss 0.0670\n",
            "Epoch 50 Batch 1100 Loss 0.0561\n",
            "Epoch 50 Batch 1200 Loss 0.0613\n",
            "Epoch 50 Loss 0.0461\n",
            "Time taken for 1 epoch 204.89889907836914 sec\n",
            "\n"
          ],
          "name": "stdout"
        }
      ]
    },
    {
      "cell_type": "markdown",
      "metadata": {
        "id": "mU3Ce8M6I3rz"
      },
      "source": [
        "## Translate\n",
        "\n",
        "* The evaluate function is similar to the training loop, except we don't use *teacher forcing* here. The input to the decoder at each time step is its previous predictions along with the hidden state and the encoder output.\n",
        "* Stop predicting when the model predicts the *end token*.\n",
        "* And store the *attention weights for every time step*.\n",
        "\n",
        "Note: The encoder output is calculated only once for one input."
      ]
    },
    {
      "cell_type": "code",
      "metadata": {
        "id": "EbQpyYs13jF_"
      },
      "source": [
        "def evaluate(sentence):\n",
        "  attention_plot = np.zeros((max_length_targ, max_length_inp))\n",
        "\n",
        "  sentence = preprocess_sentence(sentence)\n",
        "\n",
        "  inputs = [inp_lang.word_index[i] for i in sentence.split(' ')]\n",
        "  inputs = tf.keras.preprocessing.sequence.pad_sequences([inputs],\n",
        "                                                         maxlen=max_length_inp,\n",
        "                                                         padding='post')\n",
        "  inputs = tf.convert_to_tensor(inputs)\n",
        "\n",
        "  result = ''\n",
        "\n",
        "  hidden = [tf.zeros((1, units))]\n",
        "  enc_hidden = encoder(inputs, hidden)\n",
        "\n",
        "  dec_hidden = enc_hidden\n",
        "  dec_input = tf.expand_dims([targ_lang.word_index['<start>']], 0)\n",
        "\n",
        "  for t in range(max_length_targ):\n",
        "    predictions, dec_hidden = decoder(dec_input, dec_hidden)\n",
        "\n",
        "    # storing the attention weights to plot later on\n",
        "    predicted_id = tf.argmax(predictions[0]).numpy()\n",
        "    result += targ_lang.index_word[predicted_id] + ' '\n",
        "\n",
        "    if targ_lang.index_word[predicted_id] == '<end>':\n",
        "      return result, sentence\n",
        "\n",
        "    # the predicted ID is fed back into the model\n",
        "    dec_input = tf.expand_dims([predicted_id], 0)\n",
        "\n",
        "  return result, sentence"
      ],
      "execution_count": 29,
      "outputs": []
    },
    {
      "cell_type": "code",
      "metadata": {
        "id": "sl9zUHzg3jGI"
      },
      "source": [
        "def translate(sentence):\n",
        "  result, sentence = evaluate(sentence)\n",
        "\n",
        "  print('Input: %s' % (sentence))\n",
        "  print('Predicted translation: {}'.format(result))"
      ],
      "execution_count": 30,
      "outputs": []
    },
    {
      "cell_type": "markdown",
      "metadata": {
        "id": "n250XbnjOaqP"
      },
      "source": [
        "## Restore the latest checkpoint and test"
      ]
    },
    {
      "cell_type": "code",
      "metadata": {
        "id": "UJpT9D5_OgP6",
        "colab": {
          "base_uri": "https://localhost:8080/"
        },
        "outputId": "fed01012-39a2-4fcc-febb-772080a99db2"
      },
      "source": [
        "# restoring the latest checkpoint in checkpoint_dir\n",
        "checkpoint.restore(tf.train.latest_checkpoint(checkpoint_dir))"
      ],
      "execution_count": 31,
      "outputs": [
        {
          "output_type": "execute_result",
          "data": {
            "text/plain": [
              "<tensorflow.python.training.tracking.util.CheckpointLoadStatus at 0x7fe625f8c450>"
            ]
          },
          "metadata": {
            "tags": []
          },
          "execution_count": 31
        }
      ]
    },
    {
      "cell_type": "code",
      "metadata": {
        "id": "WrAM0FDomq3E",
        "colab": {
          "base_uri": "https://localhost:8080/"
        },
        "outputId": "3bb7755d-5497-4020-a3da-1b6106af13e3"
      },
      "source": [
        "translate('Здесь хорошо.')"
      ],
      "execution_count": 32,
      "outputs": [
        {
          "output_type": "stream",
          "text": [
            "Input: <start> здесь хорошо . <end>\n",
            "Predicted translation: it's good here . <end> \n"
          ],
          "name": "stdout"
        }
      ]
    },
    {
      "cell_type": "code",
      "metadata": {
        "id": "5bhFfwcIMX5i",
        "colab": {
          "base_uri": "https://localhost:8080/"
        },
        "outputId": "3754e8f6-7988-4663-f37b-6968ce7403e5"
      },
      "source": [
        "translate('Я не смогу поехать.')"
      ],
      "execution_count": 33,
      "outputs": [
        {
          "output_type": "stream",
          "text": [
            "Input: <start> я не смогу поехать . <end>\n",
            "Predicted translation: i can't go . <end> \n"
          ],
          "name": "stdout"
        }
      ]
    },
    {
      "cell_type": "code",
      "metadata": {
        "id": "zSx2iM36EZQZ",
        "colab": {
          "base_uri": "https://localhost:8080/"
        },
        "outputId": "9513d66e-02f3-4d15-859e-21060bafd00a"
      },
      "source": [
        "translate(u'Вы еще дома?')"
      ],
      "execution_count": 34,
      "outputs": [
        {
          "output_type": "stream",
          "text": [
            "Input: <start> вы еще дома ? <end>\n",
            "Predicted translation: are you still at home ? <end> \n"
          ],
          "name": "stdout"
        }
      ]
    },
    {
      "cell_type": "code",
      "metadata": {
        "id": "A3LLCx3ZE0Ls",
        "colab": {
          "base_uri": "https://localhost:8080/"
        },
        "outputId": "e1069e57-4e9d-449e-e75c-1fb22ea3caae"
      },
      "source": [
        "translate(u'Вы все еще дома?')"
      ],
      "execution_count": 35,
      "outputs": [
        {
          "output_type": "stream",
          "text": [
            "Input: <start> вы все еще дома ? <end>\n",
            "Predicted translation: are you still at home ? <end> \n"
          ],
          "name": "stdout"
        }
      ]
    },
    {
      "cell_type": "code",
      "metadata": {
        "id": "DUQVLVqUE1YW",
        "colab": {
          "base_uri": "https://localhost:8080/"
        },
        "outputId": "a4f36c32-c0f4-4561-bd7a-10f6b5577537"
      },
      "source": [
        "translate(u'Попробуй сделать это.')"
      ],
      "execution_count": 36,
      "outputs": [
        {
          "output_type": "stream",
          "text": [
            "Input: <start> попробуй сделать это . <end>\n",
            "Predicted translation: try and see it . <end> \n"
          ],
          "name": "stdout"
        }
      ]
    },
    {
      "cell_type": "code",
      "metadata": {
        "id": "f09_hUFx9EJh",
        "colab": {
          "base_uri": "https://localhost:8080/"
        },
        "outputId": "4c6b8f65-56c6-4774-dc95-78d3c7941188"
      },
      "source": [
        "translate(u'Я люблю, когда идет снег.')"
      ],
      "execution_count": 37,
      "outputs": [
        {
          "output_type": "stream",
          "text": [
            "Input: <start> я люблю , когда идет снег . <end>\n",
            "Predicted translation: i like him jump . <end> \n"
          ],
          "name": "stdout"
        }
      ]
    },
    {
      "cell_type": "code",
      "metadata": {
        "id": "e7c5p8rmkHQG",
        "colab": {
          "base_uri": "https://localhost:8080/"
        },
        "outputId": "a80c4d39-a197-46d2-b048-5a2b84d0d1a4"
      },
      "source": [
        "translate(u'Я никогда такого не делаю.')"
      ],
      "execution_count": 38,
      "outputs": [
        {
          "output_type": "stream",
          "text": [
            "Input: <start> я никогда такого не делаю . <end>\n",
            "Predicted translation: i never do that . <end> \n"
          ],
          "name": "stdout"
        }
      ]
    },
    {
      "cell_type": "code",
      "metadata": {
        "id": "jdXES85KkTVS",
        "colab": {
          "base_uri": "https://localhost:8080/"
        },
        "outputId": "214f930a-fda7-47e9-caf1-54b81958f0e7"
      },
      "source": [
        "translate(u'идет дождь.')"
      ],
      "execution_count": 39,
      "outputs": [
        {
          "output_type": "stream",
          "text": [
            "Input: <start> идет дождь . <end>\n",
            "Predicted translation: it is raining . <end> \n"
          ],
          "name": "stdout"
        }
      ]
    },
    {
      "cell_type": "code",
      "metadata": {
        "colab": {
          "base_uri": "https://localhost:8080/"
        },
        "id": "rMux_yTALqnJ",
        "outputId": "b937207b-7228-44e0-de17-581400f286ab"
      },
      "source": [
        "translate(u'зимой идет дождь.')"
      ],
      "execution_count": 40,
      "outputs": [
        {
          "output_type": "stream",
          "text": [
            "Input: <start> зимой идет дождь . <end>\n",
            "Predicted translation: it is raining . <end> \n"
          ],
          "name": "stdout"
        }
      ]
    },
    {
      "cell_type": "code",
      "metadata": {
        "colab": {
          "base_uri": "https://localhost:8080/"
        },
        "id": "yKcAnRltLqsm",
        "outputId": "15af3e7a-0733-44fe-81ac-3dca7351738c"
      },
      "source": [
        "translate(u'иногда зимой идет дождь.')"
      ],
      "execution_count": 41,
      "outputs": [
        {
          "output_type": "stream",
          "text": [
            "Input: <start> иногда зимой идет дождь . <end>\n",
            "Predicted translation: it rain and hide . <end> \n"
          ],
          "name": "stdout"
        }
      ]
    },
    {
      "cell_type": "code",
      "metadata": {
        "colab": {
          "base_uri": "https://localhost:8080/",
          "height": 307
        },
        "id": "jseiirgbLqvu",
        "outputId": "63218341-ab7f-4b1a-d94f-ffb64e87c682"
      },
      "source": [
        "translate(u'иногда ранней зимой идет дождь.')"
      ],
      "execution_count": 42,
      "outputs": [
        {
          "output_type": "error",
          "ename": "KeyError",
          "evalue": "ignored",
          "traceback": [
            "\u001b[0;31m---------------------------------------------------------------------------\u001b[0m",
            "\u001b[0;31mKeyError\u001b[0m                                  Traceback (most recent call last)",
            "\u001b[0;32m<ipython-input-42-195aff6cade6>\u001b[0m in \u001b[0;36m<module>\u001b[0;34m()\u001b[0m\n\u001b[0;32m----> 1\u001b[0;31m \u001b[0mtranslate\u001b[0m\u001b[0;34m(\u001b[0m\u001b[0;34mu'иногда ранней зимой идет дождь.'\u001b[0m\u001b[0;34m)\u001b[0m\u001b[0;34m\u001b[0m\u001b[0;34m\u001b[0m\u001b[0m\n\u001b[0m",
            "\u001b[0;32m<ipython-input-30-d01480530bee>\u001b[0m in \u001b[0;36mtranslate\u001b[0;34m(sentence)\u001b[0m\n\u001b[1;32m      1\u001b[0m \u001b[0;32mdef\u001b[0m \u001b[0mtranslate\u001b[0m\u001b[0;34m(\u001b[0m\u001b[0msentence\u001b[0m\u001b[0;34m)\u001b[0m\u001b[0;34m:\u001b[0m\u001b[0;34m\u001b[0m\u001b[0;34m\u001b[0m\u001b[0m\n\u001b[0;32m----> 2\u001b[0;31m   \u001b[0mresult\u001b[0m\u001b[0;34m,\u001b[0m \u001b[0msentence\u001b[0m \u001b[0;34m=\u001b[0m \u001b[0mevaluate\u001b[0m\u001b[0;34m(\u001b[0m\u001b[0msentence\u001b[0m\u001b[0;34m)\u001b[0m\u001b[0;34m\u001b[0m\u001b[0;34m\u001b[0m\u001b[0m\n\u001b[0m\u001b[1;32m      3\u001b[0m \u001b[0;34m\u001b[0m\u001b[0m\n\u001b[1;32m      4\u001b[0m   \u001b[0mprint\u001b[0m\u001b[0;34m(\u001b[0m\u001b[0;34m'Input: %s'\u001b[0m \u001b[0;34m%\u001b[0m \u001b[0;34m(\u001b[0m\u001b[0msentence\u001b[0m\u001b[0;34m)\u001b[0m\u001b[0;34m)\u001b[0m\u001b[0;34m\u001b[0m\u001b[0;34m\u001b[0m\u001b[0m\n\u001b[1;32m      5\u001b[0m   \u001b[0mprint\u001b[0m\u001b[0;34m(\u001b[0m\u001b[0;34m'Predicted translation: {}'\u001b[0m\u001b[0;34m.\u001b[0m\u001b[0mformat\u001b[0m\u001b[0;34m(\u001b[0m\u001b[0mresult\u001b[0m\u001b[0;34m)\u001b[0m\u001b[0;34m)\u001b[0m\u001b[0;34m\u001b[0m\u001b[0;34m\u001b[0m\u001b[0m\n",
            "\u001b[0;32m<ipython-input-29-baaeed8448d5>\u001b[0m in \u001b[0;36mevaluate\u001b[0;34m(sentence)\u001b[0m\n\u001b[1;32m      4\u001b[0m   \u001b[0msentence\u001b[0m \u001b[0;34m=\u001b[0m \u001b[0mpreprocess_sentence\u001b[0m\u001b[0;34m(\u001b[0m\u001b[0msentence\u001b[0m\u001b[0;34m)\u001b[0m\u001b[0;34m\u001b[0m\u001b[0;34m\u001b[0m\u001b[0m\n\u001b[1;32m      5\u001b[0m \u001b[0;34m\u001b[0m\u001b[0m\n\u001b[0;32m----> 6\u001b[0;31m   \u001b[0minputs\u001b[0m \u001b[0;34m=\u001b[0m \u001b[0;34m[\u001b[0m\u001b[0minp_lang\u001b[0m\u001b[0;34m.\u001b[0m\u001b[0mword_index\u001b[0m\u001b[0;34m[\u001b[0m\u001b[0mi\u001b[0m\u001b[0;34m]\u001b[0m \u001b[0;32mfor\u001b[0m \u001b[0mi\u001b[0m \u001b[0;32min\u001b[0m \u001b[0msentence\u001b[0m\u001b[0;34m.\u001b[0m\u001b[0msplit\u001b[0m\u001b[0;34m(\u001b[0m\u001b[0;34m' '\u001b[0m\u001b[0;34m)\u001b[0m\u001b[0;34m]\u001b[0m\u001b[0;34m\u001b[0m\u001b[0;34m\u001b[0m\u001b[0m\n\u001b[0m\u001b[1;32m      7\u001b[0m   inputs = tf.keras.preprocessing.sequence.pad_sequences([inputs],\n\u001b[1;32m      8\u001b[0m                                                          \u001b[0mmaxlen\u001b[0m\u001b[0;34m=\u001b[0m\u001b[0mmax_length_inp\u001b[0m\u001b[0;34m,\u001b[0m\u001b[0;34m\u001b[0m\u001b[0;34m\u001b[0m\u001b[0m\n",
            "\u001b[0;32m<ipython-input-29-baaeed8448d5>\u001b[0m in \u001b[0;36m<listcomp>\u001b[0;34m(.0)\u001b[0m\n\u001b[1;32m      4\u001b[0m   \u001b[0msentence\u001b[0m \u001b[0;34m=\u001b[0m \u001b[0mpreprocess_sentence\u001b[0m\u001b[0;34m(\u001b[0m\u001b[0msentence\u001b[0m\u001b[0;34m)\u001b[0m\u001b[0;34m\u001b[0m\u001b[0;34m\u001b[0m\u001b[0m\n\u001b[1;32m      5\u001b[0m \u001b[0;34m\u001b[0m\u001b[0m\n\u001b[0;32m----> 6\u001b[0;31m   \u001b[0minputs\u001b[0m \u001b[0;34m=\u001b[0m \u001b[0;34m[\u001b[0m\u001b[0minp_lang\u001b[0m\u001b[0;34m.\u001b[0m\u001b[0mword_index\u001b[0m\u001b[0;34m[\u001b[0m\u001b[0mi\u001b[0m\u001b[0;34m]\u001b[0m \u001b[0;32mfor\u001b[0m \u001b[0mi\u001b[0m \u001b[0;32min\u001b[0m \u001b[0msentence\u001b[0m\u001b[0;34m.\u001b[0m\u001b[0msplit\u001b[0m\u001b[0;34m(\u001b[0m\u001b[0;34m' '\u001b[0m\u001b[0;34m)\u001b[0m\u001b[0;34m]\u001b[0m\u001b[0;34m\u001b[0m\u001b[0;34m\u001b[0m\u001b[0m\n\u001b[0m\u001b[1;32m      7\u001b[0m   inputs = tf.keras.preprocessing.sequence.pad_sequences([inputs],\n\u001b[1;32m      8\u001b[0m                                                          \u001b[0mmaxlen\u001b[0m\u001b[0;34m=\u001b[0m\u001b[0mmax_length_inp\u001b[0m\u001b[0;34m,\u001b[0m\u001b[0;34m\u001b[0m\u001b[0;34m\u001b[0m\u001b[0m\n",
            "\u001b[0;31mKeyError\u001b[0m: 'ранней'"
          ]
        }
      ]
    },
    {
      "cell_type": "code",
      "metadata": {
        "id": "Itu2_QjhLz6a"
      },
      "source": [
        "translate(u'иногда ранней зимой по утрам идет дождь.')"
      ],
      "execution_count": null,
      "outputs": []
    }
  ]
}